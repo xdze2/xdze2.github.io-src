{
 "cells": [
  {
   "cell_type": "code",
   "execution_count": 22,
   "metadata": {
    "collapsed": true,
    "deletable": true,
    "editable": true
   },
   "outputs": [],
   "source": [
    "import numpy as np\n",
    "\n",
    "import matplotlib.pyplot as plt\n",
    "%matplotlib inline"
   ]
  },
  {
   "cell_type": "markdown",
   "metadata": {
    "deletable": true,
    "editable": true
   },
   "source": [
    "# Test statistique\n",
    "\n",
    "Cette hypothèse est vraisemablement nulle"
   ]
  },
  {
   "cell_type": "markdown",
   "metadata": {
    "deletable": true,
    "editable": true
   },
   "source": [
    "http://www.biostat.envt.fr/spip/IMG/pdf/cours1.pdf"
   ]
  },
  {
   "cell_type": "markdown",
   "metadata": {
    "deletable": true,
    "editable": true
   },
   "source": [
    "## Simple"
   ]
  },
  {
   "cell_type": "markdown",
   "metadata": {
    "collapsed": true,
    "deletable": true,
    "editable": true
   },
   "source": [
    "Deux échantillons, A et B, d'écart-type connues, mais de moyenne inconnues... on l'estime... Est-ce qu'elle sont égales ?\n",
    "$m_A = m_B$ ?"
   ]
  },
  {
   "cell_type": "markdown",
   "metadata": {
    "deletable": true,
    "editable": true
   },
   "source": [
    "* risque de 1ere espèce $\\alpha$\n",
    "* risque de 2nd espèce $\\beta$"
   ]
  },
  {
   "cell_type": "markdown",
   "metadata": {
    "deletable": true,
    "editable": true
   },
   "source": [
    "**L'hypothèse** - appellée par les statisticiens l'hyphothèse nulle (Null hypothesis)  et notée $H_0$\n",
    "\n",
    "C'est la formulation rigoureuse du problème, une question à laquelle on peut répondre par _vrai_ ou _faux_"
   ]
  },
  {
   "cell_type": "markdown",
   "metadata": {
    "deletable": true,
    "editable": true
   },
   "source": [
    "\n",
    "|                 | Vrai          | Faux          |\n",
    "| --------------- |:-------------:|:-------------:|\n",
    "| résultat 'vrai' | vrai positif  | vrai négatif  |\n",
    "| résultat 'faux' | faux négatif  | faux positif   |\n"
   ]
  },
  {
   "cell_type": "markdown",
   "metadata": {
    "deletable": true,
    "editable": true
   },
   "source": [
    "* **test parametriques :** connaissance des distributions statistiques requises. ... typiquement normale\n",
    "* **test non parametriques :** (distribution free)  sans connaissance sur les distributions"
   ]
  },
  {
   "cell_type": "markdown",
   "metadata": {
    "deletable": true,
    "editable": true
   },
   "source": [
    "intervalle de confiance : m +- e\n",
    "    \n",
    "    "
   ]
  },
  {
   "cell_type": "markdown",
   "metadata": {
    "deletable": true,
    "editable": true
   },
   "source": [
    "Loi de proba $f( m, \\sigma )$\n",
    "\n",
    "une mesure $x$, est-ce que cet échantillon unique est conforme à la loi ?\n",
    "\n",
    "un veux un test qui garde 95% des valeurs vrai, et rejette seulement 5% des valeurs vrais"
   ]
  },
  {
   "cell_type": "code",
   "execution_count": 3,
   "metadata": {
    "collapsed": true,
    "deletable": true,
    "editable": true
   },
   "outputs": [],
   "source": [
    "from scipy.stats import t"
   ]
  },
  {
   "cell_type": "code",
   "execution_count": 6,
   "metadata": {
    "collapsed": true,
    "deletable": true,
    "editable": true
   },
   "outputs": [],
   "source": [
    "k = 4\n",
    "x = 3"
   ]
  },
  {
   "cell_type": "code",
   "execution_count": 7,
   "metadata": {
    "collapsed": false,
    "deletable": true,
    "editable": true
   },
   "outputs": [
    {
     "data": {
      "text/plain": [
       "0.019693498090836536"
      ]
     },
     "execution_count": 7,
     "metadata": {},
     "output_type": "execute_result"
    }
   ],
   "source": [
    "t.pdf( x, k )"
   ]
  },
  {
   "cell_type": "code",
   "execution_count": 53,
   "metadata": {
    "collapsed": false,
    "deletable": true,
    "editable": true
   },
   "outputs": [
    {
     "data": {
      "text/plain": [
       "5.8409092997564303"
      ]
     },
     "execution_count": 53,
     "metadata": {},
     "output_type": "execute_result"
    }
   ],
   "source": [
    "alpha = .01\n",
    "k = 3\n",
    "t.ppf( 1-.5*alpha, k) #Percent point function (inverse of `cdf`) at q "
   ]
  },
  {
   "cell_type": "markdown",
   "metadata": {
    "deletable": true,
    "editable": true
   },
   "source": [
    "http://villemin.gerard.free.fr/aMaths/Statisti/IntConf.htm\n",
    "\n",
    "https://fr.wikipedia.org/wiki/Loi_de_Student\n",
    "\n",
    "https://fr.wikipedia.org/wiki/Intervalle_de_confiance"
   ]
  },
  {
   "cell_type": "code",
   "execution_count": 54,
   "metadata": {
    "collapsed": false,
    "deletable": true,
    "editable": true
   },
   "outputs": [],
   "source": [
    "from scipy.stats import t\n",
    "\n",
    "# Intervalle de confiance sur la moyenne\n",
    "def intervalle_confiance( X, alpha = .05 ):\n",
    "    n = len( X )\n",
    "    IC =  t.ppf( 1-.5*alpha, n-1 ) * np.sqrt( X.var() / n )\n",
    "    return IC"
   ]
  },
  {
   "cell_type": "code",
   "execution_count": 55,
   "metadata": {
    "collapsed": false,
    "deletable": true,
    "editable": true
   },
   "outputs": [
    {
     "data": {
      "text/plain": [
       "(1.5470310163161136, 0.97222756830012214, 0.46254391036420339)"
      ]
     },
     "execution_count": 55,
     "metadata": {},
     "output_type": "execute_result"
    }
   ],
   "source": [
    "n = 4\n",
    "Xn = np.random.normal(loc=0.0, scale=1.0, size=n) \n",
    "\n",
    "intervalle_confiance( Xn ), Xn.std(), Xn.mean()"
   ]
  },
  {
   "cell_type": "code",
   "execution_count": 56,
   "metadata": {
    "collapsed": false,
    "deletable": true,
    "editable": true
   },
   "outputs": [],
   "source": [
    "def Hzero( X ):\n",
    "    # est-ce que la moyenne de X est zero ?\n",
    "    \n",
    "    m = X.mean()\n",
    "    IC = intervalle_confiance( X, alpha = .05 )\n",
    "    if np.abs( m )<IC: \n",
    "        return True\n",
    "    else:\n",
    "        return False"
   ]
  },
  {
   "cell_type": "code",
   "execution_count": 57,
   "metadata": {
    "collapsed": false,
    "deletable": true,
    "editable": true
   },
   "outputs": [
    {
     "name": "stdout",
     "output_type": "stream",
     "text": [
      "5.52\n"
     ]
    }
   ],
   "source": [
    "n = 10\n",
    "\n",
    "c, N = 0, 10000\n",
    "for i in range( N ):\n",
    "    Xn = np.random.normal(loc=0.0, scale=1.0, size=n) \n",
    "\n",
    "    if not Hzero( Xn ):\n",
    "        c += 1\n",
    "        \n",
    "print( c/N*100 )"
   ]
  },
  {
   "cell_type": "markdown",
   "metadata": {
    "deletable": true,
    "editable": true
   },
   "source": [
    "Soit $X_n$ un échantillon de $n$ points de la variable aléatoire $X$.\n",
    "\n",
    "\n",
    "** Est-ce que la moyenne de X est zero ? **\n",
    "* 1er cas: l'écart-type de X est connu\n",
    "* 2nd cas: l'écart-type de X n'est pas connu"
   ]
  },
  {
   "cell_type": "markdown",
   "metadata": {
    "collapsed": true,
    "deletable": true,
    "editable": true
   },
   "source": [
    "\n"
   ]
  },
  {
   "cell_type": "markdown",
   "metadata": {},
   "source": [
    "$m$"
   ]
  },
  {
   "cell_type": "markdown",
   "metadata": {},
   "source": [
    "Une population, avec une caractéristique distribuée suivant une loi de probabilité $X$\n",
    "\n",
    "on trouve un individu, et on se demande se il est compatible partie de cette population, . Le critère ne peut pas être certain (oui-non) car la distribution statistique est non nulle pour l'ensemble des valeurs possibles, seulement les grandes valeurs sont fortement impropable, mais mathématiquement possible.\n",
    "\n",
    "Il faut donc fixer un seuil de decision, pour trancher. Habituellement on considère 95% ou 99%\n",
    "\n",
    "La difficulté est de connaitre la distribution réelle de la populaiton"
   ]
  },
  {
   "cell_type": "code",
   "execution_count": null,
   "metadata": {
    "collapsed": true
   },
   "outputs": [],
   "source": []
  }
 ],
 "metadata": {
  "kernelspec": {
   "display_name": "Python 3",
   "language": "python",
   "name": "python3"
  },
  "language_info": {
   "codemirror_mode": {
    "name": "ipython",
    "version": 3
   },
   "file_extension": ".py",
   "mimetype": "text/x-python",
   "name": "python",
   "nbconvert_exporter": "python",
   "pygments_lexer": "ipython3",
   "version": "3.4.3"
  }
 },
 "nbformat": 4,
 "nbformat_minor": 2
}
