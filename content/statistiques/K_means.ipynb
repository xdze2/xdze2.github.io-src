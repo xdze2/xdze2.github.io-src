{
 "cells": [
  {
   "cell_type": "code",
   "execution_count": 2,
   "metadata": {
    "collapsed": true,
    "deletable": true,
    "editable": true
   },
   "outputs": [],
   "source": [
    "# <!-- collapse=True -->\n",
    "import numpy as np\n",
    "\n",
    "%matplotlib inline\n",
    "import matplotlib.pyplot as plt"
   ]
  },
  {
   "cell_type": "markdown",
   "metadata": {
    "deletable": true,
    "editable": true
   },
   "source": [
    "# K-means"
   ]
  },
  {
   "cell_type": "markdown",
   "metadata": {},
   "source": [
    "* On part d'un nuage de points [ (x1, y1), ...] (D-dimensions)\n",
    "* On veut ranger les points dans k catégories\n",
    "* Chaque catégorie est définie par les coordonnées d'un point \"centre\"\n",
    "* Le point i est rangé dans la catégorie dont le centre est le plus proche\n",
    "    - Rq: ceci revient à découper l'espace par un diagrame de Voronoi\n",
    "* La question devient alors: Comment trouver les k point \"centre\" qui distingue au mieux les points ?\n",
    "    - distingue ?\n",
    "* une catégorie est stable si son point 'centre' est le barycentre de l'ensemble de ses points\n",
    "* On procède par itérations\n",
    "\n",
    "http://sherrytowers.com/2013/10/24/k-means-clustering/\n",
    "\n",
    "https://stats.stackexchange.com/questions/133656/how-to-understand-the-drawbacks-of-k-means"
   ]
  },
  {
   "cell_type": "code",
   "execution_count": 3,
   "metadata": {
    "collapsed": false,
    "deletable": true,
    "editable": true
   },
   "outputs": [
    {
     "data": {
      "image/png": "[encoded data removed]",
      "text/plain": [
       "<matplotlib.figure.Figure at 0x7f7217b5a550>"
      ]
     },
     "metadata": {},
     "output_type": "display_data"
    }
   ],
   "source": [
    "# data\n",
    "X1 = np.random.normal(loc=0.0, scale=1.0, size=60)\n",
    "Y1 = np.random.normal(loc=1.0, scale= 1., size=60)\n",
    "\n",
    "X2 = np.random.normal(loc=0.0, scale=.6, size=15)\n",
    "Y2 = np.random.normal(loc=0.0, scale= 1, size=15)\n",
    "\n",
    "X = np.concatenate((X1, X2))\n",
    "Y = np.concatenate((Y1, Y2))\n",
    "\n",
    "        \n",
    "plt.plot(X, Y, '.')\n",
    "plt.axis('equal');"
   ]
  },
  {
   "cell_type": "code",
   "execution_count": 85,
   "metadata": {
    "collapsed": true,
    "deletable": true,
    "editable": true
   },
   "outputs": [],
   "source": [
    "## Tentative d'alogrithme 1:"
   ]
  },
  {
   "cell_type": "code",
   "execution_count": 86,
   "metadata": {
    "collapsed": true,
    "deletable": true,
    "editable": true
   },
   "outputs": [],
   "source": [
    "xy_bary = [ [np.min(x), np.min(Y)], [np.max(X), np.max(Y)] ]"
   ]
  },
  {
   "cell_type": "code",
   "execution_count": 96,
   "metadata": {
    "collapsed": false,
    "deletable": true,
    "editable": true
   },
   "outputs": [
    {
     "data": {
      "image/png": "[encoded data removed]",
      "text/plain": [
       "<matplotlib.figure.Figure at 0x7fdaa82d4748>"
      ]
     },
     "metadata": {},
     "output_type": "display_data"
    }
   ],
   "source": [
    "# trie\n",
    "cat = []\n",
    "for x, y in zip(X, Y):\n",
    "    d = []\n",
    "    for xy0 in xy_bary:\n",
    "        distance = (x-xy0[0])**2 + (y-xy0[1])**2\n",
    "        d.append( distance ) \n",
    "    i = np.argmin(d)\n",
    "    cat.append(i)\n",
    "    \n",
    "cat = np.array(cat)\n",
    "\n",
    "# plot\n",
    "for i in range( len(xy_bary) ):\n",
    "    plt.plot( X[ cat == i ], Y[ cat == i ], '.' )\n",
    "\n",
    "# calcul nouveau barycentre\n",
    "for i in range( len(xy_bary) ):\n",
    "    x0 = np.mean( X[ cat == i ] )\n",
    "    y0 = np.mean( Y[ cat == i ] )\n",
    "    xy_bary[i] = [x0, y0]\n",
    "    plt.plot( x0, y0, 'kx' )"
   ]
  },
  {
   "cell_type": "code",
   "execution_count": 72,
   "metadata": {
    "collapsed": false,
    "deletable": true,
    "editable": true
   },
   "outputs": [
    {
     "data": {
      "text/plain": [
       "[[0.26256233894330772, -1.3258177034865415],\n",
       " [0.0027837909777587329, 0.88434554201893989]]"
      ]
     },
     "execution_count": 72,
     "metadata": {},
     "output_type": "execute_result"
    }
   ],
   "source": [
    "xy_bary"
   ]
  },
  {
   "cell_type": "code",
   "execution_count": 24,
   "metadata": {
    "collapsed": false,
    "deletable": true,
    "editable": true
   },
   "outputs": [
    {
     "data": {
      "text/plain": [
       "array([ True,  True,  True,  True,  True,  True,  True,  True,  True,\n",
       "        True,  True,  True,  True,  True, False, False,  True, False,\n",
       "        True, False,  True, False,  True,  True, False], dtype=bool)"
      ]
     },
     "execution_count": 24,
     "metadata": {},
     "output_type": "execute_result"
    }
   ],
   "source": [
    "cat == 1"
   ]
  },
  {
   "cell_type": "code",
   "execution_count": null,
   "metadata": {
    "collapsed": true,
    "deletable": true,
    "editable": true
   },
   "outputs": [],
   "source": []
  }
 ],
 "metadata": {
  "kernelspec": {
   "display_name": "Python 3",
   "language": "python",
   "name": "python3"
  },
  "language_info": {
   "codemirror_mode": {
    "name": "ipython",
    "version": 3
   },
   "file_extension": ".py",
   "mimetype": "text/x-python",
   "name": "python",
   "nbconvert_exporter": "python",
   "pygments_lexer": "ipython3",
   "version": "3.4.3"
  }
 },
 "nbformat": 4,
 "nbformat_minor": 2
}
