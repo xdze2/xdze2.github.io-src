{
 "cells": [
  {
   "cell_type": "code",
   "execution_count": 2,
   "metadata": {
    "collapsed": true,
    "deletable": true,
    "editable": true
   },
   "outputs": [],
   "source": [
    "# <!-- collapse=True -->\n",
    "import numpy as np\n",
    "\n",
    "%matplotlib inline\n",
    "import matplotlib.pyplot as plt"
   ]
  },
  {
   "cell_type": "markdown",
   "metadata": {
    "deletable": true,
    "editable": true
   },
   "source": [
    "# K-means\n",
    "\n",
    "Algorithme de classification non-supervisée"
   ]
  },
  {
   "cell_type": "markdown",
   "metadata": {
    "deletable": true,
    "editable": true
   },
   "source": [
    "* On part d'un nuage de points $\\{ X_1,  X_2, ...\\}$ \n",
    "\n",
    "* On souhaite classer les points dans k catégories\n",
    "* Chaque catégorie est définie par les coordonnées d'un point \"centre\"\n",
    "* Le point $X_i$ est classé dans la catégorie dont le centre est le plus proche\n",
    "    - _Remarque:_ ceci revient à découper l'espace par un [diagrame de Voronoi](https://fr.wikipedia.org/wiki/Diagramme_de_Vorono%C3%AF)\n",
    "* La question devient alors: Comment trouver les k points \"centre\" qui distinguent au mieux les points ?\n",
    "* Une catégorie est stable si son point 'centre' est le barycentre de l'ensemble de ses points\n",
    "* On procède par itérations\n",
    "\n",
    "\n",
    "\n",
    "#### Voir\n",
    "- http://sherrytowers.com/2013/10/24/k-means-clustering/\n",
    "- [how-to-understand-the-drawbacks-of-k-means](https://stats.stackexchange.com/questions/133656/how-to-understand-the-drawbacks-of-k-means)"
   ]
  },
  {
   "cell_type": "code",
   "execution_count": 16,
   "metadata": {
    "collapsed": false,
    "deletable": true,
    "editable": true
   },
   "outputs": [
    {
     "data": {
      "image/png": "[encoded data removed]",
      "text/plain": [
       "<matplotlib.figure.Figure at 0x7fb139d22ba8>"
      ]
     },
     "metadata": {},
     "output_type": "display_data"
    }
   ],
   "source": [
    "# data\n",
    "X1 = np.random.normal(loc=0.0, scale=.6, size=60)\n",
    "Y1 = np.random.normal(loc=2.0, scale= 0.6, size=60)\n",
    "\n",
    "X2 = np.random.normal(loc=0.0, scale=.6, size=40)\n",
    "Y2 = np.random.normal(loc=-.5, scale= 0.8, size=40)\n",
    "\n",
    "X3 = np.random.normal(loc=2.5, scale=.4, size=25)\n",
    "Y3 = np.random.normal(loc=0.0, scale= 0.7, size=25)\n",
    "\n",
    "X = np.concatenate((X1, X2, X3))\n",
    "Y = np.concatenate((Y1, Y2, Y3))\n",
    "\n",
    "plt.plot(X, Y, '.')\n",
    "plt.axis('equal');"
   ]
  },
  {
   "cell_type": "markdown",
   "metadata": {},
   "source": [
    "### Une itération :"
   ]
  },
  {
   "cell_type": "code",
   "execution_count": 52,
   "metadata": {
    "collapsed": false,
    "deletable": true,
    "editable": true
   },
   "outputs": [],
   "source": [
    "def iteration( xy_bary ):\n",
    "    # Tri\n",
    "    cat = []\n",
    "    for x, y in zip(X, Y):\n",
    "        d = []\n",
    "        for xy0 in xy_bary:\n",
    "            distance = (x-xy0[0])**2 + (y-xy0[1])**2\n",
    "            d.append( distance ) \n",
    "        i = np.argmin(d)\n",
    "        cat.append(i)\n",
    "\n",
    "    cat = np.array(cat)\n",
    "\n",
    "    # Calcul nouveau barycentre\n",
    "    for i in range( len(xy_bary) ):\n",
    "        x0 = np.mean( X[ cat == i ] )\n",
    "        y0 = np.mean( Y[ cat == i ] )\n",
    "        xy_bary[i] = [x0, y0]\n",
    "    \n",
    "    return xy_bary, cat\n",
    "\n",
    "\n",
    "def plot_cats( xy_bary, cat ):\n",
    "    # Plot\n",
    "    for i in range( len(xy_bary) ):\n",
    "        plt.plot( X[ cat == i ], Y[ cat == i ], '.' )   \n",
    "        \n",
    "    for x0, y0 in xy_bary:\n",
    "        plt.plot( x0, y0, 'kx' )"
   ]
  },
  {
   "cell_type": "markdown",
   "metadata": {},
   "source": [
    "### Choix des points initiaux, arbitraire"
   ]
  },
  {
   "cell_type": "code",
   "execution_count": 53,
   "metadata": {
    "collapsed": false,
    "deletable": true,
    "editable": true
   },
   "outputs": [],
   "source": [
    "xy_bary = [ [np.min(X), np.min(Y)], [np.max(X), np.max(Y)], [0, 0] ]"
   ]
  },
  {
   "cell_type": "code",
   "execution_count": 54,
   "metadata": {
    "collapsed": false,
    "deletable": true,
    "editable": true
   },
   "outputs": [
    {
     "data": {
      "image/png": "[encoded data removed]",
      "text/plain": [
       "<matplotlib.figure.Figure at 0x7fb140470f28>"
      ]
     },
     "metadata": {},
     "output_type": "display_data"
    }
   ],
   "source": [
    "xy_bary, cats = iteration( xy_bary )\n",
    "\n",
    "plot_cats( xy_bary, cats )"
   ]
  },
  {
   "cell_type": "markdown",
   "metadata": {
    "collapsed": false,
    "deletable": true,
    "editable": true
   },
   "source": [
    "### N itérations"
   ]
  },
  {
   "cell_type": "code",
   "execution_count": 56,
   "metadata": {
    "collapsed": false,
    "deletable": true,
    "editable": true
   },
   "outputs": [
    {
     "data": {
      "image/png": "[encoded data removed]",
      "text/plain": [
       "<matplotlib.figure.Figure at 0x7fb139bddc88>"
      ]
     },
     "metadata": {},
     "output_type": "display_data"
    }
   ],
   "source": [
    "xy_bary = [ [np.min(X), np.min(Y)], [np.max(X), np.max(Y)], [0, 0] ]\n",
    "\n",
    "for i in range( 20 ):\n",
    "    xy_bary, cats = iteration( xy_bary )\n",
    "    \n",
    "\n",
    "plot_cats( xy_bary, cats )"
   ]
  },
  {
   "cell_type": "markdown",
   "metadata": {},
   "source": [
    "## K-Means++\n",
    "\n",
    "http://scikit-learn.org/stable/modules/generated/sklearn.cluster.KMeans.html\n",
    "\n",
    "https://en.wikipedia.org/wiki/K-means%2B%2B"
   ]
  },
  {
   "cell_type": "code",
   "execution_count": null,
   "metadata": {
    "collapsed": true
   },
   "outputs": [],
   "source": []
  }
 ],
 "metadata": {
  "kernelspec": {
   "display_name": "Python 3",
   "language": "python",
   "name": "python3"
  },
  "language_info": {
   "codemirror_mode": {
    "name": "ipython",
    "version": 3
   },
   "file_extension": ".py",
   "mimetype": "text/x-python",
   "name": "python",
   "nbconvert_exporter": "python",
   "pygments_lexer": "ipython3",
   "version": "3.5.2"
  }
 },
 "nbformat": 4,
 "nbformat_minor": 2
}
