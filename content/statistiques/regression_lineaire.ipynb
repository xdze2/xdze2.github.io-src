{
 "cells": [
  {
   "cell_type": "code",
   "execution_count": 22,
   "metadata": {
    "collapsed": true,
    "deletable": true,
    "editable": true
   },
   "outputs": [],
   "source": [
    "# <!-- collapse=True -->\n",
    "import numpy as np\n",
    "\n",
    "import matplotlib.pyplot as plt\n",
    "%matplotlib inline\n",
    "\n",
    "plt.rc('font', size=12)\n",
    "plt.rc('axes', labelsize=12)"
   ]
  },
  {
   "cell_type": "markdown",
   "metadata": {
    "deletable": true,
    "editable": true
   },
   "source": [
    "# Régression linéaire, est-ce que c'est aussi simple ?\n",
    "\n",
    "Lecture du chapitre 16 du livre _Probabilités, analyses des données et Statistique_, de _Gilbert Saporta_."
   ]
  },
  {
   "cell_type": "markdown",
   "metadata": {
    "deletable": true,
    "editable": true
   },
   "source": [
    "## Méthode des moindres carrés\n",
    "La méthode la plus célèbre est bien sûr la méthode des moindres carrés. On recherche la droite $y^\\star(x)$ tel que:\n",
    "\n",
    "$$\n",
    "y^\\star - \\bar y = a \\, ( x - \\bar x )\n",
    "$$\n",
    "où $\\bar x$ et $\\bar y$ sont les moyennes (estimées). \n",
    "\n",
    "La pente $a$ est obtenue par la formule analytique:\n",
    "$$\n",
    "a  = \\frac{ \\Sigma (y_i - \\bar y) (x_i - \\bar x) }{ \\Sigma (x_i - \\bar x)^2 }\n",
    "$$\n"
   ]
  },
  {
   "cell_type": "code",
   "execution_count": 23,
   "metadata": {
    "collapsed": true,
    "deletable": true,
    "editable": true
   },
   "outputs": [],
   "source": [
    "def moindrescarres(X, Y):\n",
    "    xm, ym = np.mean( X ), np.mean( Y )\n",
    "    \n",
    "    a = np.sum( (Y-ym)*(X-xm) )/np.sum( (X-xm)**2 )\n",
    "    b = ym - a*xm\n",
    "    \n",
    "    return a, b"
   ]
  },
  {
   "cell_type": "code",
   "execution_count": 24,
   "metadata": {
    "collapsed": false,
    "deletable": true,
    "editable": true
   },
   "outputs": [
    {
     "data": {
      "image/png": "[encoded data removed]",
      "text/plain": [
       "<matplotlib.figure.Figure at 0x7f6b9b396160>"
      ]
     },
     "metadata": {},
     "output_type": "display_data"
    }
   ],
   "source": [
    "# <!-- collapse=True -->\n",
    "X = np.array( [ 0, 1, 2, 3, 4, 5 ] )\n",
    "Y = np.array( [ .2, .6, 2.4, 2.5, 4.1, 4.7 ] )\n",
    "\n",
    "a, b = moindrescarres(X, Y)\n",
    "\n",
    "plt.plot( X, Y, \"o\" );\n",
    "plt.plot( X, a*X + b , 'r'  );\n",
    "plt.xlabel('x');plt.ylabel('y');"
   ]
  },
  {
   "cell_type": "markdown",
   "metadata": {
    "deletable": true,
    "editable": true
   },
   "source": [
    "_Questions possibles:_ quel est l'intervalle de confiance, écart-type, de la pente ?"
   ]
  },
  {
   "cell_type": "markdown",
   "metadata": {
    "deletable": true,
    "editable": true
   },
   "source": [
    "## Est-ce que la méthode des moindres carrés est toujours la mieux ?\n",
    "Pas forcement: La méthode des moindres carrés est sensible aux valeurs abérrantes...\n",
    "\n",
    "Par exemple, minimiser la somme des **valeurs absolues** reduit cette dépendance. Il n'existe pas, dans ce cas, de formule analytique pour calculer pente de la droite. Une méthode d'optimisation numérique par itération doit donc être utilisée.\n",
    "\n",
    "\n",
    "_Remarque:_ voir forum [carré vs v. abolue ?](http://www.les-mathematiques.net/phorum/read.php?13,404999)"
   ]
  },
  {
   "cell_type": "code",
   "execution_count": 25,
   "metadata": {
    "collapsed": true,
    "deletable": true,
    "editable": true
   },
   "outputs": [],
   "source": [
    "from scipy import optimize\n",
    "\n",
    "def regressionL(X, Y):\n",
    "    costfun = lambda P: np.sum( np.abs( Y - (P[0]*X+P[1]) ) )\n",
    "    Pzero = moindrescarres(X, Y)\n",
    "    r = optimize.minimize(costfun, Pzero)\n",
    "    return r.x"
   ]
  },
  {
   "cell_type": "code",
   "execution_count": 77,
   "metadata": {
    "collapsed": false,
    "deletable": true,
    "editable": true
   },
   "outputs": [
    {
     "data": {
      "image/png": "[encoded data removed]",
      "text/plain": [
       "<matplotlib.figure.Figure at 0x7f6b99190400>"
      ]
     },
     "metadata": {},
     "output_type": "display_data"
    }
   ],
   "source": [
    "# <!-- collapse=True -->\n",
    "\n",
    "X = np.array( [ 0, 1, 2, 3, 4, 5, 6 ] )\n",
    "Y = np.array( [ .2, 6.6, 2.4, 2.5, 4.1, 4.7, 6.5 ] )\n",
    "\n",
    "a, b = moindrescarres(X, Y)\n",
    "plt.plot( X, a*X + b , '-r', label='Moindres carrés'  );\n",
    "\n",
    "a, b = regressionL(X, Y)\n",
    "plt.plot( X, a*X + b , 'k' , label='Moindres valeurs absolues' );\n",
    "\n",
    "plt.plot( X, Y, \"o\" );\n",
    "plt.legend(); plt.xlabel('x'); plt.ylabel('y');"
   ]
  },
  {
   "cell_type": "markdown",
   "metadata": {
    "deletable": true,
    "editable": true
   },
   "source": [
    "## Corrélation des résidus ?\n",
    "\n",
    "On peut se demander comment évaluer la justesse de la regression. Est-ce la droite obtenue est un bon modèle des données ? Une première mesure est le coefficient de corrélation (de Pearson) entre $y$ et $x$. Au second ordre, on peut s'interesser aux propriétés statistiques des résidus ($R = y - y^\\star$).\n",
    "\n",
    "Les résidus issus d'une regression sont idéalement un bruit, de moyenne nulle, et non correllés temporellement. Une manière de vérifier ce dernier point est de tracer l'autocorrélation. Plus simplement, on peut étudier la corrélation entre le residu au temps $t$ et celui au temps $t-1$."
   ]
  },
  {
   "cell_type": "code",
   "execution_count": 71,
   "metadata": {
    "collapsed": true,
    "deletable": true,
    "editable": true
   },
   "outputs": [],
   "source": [
    "X = np.linspace(0, 1, 20)\n",
    "\n",
    "Y0 = 2*np.sin( X*12 ) + 15*X\n",
    "Y =  Y0 + np.random.normal(loc=0.0, scale=1.0, size=len(X))"
   ]
  },
  {
   "cell_type": "code",
   "execution_count": 72,
   "metadata": {
    "collapsed": true,
    "deletable": true,
    "editable": true
   },
   "outputs": [],
   "source": [
    "a, b = moindrescarres(X, Y)\n",
    "Ymc = a*X + b\n",
    "\n",
    "# Calcul des résidus:\n",
    "R = Y - Ymc"
   ]
  },
  {
   "cell_type": "code",
   "execution_count": 73,
   "metadata": {
    "collapsed": false,
    "deletable": true,
    "editable": true
   },
   "outputs": [
    {
     "data": {
      "image/png": "[encoded data removed]",
      "text/plain": [
       "<matplotlib.figure.Figure at 0x7f6b99183518>"
      ]
     },
     "metadata": {},
     "output_type": "display_data"
    }
   ],
   "source": [
    "# <!-- collapse=True -->\n",
    "fig, ax = plt.subplots(2, sharex=True, figsize=(10, 5));\n",
    "\n",
    "ax[0].plot( X, Y, '.' );\n",
    "ax[0].plot( X, Ymc, '-r' );\n",
    "ax[0].set_ylabel('y');\n",
    "\n",
    "ax[1].plot( X, R, '-r' );\n",
    "ax[1].fill_between( X, R, alpha=0.4, facecolor='red');\n",
    "\n",
    "ax[1].set_ylabel('résidus');\n",
    "\n",
    "plt.subplots_adjust(wspace=0, hspace=.07);"
   ]
  },
  {
   "cell_type": "markdown",
   "metadata": {},
   "source": [
    "On remarque déjà une certaine corrélation. On peut ausi tracer le residu au temps $t$ par rapport au temps $t-1$:"
   ]
  },
  {
   "cell_type": "code",
   "execution_count": 74,
   "metadata": {
    "collapsed": false,
    "deletable": true,
    "editable": true
   },
   "outputs": [
    {
     "data": {
      "image/png": "[encoded data removed]",
      "text/plain": [
       "<matplotlib.figure.Figure at 0x7f6bce323c88>"
      ]
     },
     "metadata": {},
     "output_type": "display_data"
    }
   ],
   "source": [
    "# <!-- collapse=True -->\n",
    "plt.figure( figsize=(5, 5) )\n",
    "plt.plot(  R[:-1], R[1:], '.r' )\n",
    "\n",
    "m = np.max( np.abs(R) )\n",
    "plt.plot(  [-m, m], [-m, m], '--k', alpha=.6 )\n",
    "\n",
    "plt.axis('equal');\n",
    "plt.xlabel('$R[ t-1 ]$'); plt.ylabel('$R[ t ]$');"
   ]
  },
  {
   "cell_type": "markdown",
   "metadata": {
    "deletable": true,
    "editable": true
   },
   "source": [
    "L'indicateur naturel pour étudier une corrélation est le [coefficient de corrélation linéaire de Pearson](https://fr.wikipedia.org/wiki/Corr%C3%A9lation_%28statistiques%29#Coefficient_de_corr.C3.A9lation_lin.C3.A9aire_de_Bravais-Pearson )  (r). "
   ]
  },
  {
   "cell_type": "code",
   "execution_count": 75,
   "metadata": {
    "collapsed": true,
    "deletable": true,
    "editable": true
   },
   "outputs": [],
   "source": [
    "from scipy.stats import pearsonr"
   ]
  },
  {
   "cell_type": "code",
   "execution_count": 76,
   "metadata": {
    "collapsed": false,
    "deletable": true,
    "editable": true
   },
   "outputs": [
    {
     "data": {
      "text/plain": [
       "0.59888301165389646"
      ]
     },
     "execution_count": 76,
     "metadata": {},
     "output_type": "execute_result"
    }
   ],
   "source": [
    "pearsonr( R[1:], R[:-1] )[0] # return r, p-value"
   ]
  },
  {
   "cell_type": "markdown",
   "metadata": {
    "deletable": true,
    "editable": true
   },
   "source": [
    "Une forte corrélation donne un coefficient proche de 1 et une absence de corrélation un coefficient proche de $0$.\n",
    "\n",
    "Mais à quoi comparer cette valeur ? Peut-on fixer un seuil de décision si la régression est valide ou non ?\n",
    "\n",
    "Il existe un test statistique pour cela: **Le test de Durbin-Watson** ([Wikipedia](https://en.wikipedia.org/wiki/Durbin–Watson_statistic)). Ce test est basé sur le coefficient de corrélation de Pearson de la dérivée première des résidus ($R(t) - R(t-1)$) ([Ref.](http://statisticalideas.blogspot.fr/2014/05/serial-correlation-techniques.html)).\n",
    "\n",
    "** Problème:** des données issus de mesure réelles sont généralement fortement corrélées à haute fréquence... donnant un coefficient de Pearson proche de $1$ même pour une regression valide... To be continued..."
   ]
  },
  {
   "cell_type": "code",
   "execution_count": null,
   "metadata": {
    "collapsed": true,
    "deletable": true,
    "editable": true
   },
   "outputs": [],
   "source": []
  }
 ],
 "metadata": {
  "kernelspec": {
   "display_name": "Python 3",
   "language": "python",
   "name": "python3"
  },
  "language_info": {
   "codemirror_mode": {
    "name": "ipython",
    "version": 3
   },
   "file_extension": ".py",
   "mimetype": "text/x-python",
   "name": "python",
   "nbconvert_exporter": "python",
   "pygments_lexer": "ipython3",
   "version": "3.4.3"
  }
 },
 "nbformat": 4,
 "nbformat_minor": 2
}
