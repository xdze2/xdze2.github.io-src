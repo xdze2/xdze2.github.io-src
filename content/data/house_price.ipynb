{
 "cells": [
  {
   "cell_type": "code",
   "execution_count": 4,
   "metadata": {
    "collapsed": true,
    "deletable": true,
    "editable": true
   },
   "outputs": [],
   "source": [
    "import numpy as np\n",
    "\n",
    "import matplotlib.pyplot as plt\n",
    "%matplotlib inline\n",
    "\n",
    "plt.rc('font', size=12)\n",
    "plt.rc('axes', labelsize=12)"
   ]
  },
  {
   "cell_type": "code",
   "execution_count": 5,
   "metadata": {
    "collapsed": true,
    "deletable": true,
    "editable": true
   },
   "outputs": [],
   "source": [
    "import pandas as pd"
   ]
  },
  {
   "cell_type": "code",
   "execution_count": 6,
   "metadata": {
    "collapsed": true,
    "deletable": true,
    "editable": true
   },
   "outputs": [],
   "source": [
    "df = pd.read_csv('./prices_train.csv')"
   ]
  },
  {
   "cell_type": "code",
   "execution_count": 35,
   "metadata": {
    "collapsed": false,
    "deletable": true,
    "editable": true
   },
   "outputs": [
    {
     "data": {
      "text/plain": [
       "MSSubClass       1460\n",
       "MSZoning         1460\n",
       "LotFrontage      1201\n",
       "LotArea          1460\n",
       "Street           1460\n",
       "Alley              91\n",
       "LotShape         1460\n",
       "LandContour      1460\n",
       "Utilities        1460\n",
       "LotConfig        1460\n",
       "LandSlope        1460\n",
       "Neighborhood     1460\n",
       "Condition1       1460\n",
       "Condition2       1460\n",
       "BldgType         1460\n",
       "HouseStyle       1460\n",
       "OverallQual      1460\n",
       "OverallCond      1460\n",
       "YearBuilt        1460\n",
       "YearRemodAdd     1460\n",
       "RoofStyle        1460\n",
       "RoofMatl         1460\n",
       "Exterior1st      1460\n",
       "Exterior2nd      1460\n",
       "MasVnrType       1452\n",
       "MasVnrArea       1452\n",
       "ExterQual        1460\n",
       "ExterCond        1460\n",
       "Foundation       1460\n",
       "BsmtQual         1423\n",
       "                 ... \n",
       "BedroomAbvGr     1460\n",
       "KitchenAbvGr     1460\n",
       "KitchenQual      1460\n",
       "TotRmsAbvGrd     1460\n",
       "Functional       1460\n",
       "Fireplaces       1460\n",
       "FireplaceQu       770\n",
       "GarageType       1379\n",
       "GarageYrBlt      1379\n",
       "GarageFinish     1379\n",
       "GarageCars       1460\n",
       "GarageArea       1460\n",
       "GarageQual       1379\n",
       "GarageCond       1379\n",
       "PavedDrive       1460\n",
       "WoodDeckSF       1460\n",
       "OpenPorchSF      1460\n",
       "EnclosedPorch    1460\n",
       "3SsnPorch        1460\n",
       "ScreenPorch      1460\n",
       "PoolArea         1460\n",
       "PoolQC              7\n",
       "Fence             281\n",
       "MiscFeature        54\n",
       "MiscVal          1460\n",
       "MoSold           1460\n",
       "YrSold           1460\n",
       "SaleType         1460\n",
       "SaleCondition    1460\n",
       "SalePrice        1460\n",
       "dtype: int64"
      ]
     },
     "execution_count": 35,
     "metadata": {},
     "output_type": "execute_result"
    }
   ],
   "source": [
    "df = df.drop(['Id'], axis=1)\n",
    "df.count()"
   ]
  },
  {
   "cell_type": "code",
   "execution_count": 36,
   "metadata": {
    "collapsed": false,
    "deletable": true,
    "editable": true
   },
   "outputs": [
    {
     "data": {
      "text/plain": [
       "80"
      ]
     },
     "execution_count": 36,
     "metadata": {},
     "output_type": "execute_result"
    }
   ],
   "source": [
    "len( df.columns )"
   ]
  },
  {
   "cell_type": "markdown",
   "metadata": {},
   "source": [
    "## Nombre de valeurs uniques par variables\n",
    "Est-ce que ce sont des variables quantitatif ou bien qualitatif ? "
   ]
  },
  {
   "cell_type": "code",
   "execution_count": 37,
   "metadata": {
    "collapsed": false,
    "deletable": true,
    "editable": true
   },
   "outputs": [],
   "source": [
    "class_size = [ (c, len( df[c].unique() ) ) for c in df.columns ]\n",
    "class_size.sort( key=lambda x:x[1] )"
   ]
  },
  {
   "cell_type": "code",
   "execution_count": 38,
   "metadata": {
    "collapsed": false
   },
   "outputs": [
    {
     "name": "stdout",
     "output_type": "stream",
     "text": [
      "[('Street', 2), ('Utilities', 2), ('CentralAir', 2), ('Alley', 3), ('LandSlope', 3), ('BsmtHalfBath', 3), ('HalfBath', 3), ('PavedDrive', 3), ('LotShape', 4), ('LandContour', 4), ('ExterQual', 4), ('BsmtFullBath', 4), ('FullBath', 4), ('KitchenAbvGr', 4), ('KitchenQual', 4), ('Fireplaces', 4), ('GarageFinish', 4), ('PoolQC', 4), ('MSZoning', 5), ('LotConfig', 5), ('BldgType', 5), ('MasVnrType', 5), ('ExterCond', 5), ('BsmtQual', 5), ('BsmtCond', 5), ('BsmtExposure', 5), ('HeatingQC', 5), ('GarageCars', 5), ('Fence', 5), ('MiscFeature', 5), ('YrSold', 5), ('RoofStyle', 6), ('Foundation', 6), ('Heating', 6), ('Electrical', 6), ('FireplaceQu', 6), ('GarageQual', 6), ('GarageCond', 6), ('SaleCondition', 6), ('BsmtFinType1', 7), ('BsmtFinType2', 7), ('Functional', 7), ('GarageType', 7), ('Condition2', 8), ('HouseStyle', 8), ('RoofMatl', 8), ('BedroomAbvGr', 8), ('PoolArea', 8), ('Condition1', 9), ('OverallCond', 9), ('SaleType', 9), ('OverallQual', 10), ('TotRmsAbvGrd', 12), ('MoSold', 12), ('MSSubClass', 15), ('Exterior1st', 15), ('Exterior2nd', 16), ('3SsnPorch', 20), ('MiscVal', 21), ('LowQualFinSF', 24), ('Neighborhood', 25), ('YearRemodAdd', 61), ('ScreenPorch', 76), ('GarageYrBlt', 98), ('LotFrontage', 111), ('YearBuilt', 112), ('EnclosedPorch', 120), ('BsmtFinSF2', 144), ('OpenPorchSF', 202), ('WoodDeckSF', 274), ('MasVnrArea', 328), ('2ndFlrSF', 417), ('GarageArea', 441), ('BsmtFinSF1', 637), ('SalePrice', 663), ('TotalBsmtSF', 721), ('1stFlrSF', 753), ('BsmtUnfSF', 780), ('GrLivArea', 861), ('LotArea', 1073)]\n"
     ]
    }
   ],
   "source": [
    "print( class_size )"
   ]
  },
  {
   "cell_type": "code",
   "execution_count": 28,
   "metadata": {
    "collapsed": false,
    "deletable": true,
    "editable": true
   },
   "outputs": [
    {
     "name": "stdout",
     "output_type": "stream",
     "text": [
      "Street (2): Pave - Grvl\n",
      "Utilities (2): AllPub - NoSeWa\n",
      "CentralAir (2): Y - N\n",
      "Alley (3): nan - Grvl - Pave\n",
      "LandSlope (3): Gtl - Mod - Sev\n",
      "BsmtHalfBath (3): 0 - 1 - 2\n",
      "HalfBath (3): 1 - 0 - 2\n",
      "PavedDrive (3): Y - N - P\n",
      "LotShape (4): Reg - IR1 - IR2 - IR3\n",
      "LandContour (4): Lvl - Bnk - Low - HLS\n",
      "ExterQual (4): Gd - TA - Ex - Fa\n",
      "BsmtFullBath (4): 1 - 0 - 2 - 3\n",
      "FullBath (4): 2 - 1 - 3 - 0\n",
      "KitchenAbvGr (4): 1 - 2 - 3 - 0\n",
      "KitchenQual (4): Gd - TA - Ex - Fa\n",
      "Fireplaces (4): 0 - 1 - 2 - 3\n",
      "GarageFinish (4): RFn - Unf - Fin - nan\n",
      "PoolQC (4): nan - Ex - Fa - Gd\n",
      "MSZoning (5): RL - RM - C (all) - FV - RH\n",
      "LotConfig (5): Inside - FR2 - Corner - CulDSac - FR3\n",
      "BldgType (5): 1Fam - 2fmCon - Duplex - TwnhsE - Twnhs\n",
      "MasVnrType (5): BrkFace - None - Stone - BrkCmn - nan\n",
      "ExterCond (5): TA - Gd - Fa - Po - Ex\n",
      "BsmtQual (5): Gd - TA - Ex - nan - Fa\n",
      "BsmtCond (5): TA - Gd - nan - Fa - Po\n",
      "BsmtExposure (5): No - Gd - Mn - Av - nan\n",
      "HeatingQC (5): Ex - Gd - TA - Fa - Po\n",
      "GarageCars (5): 2 - 3 - 1 - 0 - 4\n",
      "Fence (5): nan - MnPrv - GdWo - GdPrv - MnWw\n",
      "MiscFeature (5): nan - Shed - Gar2 - Othr - TenC\n",
      "YrSold (5): 2008 - 2007 - 2006 - 2009 - 2010\n",
      "RoofStyle (6): Gable - Hip - Gambrel - Mansard - Flat - Shed\n",
      "Foundation (6): PConc - CBlock - BrkTil - Wood - Slab - Stone\n",
      "Heating (6): GasA - GasW - Grav - Wall - OthW - Floor\n",
      "Electrical (6): SBrkr - FuseF - FuseA - FuseP - Mix - nan\n",
      "FireplaceQu (6): nan - TA - Gd - Fa - Ex - Po\n",
      "GarageQual (6): TA - Fa - Gd - nan - Ex - Po\n",
      "GarageCond (6): TA - Fa - nan - Gd - Po - Ex\n",
      "SaleCondition (6): Normal - Abnorml - Partial - AdjLand - Alloca - Family\n",
      "BsmtFinType1 (7): GLQ - ALQ - Unf - Rec - BLQ - nan - LwQ\n",
      "BsmtFinType2 (7): Unf - BLQ - nan - ALQ - Rec - LwQ - GLQ\n",
      "Functional (7): Typ - Min1 - Maj1 - Min2 - Mod - Maj2 - Sev\n",
      "GarageType (7): Attchd - Detchd - BuiltIn - CarPort - nan - Basment - 2Types\n",
      "Condition2 (8): Norm - Artery - RRNn - Feedr - PosN - PosA - RRAn - RRAe\n",
      "HouseStyle (8): 2Story - 1Story - 1.5Fin - 1.5Unf - SFoyer - SLvl - 2.5Unf - 2.5Fin\n",
      "RoofMatl (8): CompShg - WdShngl - Metal - WdShake - Membran - Tar&Grv - Roll - ClyTile\n",
      "BedroomAbvGr (8): 3 - 4 - 1 - 2 - 0 - 5 - 6 - 8\n",
      "PoolArea (8): 0 - 512 - 648 - 576 - 555 - 480 - 519 - 738\n",
      "Condition1 (9): Norm - Feedr - PosN - Artery - RRAe - RRNn - RRAn - PosA - RRNe\n",
      "OverallCond (9): 5 - 8 - 6 - 7 - 4 - 2 - 3 - 9 - 1\n",
      "SaleType (9): WD - New - COD - ConLD - ConLI - CWD - ConLw - Con - Oth\n",
      "OverallQual (10): 7 - 6 - 8 - 5 - 9 - 4 - 10 - 3 - 1 - 2\n",
      "TotRmsAbvGrd (12): 8 - 6 - 7 - 9 - 5 - 11 - 4 - 10 - 12 - 3 - 2 - 14\n",
      "MoSold (12): 2 - 5 - 9 - 12 - 10 - 8 - 11 - 4 - 1 - 7 - 3 - 6\n",
      "MSSubClass (15): 60 - 20 - 70 - 50 - 190 - 45 - 90 - 120 - 30 - 85 - 80 - 160 - 75 - 180 - 40\n",
      "Exterior1st (15): VinylSd - MetalSd - Wd Sdng - HdBoard - BrkFace - WdShing - CemntBd - Plywood - AsbShng - Stucco - BrkComm - AsphShn - Stone - ImStucc - CBlock\n",
      "Exterior2nd (16): VinylSd - MetalSd - Wd Shng - HdBoard - Plywood - Wd Sdng - CmentBd - BrkFace - Stucco - AsbShng - Brk Cmn - ImStucc - AsphShn - Stone - Other - CBlock\n",
      "3SsnPorch (20): 0 - 320 - 407 - 130 - 180 - 168 - 140 - 508 - 238 - 245 - 196 - 144 - 182 - 162 - 23 - 216 - 96 - 153 - 290 - 304\n",
      "MiscVal (21): 0 - 700 - 350 - 500 - 400 - 480 - 450 - 15500 - 1200 - 800 - 2000 - 600 - 3500 - 1300 - 54 - 620 - 560 - 1400 - 8300 - 1150 - 2500\n",
      "LowQualFinSF (24): 0 - 360 - 513 - 234 - 528 - 572 - 144 - 392 - 371 - 390 - 420 - 473 - 156 - 515 - 80 - 53 - 232 - 481 - 120 - 514 - 397 - 479 - 205 - 384\n"
     ]
    }
   ],
   "source": [
    "for classname, k in class_size[:60]:\n",
    "    print( '%s (%i): %s' % (classname , k, ' - '.join( [str(s) for s in df[classname].unique() ])) )"
   ]
  },
  {
   "cell_type": "code",
   "execution_count": 45,
   "metadata": {
    "collapsed": false
   },
   "outputs": [
    {
     "data": {
      "text/plain": [
       "[<matplotlib.lines.Line2D at 0x7f92a89ffb38>]"
      ]
     },
     "execution_count": 45,
     "metadata": {},
     "output_type": "execute_result"
    },
    {
     "data": {
      "image/png": "[encoded data removed]",
      "text/plain": [
       "<matplotlib.figure.Figure at 0x7f92a8a38c50>"
      ]
     },
     "metadata": {},
     "output_type": "display_data"
    }
   ],
   "source": [
    "plt.plot( df['EnclosedPorch'], df['SalePrice'], '.')"
   ]
  },
  {
   "cell_type": "code",
   "execution_count": 44,
   "metadata": {
    "collapsed": false,
    "deletable": true,
    "editable": true
   },
   "outputs": [
    {
     "data": {
      "text/plain": [
       "[<matplotlib.lines.Line2D at 0x7f92a8a967f0>]"
      ]
     },
     "execution_count": 44,
     "metadata": {},
     "output_type": "execute_result"
    },
    {
     "data": {
      "image/png": "[encoded data removed]",
      "text/plain": [
       "<matplotlib.figure.Figure at 0x7f92a8ad0f28>"
      ]
     },
     "metadata": {},
     "output_type": "display_data"
    }
   ],
   "source": [
    "plt.plot( df['GrLivArea'], df['SalePrice'], '.')"
   ]
  },
  {
   "cell_type": "code",
   "execution_count": 32,
   "metadata": {
    "collapsed": false,
    "deletable": true,
    "editable": true
   },
   "outputs": [
    {
     "data": {
      "text/plain": [
       "[<matplotlib.lines.Line2D at 0x7f92a8c9ba90>]"
      ]
     },
     "execution_count": 32,
     "metadata": {},
     "output_type": "execute_result"
    },
    {
     "data": {
      "image/png": "[encoded data removed]",
      "text/plain": [
       "<matplotlib.figure.Figure at 0x7f92a8d4c898>"
      ]
     },
     "metadata": {},
     "output_type": "display_data"
    }
   ],
   "source": [
    "plt.plot( df['BedroomAbvGr'], df['SalePrice'], '.')"
   ]
  },
  {
   "cell_type": "markdown",
   "metadata": {
    "collapsed": true,
    "deletable": true,
    "editable": true
   },
   "source": [
    "## Gini pour chaques varialbles"
   ]
  },
  {
   "cell_type": "code",
   "execution_count": null,
   "metadata": {
    "collapsed": true
   },
   "outputs": [],
   "source": [
    "for classname, k in class_size[:60]:\n",
    "    print( '%s (%i): %s' % (classname , k, ' - '.join( [str(s) for s in df[classname].unique() ])) )"
   ]
  }
 ],
 "metadata": {
  "kernelspec": {
   "display_name": "Python 3",
   "language": "python",
   "name": "python3"
  },
  "language_info": {
   "codemirror_mode": {
    "name": "ipython",
    "version": 3
   },
   "file_extension": ".py",
   "mimetype": "text/x-python",
   "name": "python",
   "nbconvert_exporter": "python",
   "pygments_lexer": "ipython3",
   "version": "3.4.3"
  }
 },
 "nbformat": 4,
 "nbformat_minor": 2
}
