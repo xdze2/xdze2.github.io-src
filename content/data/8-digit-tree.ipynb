{
 "cells": [
  {
   "cell_type": "markdown",
   "metadata": {
    "deletable": true,
    "editable": true
   },
   "source": [
    "# Arbre de décision\n",
    "\n",
    "Algorithme de reconnaissance de caractère absolument simple. Ce sont les chiffres de 0 à 9, codés en segments, comme sur les vielles calculettes:\n",
    "\n",
    "![images 10 8-digit]( images/8digit-all.png )\n",
    "\n",
    "Comment construire la règle de décision pour trouver quel chiffre est affiché en sachant les segments allumés et ceux éteints ?\n",
    "\n",
    "Les segments sont notés de 'a' à 'f': "
   ]
  },
  {
   "cell_type": "code",
   "execution_count": 39,
   "metadata": {
    "collapsed": false,
    "deletable": true,
    "editable": true
   },
   "outputs": [],
   "source": [
    "digits = ['abcefg', 'cf', 'acdeg', 'acdfg', 'bdcf', 'abdfg',\n",
    "          'abdefg', 'acf', 'abcdefg', 'abcdf' ]"
   ]
  },
  {
   "cell_type": "markdown",
   "metadata": {},
   "source": [
    "On peut se demander quel segment est le plus significatif ?\n",
    "\n",
    "Ou si on obtient les informations en posant la question, pour chaque segment, 'est-ce que le segment n°A est allumé ?' ... dans quelle ordre demander les segments, afin de poser le moins de question possible ?\n",
    "\n",
    "\n"
   ]
  },
  {
   "cell_type": "markdown",
   "metadata": {
    "deletable": true,
    "editable": true
   },
   "source": [
    "## Statistiques"
   ]
  },
  {
   "cell_type": "code",
   "execution_count": 40,
   "metadata": {
    "collapsed": false
   },
   "outputs": [
    {
     "name": "stdout",
     "output_type": "stream",
     "text": [
      "Segment:  a  b  c  d  e  f  g \n",
      "Freqs.:  [8, 6, 8, 7, 4, 9, 6]\n"
     ]
    }
   ],
   "source": [
    "tous = ''.join(digits)\n",
    "segments = sorted(list( set(tous) ))\n",
    "\n",
    "freqs = [ tous.count(s) for s in segments ]\n",
    "\n",
    "print( 'Segment:  %s ' %  '  '.join( segments ) )\n",
    "print( 'Freqs.:  %s' % freqs )"
   ]
  },
  {
   "cell_type": "markdown",
   "metadata": {
    "deletable": true,
    "editable": true
   },
   "source": [
    "On remarque que les segments **e**, **g** et **b** séparent le mieux les chiffres en deux ensembles de même taille...\n",
    "\n",
    "et aussi que le segment **f** n'est pas utilisé que pour un seul chiffre, le 2.\n",
    "\n",
    "Combien faut-il de questions ?\n",
    "* Si on identifie un seul chiffre pour chaque test, il faut **n=10** tests.\n",
    "* Si on sépare la moitié des chiffres pour chaque test, il faut seulement k tests, avec $n=2^k$.  ??? "
   ]
  },
  {
   "cell_type": "code",
   "execution_count": 41,
   "metadata": {
    "collapsed": false
   },
   "outputs": [
    {
     "name": "stdout",
     "output_type": "stream",
     "text": [
      "9\n",
      "Segment:  a  b  c  d  e  f  g \n",
      "Freqs.:  [7, 6, 7, 6, 3, 9, 5]\n"
     ]
    }
   ],
   "source": [
    "digits.pop(2)\n",
    "\n",
    "print(len( digits ))\n",
    "\n",
    "tous = ''.join(digits)\n",
    "segments = sorted(list( set(tous) ))\n",
    "\n",
    "freqs = [ tous.count(s) for s in segments ]\n",
    "\n",
    "print( 'Segment:  %s ' %  '  '.join( segments ) )\n",
    "print( 'Freqs.:  %s' % freqs )"
   ]
  },
  {
   "cell_type": "code",
   "execution_count": 35,
   "metadata": {
    "collapsed": true,
    "deletable": true,
    "editable": true
   },
   "outputs": [],
   "source": [
    "def abc2vector( s ):\n",
    "    m = 'abcdefg'\n",
    "    v = [0]*len(m)\n",
    "    for l in s:\n",
    "        v[ m.find(l) ] = 1\n",
    "    return v"
   ]
  },
  {
   "cell_type": "code",
   "execution_count": 486,
   "metadata": {
    "collapsed": false,
    "deletable": true,
    "editable": true
   },
   "outputs": [
    {
     "data": {
      "text/plain": [
       "[0, 0, 1, 0, 0, 1, 0]"
      ]
     },
     "execution_count": 486,
     "metadata": {},
     "output_type": "execute_result"
    }
   ],
   "source": [
    "abc2vector( digits[1] )"
   ]
  },
  {
   "cell_type": "code",
   "execution_count": 487,
   "metadata": {
    "collapsed": true,
    "deletable": true,
    "editable": true
   },
   "outputs": [],
   "source": [
    "import numpy as np"
   ]
  },
  {
   "cell_type": "code",
   "execution_count": 488,
   "metadata": {
    "collapsed": false,
    "deletable": true,
    "editable": true
   },
   "outputs": [
    {
     "data": {
      "text/plain": [
       "array([[ 1.,  1.,  1.,  0.,  1.,  1.,  1.],\n",
       "       [ 0.,  0.,  1.,  0.,  0.,  1.,  0.],\n",
       "       [ 1.,  0.,  1.,  1.,  1.,  0.,  1.],\n",
       "       [ 1.,  0.,  1.,  1.,  0.,  1.,  1.],\n",
       "       [ 0.,  1.,  1.,  1.,  0.,  1.,  0.],\n",
       "       [ 1.,  1.,  0.,  1.,  0.,  1.,  1.],\n",
       "       [ 1.,  1.,  0.,  1.,  1.,  1.,  1.],\n",
       "       [ 1.,  0.,  1.,  0.,  0.,  1.,  0.],\n",
       "       [ 1.,  1.,  1.,  1.,  1.,  1.,  1.],\n",
       "       [ 1.,  1.,  1.,  1.,  0.,  1.,  0.]])"
      ]
     },
     "execution_count": 488,
     "metadata": {},
     "output_type": "execute_result"
    }
   ],
   "source": [
    "M = np.zeros((len(digits), 7))\n",
    "for i, digit in enumerate( digits ):\n",
    "    v = abc2vector( digit )\n",
    "    M[i, :] = np.array( v )\n",
    "    \n",
    "M"
   ]
  },
  {
   "cell_type": "code",
   "execution_count": 489,
   "metadata": {
    "collapsed": false,
    "deletable": true,
    "editable": true
   },
   "outputs": [
    {
     "name": "stdout",
     "output_type": "stream",
     "text": [
      "Chiffre:[ 0.  1.  2.  3.  4.  5.  6.  7.  8.  9.]\n",
      "Nombre: [ 6.  2.  5.  5.  4.  5.  6.  3.  7.  5.]\n"
     ]
    }
   ],
   "source": [
    "# Nombre de barres par chiffre:\n",
    "print( 'Chiffre:%s' % (np.array(range(10))*1.)  )\n",
    "print( 'Nombre: %s' % M.sum( axis=1 ) )"
   ]
  },
  {
   "cell_type": "markdown",
   "metadata": {
    "deletable": true,
    "editable": true
   },
   "source": [
    "Cela semble correspondre..."
   ]
  },
  {
   "cell_type": "code",
   "execution_count": 490,
   "metadata": {
    "collapsed": false,
    "deletable": true,
    "editable": true
   },
   "outputs": [
    {
     "name": "stdout",
     "output_type": "stream",
     "text": [
      "Barre: [ a   b   c   d   e   f   g ]\n",
      "Freq.: [ 8.  6.  8.  7.  4.  9.  6.]\n"
     ]
    }
   ],
   "source": [
    "# Nombre de fois qu'une barre est utilisée:\n",
    "print( 'Barre: [ %s ]' %  '   '.join( list('abcdefg') ) )\n",
    "print( 'Freq.: %s' % M.sum( axis=0 ) )"
   ]
  },
  {
   "cell_type": "markdown",
   "metadata": {
    "deletable": true,
    "editable": true
   },
   "source": [
    "on remarque que les barre **e**, **g** et **b** séparent le mieux les chiffres en deux ensembles de même taille...\n",
    "\n",
    "et aussi que la barre **f** n'est pas utilisée que pour un seul chiffre (le 2)\n",
    "\n",
    "* si on sort un seul à chaque test, il faut **n** tests\n",
    "* si on sépare la moitié il faut seulement k, n=2^k tests"
   ]
  },
  {
   "cell_type": "code",
   "execution_count": 491,
   "metadata": {
    "collapsed": false,
    "deletable": true,
    "editable": true
   },
   "outputs": [],
   "source": [
    "digit2code = dict(zip( range(10), digits ))\n",
    "\n",
    "def crible( digits, segment ):\n",
    "    oui, non = [], []\n",
    "    for d in digits:\n",
    "        code = digit2code[d]\n",
    "        if segment in code:\n",
    "            oui.append(d)\n",
    "        else:\n",
    "            non.append(d)\n",
    "    return oui, non"
   ]
  },
  {
   "cell_type": "code",
   "execution_count": 492,
   "metadata": {
    "collapsed": true,
    "deletable": true,
    "editable": true
   },
   "outputs": [],
   "source": [
    "D = range(10)"
   ]
  },
  {
   "cell_type": "code",
   "execution_count": 493,
   "metadata": {
    "collapsed": false,
    "deletable": true,
    "editable": true
   },
   "outputs": [
    {
     "data": {
      "text/plain": [
       "([0, 1, 3, 4, 5, 6, 7, 8, 9], [2])"
      ]
     },
     "execution_count": 493,
     "metadata": {},
     "output_type": "execute_result"
    }
   ],
   "source": [
    "crible( D, 'f' )"
   ]
  },
  {
   "cell_type": "code",
   "execution_count": 494,
   "metadata": {
    "collapsed": false,
    "deletable": true,
    "editable": true
   },
   "outputs": [
    {
     "name": "stdout",
     "output_type": "stream",
     "text": [
      "([0, 2, 6, 8], [1, 3, 4, 5, 7, 9])\n"
     ]
    }
   ],
   "source": [
    "D_e = crible( D, 'e' )\n",
    "print( D_e )"
   ]
  },
  {
   "cell_type": "code",
   "execution_count": 495,
   "metadata": {
    "collapsed": false,
    "deletable": true,
    "editable": true
   },
   "outputs": [
    {
     "name": "stdout",
     "output_type": "stream",
     "text": [
      "([0, 2, 3, 5, 6, 8], [1, 4, 7, 9])\n"
     ]
    }
   ],
   "source": [
    "D_g = crible( D, 'g' )\n",
    "print( D_g )"
   ]
  },
  {
   "cell_type": "code",
   "execution_count": 496,
   "metadata": {
    "collapsed": false,
    "deletable": true,
    "editable": true
   },
   "outputs": [
    {
     "name": "stdout",
     "output_type": "stream",
     "text": [
      "([0, 6, 8], [2])\n"
     ]
    }
   ],
   "source": [
    "D_e0b = crible( crible( D, 'e' )[0], 'b' )\n",
    "print( D_e0b )"
   ]
  },
  {
   "cell_type": "code",
   "execution_count": 497,
   "metadata": {
    "collapsed": true,
    "deletable": true,
    "editable": true
   },
   "outputs": [],
   "source": [
    "def get_proba(D):\n",
    "    segments = ''.join( [ digit2code[d] for d in D ] )\n",
    "    segment_unique = set( list(segments) )\n",
    "    proba = {}\n",
    "    for s in list(segment_unique):\n",
    "        proba[s] = segments.count(s)/len(D)\n",
    "    return proba"
   ]
  },
  {
   "cell_type": "code",
   "execution_count": 498,
   "metadata": {
    "collapsed": false,
    "deletable": true,
    "editable": true
   },
   "outputs": [
    {
     "data": {
      "text/plain": [
       "{'a': 0.8, 'b': 0.6, 'c': 0.8, 'd': 0.7, 'e': 0.4, 'f': 0.9, 'g': 0.6}"
      ]
     },
     "execution_count": 498,
     "metadata": {},
     "output_type": "execute_result"
    }
   ],
   "source": [
    "get_proba(D)"
   ]
  },
  {
   "cell_type": "code",
   "execution_count": 499,
   "metadata": {
    "collapsed": false,
    "deletable": true,
    "editable": true
   },
   "outputs": [],
   "source": [
    "def Gini( proba ):\n",
    "    gini = {}\n",
    "    for k, v in proba.items():\n",
    "        gini[k] = 2*v*(1-v)\n",
    "    return gini\n",
    "\n",
    "def get_Gini( D ):\n",
    "    return sorted( [u for u in Gini(get_proba(D)).items()], key=lambda x:x[1] ,reverse=True)"
   ]
  },
  {
   "cell_type": "code",
   "execution_count": 500,
   "metadata": {
    "collapsed": false,
    "deletable": true,
    "editable": true
   },
   "outputs": [
    {
     "data": {
      "text/plain": [
       "[('b', 0.48),\n",
       " ('g', 0.48),\n",
       " ('e', 0.48),\n",
       " ('d', 0.42000000000000004),\n",
       " ('a', 0.31999999999999995),\n",
       " ('c', 0.31999999999999995),\n",
       " ('f', 0.17999999999999997)]"
      ]
     },
     "execution_count": 500,
     "metadata": {},
     "output_type": "execute_result"
    }
   ],
   "source": [
    "get_Gini(D)"
   ]
  },
  {
   "cell_type": "code",
   "execution_count": 501,
   "metadata": {
    "collapsed": false,
    "deletable": true,
    "editable": true
   },
   "outputs": [
    {
     "data": {
      "text/plain": [
       "{'a': 0.6666666666666666,\n",
       " 'b': 0.5,\n",
       " 'c': 0.8333333333333334,\n",
       " 'd': 0.6666666666666666,\n",
       " 'f': 1.0,\n",
       " 'g': 0.3333333333333333}"
      ]
     },
     "execution_count": 501,
     "metadata": {},
     "output_type": "execute_result"
    }
   ],
   "source": [
    "get_proba(D_e[1])"
   ]
  },
  {
   "cell_type": "markdown",
   "metadata": {
    "deletable": true,
    "editable": true
   },
   "source": [
    "Nous pouvons maintenant contruire un arbre de décision, en choisisant à chaque itération le segment maximisant la séparation, c.a.d. le coéfficient de Gini"
   ]
  },
  {
   "cell_type": "code",
   "execution_count": 502,
   "metadata": {
    "collapsed": false,
    "deletable": true,
    "editable": true
   },
   "outputs": [
    {
     "name": "stdout",
     "output_type": "stream",
     "text": [
      "b\n"
     ]
    }
   ],
   "source": [
    "racine = get_Gini(D)[0][0]\n",
    "print( racine )"
   ]
  },
  {
   "cell_type": "code",
   "execution_count": 503,
   "metadata": {
    "collapsed": true,
    "deletable": true,
    "editable": true
   },
   "outputs": [],
   "source": [
    "def grow_edge( D, parent=''):\n",
    "    critere = get_Gini(D)[0][0]\n",
    "    print( get_Gini(D)[0] )\n",
    "    \n",
    "    edges = [[parent, parent+critere]]\n",
    " \n",
    "    branches12 = crible(D, critere)\n",
    "    for branche in branches12:\n",
    "        if len(branche)>1:\n",
    "            sous_arbre = grow_edge( branche, parent=parent+critere )\n",
    "            edges.extend( sous_arbre )\n",
    "\n",
    "        else: # feuille\n",
    "            edges.extend( [[parent+critere, str(f)] for f in branche] )\n",
    "\n",
    "    return edges"
   ]
  },
  {
   "cell_type": "code",
   "execution_count": 479,
   "metadata": {
    "collapsed": false,
    "deletable": true,
    "editable": true
   },
   "outputs": [
    {
     "name": "stdout",
     "output_type": "stream",
     "text": [
      "('b', 0.48)\n",
      "('e', 0.5)\n",
      "('d', 0.4444444444444445)\n",
      "('c', 0.5)\n",
      "('a', 0.4444444444444445)\n",
      "('c', 0.5)\n",
      "('d', 0.5)\n",
      "('e', 0.5)\n",
      "('a', 0.5)\n"
     ]
    },
    {
     "data": {
      "text/plain": [
       "[['', 'b'],\n",
       " ['b', 'be'],\n",
       " ['be', 'bed'],\n",
       " ['bed', 'bedc'],\n",
       " ['bedc', '8'],\n",
       " ['bedc', '6'],\n",
       " ['bed', '0'],\n",
       " ['be', 'bea'],\n",
       " ['bea', 'beac'],\n",
       " ['beac', '9'],\n",
       " ['beac', '5'],\n",
       " ['bea', '4'],\n",
       " ['b', 'bd'],\n",
       " ['bd', 'bde'],\n",
       " ['bde', '2'],\n",
       " ['bde', '3'],\n",
       " ['bd', 'bda'],\n",
       " ['bda', '7'],\n",
       " ['bda', '1']]"
      ]
     },
     "execution_count": 479,
     "metadata": {},
     "output_type": "execute_result"
    }
   ],
   "source": [
    "grow_edge(D)"
   ]
  },
  {
   "cell_type": "code",
   "execution_count": 480,
   "metadata": {
    "collapsed": false,
    "deletable": true,
    "editable": true
   },
   "outputs": [],
   "source": [
    "def edges2nodes( E ):\n",
    "    nodes = set()\n",
    "    for a, b in E :\n",
    "        if a and b:\n",
    "            nodes.add(a)\n",
    "            nodes.add(b)\n",
    "    return nodes"
   ]
  },
  {
   "cell_type": "code",
   "execution_count": 481,
   "metadata": {
    "collapsed": false,
    "deletable": true,
    "editable": true
   },
   "outputs": [
    {
     "name": "stdout",
     "output_type": "stream",
     "text": [
      "('b', 0.48)\n",
      "('e', 0.5)\n",
      "('d', 0.4444444444444445)\n",
      "('c', 0.5)\n",
      "('a', 0.4444444444444445)\n",
      "('c', 0.5)\n",
      "('d', 0.5)\n",
      "('e', 0.5)\n",
      "('a', 0.5)\n"
     ]
    }
   ],
   "source": [
    "edges = grow_edge(D)"
   ]
  },
  {
   "cell_type": "code",
   "execution_count": 482,
   "metadata": {
    "collapsed": false,
    "deletable": true,
    "editable": true
   },
   "outputs": [],
   "source": [
    "graph = gv.Digraph(format='svg')\n",
    "\n",
    "nodes = edges2nodes( edges )\n",
    "for n in list(nodes):\n",
    "    graph.node(n)\n",
    "    \n",
    "for a, b in edges:\n",
    "    if a and b:\n",
    "        graph.edge(a, b)"
   ]
  },
  {
   "cell_type": "code",
   "execution_count": 483,
   "metadata": {
    "collapsed": false,
    "deletable": true,
    "editable": true
   },
   "outputs": [
    {
     "data": {
      "image/svg+xml": [
       "<?xml version=\"1.0\" encoding=\"UTF-8\" standalone=\"no\"?>\n",
       "<!DOCTYPE svg PUBLIC \"-//W3C//DTD SVG 1.1//EN\"\n",
       " \"http://www.w3.org/Graphics/SVG/1.1/DTD/svg11.dtd\">\n",
       "<!-- Generated by graphviz version 2.36.0 (20140111.2315)\n",
       " -->\n",
       "<!-- Title: %3 Pages: 1 -->\n",
       "<svg width=\"602pt\" height=\"332pt\"\n",
       " viewBox=\"0.00 0.00 602.00 332.00\" xmlns=\"http://www.w3.org/2000/svg\" xmlns:xlink=\"http://www.w3.org/1999/xlink\">\n",
       "<g id=\"graph0\" class=\"graph\" transform=\"scale(1 1) rotate(0) translate(4 328)\">\n",
       "<title>%3</title>\n",
       "<polygon fill=\"white\" stroke=\"none\" points=\"-4,4 -4,-328 598,-328 598,4 -4,4\"/>\n",
       "<!-- bed -->\n",
       "<g id=\"node1\" class=\"node\"><title>bed</title>\n",
       "<ellipse fill=\"none\" stroke=\"black\" cx=\"135\" cy=\"-162\" rx=\"27\" ry=\"18\"/>\n",
       "<text text-anchor=\"middle\" x=\"135\" y=\"-158.3\" font-family=\"Times,serif\" font-size=\"14.00\">bed</text>\n",
       "</g>\n",
       "<!-- bedc -->\n",
       "<g id=\"node12\" class=\"node\"><title>bedc</title>\n",
       "<ellipse fill=\"none\" stroke=\"black\" cx=\"63\" cy=\"-90\" rx=\"26.949\" ry=\"18\"/>\n",
       "<text text-anchor=\"middle\" x=\"63\" y=\"-86.3\" font-family=\"Times,serif\" font-size=\"14.00\">bedc</text>\n",
       "</g>\n",
       "<!-- bed&#45;&gt;bedc -->\n",
       "<g id=\"edge3\" class=\"edge\"><title>bed&#45;&gt;bedc</title>\n",
       "<path fill=\"none\" stroke=\"black\" d=\"M120.43,-146.834C110.25,-136.938 96.4761,-123.546 84.9694,-112.359\"/>\n",
       "<polygon fill=\"black\" stroke=\"black\" points=\"87.4055,-109.846 77.7957,-105.385 82.5259,-114.865 87.4055,-109.846\"/>\n",
       "</g>\n",
       "<!-- 0 -->\n",
       "<g id=\"node13\" class=\"node\"><title>0</title>\n",
       "<ellipse fill=\"none\" stroke=\"black\" cx=\"135\" cy=\"-90\" rx=\"27\" ry=\"18\"/>\n",
       "<text text-anchor=\"middle\" x=\"135\" y=\"-86.3\" font-family=\"Times,serif\" font-size=\"14.00\">0</text>\n",
       "</g>\n",
       "<!-- bed&#45;&gt;0 -->\n",
       "<g id=\"edge6\" class=\"edge\"><title>bed&#45;&gt;0</title>\n",
       "<path fill=\"none\" stroke=\"black\" d=\"M135,-143.697C135,-135.983 135,-126.712 135,-118.112\"/>\n",
       "<polygon fill=\"black\" stroke=\"black\" points=\"138.5,-118.104 135,-108.104 131.5,-118.104 138.5,-118.104\"/>\n",
       "</g>\n",
       "<!-- 6 -->\n",
       "<g id=\"node2\" class=\"node\"><title>6</title>\n",
       "<ellipse fill=\"none\" stroke=\"black\" cx=\"27\" cy=\"-18\" rx=\"27\" ry=\"18\"/>\n",
       "<text text-anchor=\"middle\" x=\"27\" y=\"-14.3\" font-family=\"Times,serif\" font-size=\"14.00\">6</text>\n",
       "</g>\n",
       "<!-- b -->\n",
       "<g id=\"node3\" class=\"node\"><title>b</title>\n",
       "<ellipse fill=\"none\" stroke=\"black\" cx=\"315\" cy=\"-306\" rx=\"27\" ry=\"18\"/>\n",
       "<text text-anchor=\"middle\" x=\"315\" y=\"-302.3\" font-family=\"Times,serif\" font-size=\"14.00\">b</text>\n",
       "</g>\n",
       "<!-- be -->\n",
       "<g id=\"node11\" class=\"node\"><title>be</title>\n",
       "<ellipse fill=\"none\" stroke=\"black\" cx=\"243\" cy=\"-234\" rx=\"27\" ry=\"18\"/>\n",
       "<text text-anchor=\"middle\" x=\"243\" y=\"-230.3\" font-family=\"Times,serif\" font-size=\"14.00\">be</text>\n",
       "</g>\n",
       "<!-- b&#45;&gt;be -->\n",
       "<g id=\"edge1\" class=\"edge\"><title>b&#45;&gt;be</title>\n",
       "<path fill=\"none\" stroke=\"black\" d=\"M300.43,-290.834C290.25,-280.938 276.476,-267.546 264.969,-256.359\"/>\n",
       "<polygon fill=\"black\" stroke=\"black\" points=\"267.405,-253.846 257.796,-249.385 262.526,-258.865 267.405,-253.846\"/>\n",
       "</g>\n",
       "<!-- bd -->\n",
       "<g id=\"node15\" class=\"node\"><title>bd</title>\n",
       "<ellipse fill=\"none\" stroke=\"black\" cx=\"387\" cy=\"-234\" rx=\"27\" ry=\"18\"/>\n",
       "<text text-anchor=\"middle\" x=\"387\" y=\"-230.3\" font-family=\"Times,serif\" font-size=\"14.00\">bd</text>\n",
       "</g>\n",
       "<!-- b&#45;&gt;bd -->\n",
       "<g id=\"edge12\" class=\"edge\"><title>b&#45;&gt;bd</title>\n",
       "<path fill=\"none\" stroke=\"black\" d=\"M329.57,-290.834C339.75,-280.938 353.524,-267.546 365.031,-256.359\"/>\n",
       "<polygon fill=\"black\" stroke=\"black\" points=\"367.474,-258.865 372.204,-249.385 362.595,-253.846 367.474,-258.865\"/>\n",
       "</g>\n",
       "<!-- 4 -->\n",
       "<g id=\"node4\" class=\"node\"><title>4</title>\n",
       "<ellipse fill=\"none\" stroke=\"black\" cx=\"207\" cy=\"-90\" rx=\"27\" ry=\"18\"/>\n",
       "<text text-anchor=\"middle\" x=\"207\" y=\"-86.3\" font-family=\"Times,serif\" font-size=\"14.00\">4</text>\n",
       "</g>\n",
       "<!-- 1 -->\n",
       "<g id=\"node5\" class=\"node\"><title>1</title>\n",
       "<ellipse fill=\"none\" stroke=\"black\" cx=\"495\" cy=\"-90\" rx=\"27\" ry=\"18\"/>\n",
       "<text text-anchor=\"middle\" x=\"495\" y=\"-86.3\" font-family=\"Times,serif\" font-size=\"14.00\">1</text>\n",
       "</g>\n",
       "<!-- beac -->\n",
       "<g id=\"node6\" class=\"node\"><title>beac</title>\n",
       "<ellipse fill=\"none\" stroke=\"black\" cx=\"279\" cy=\"-90\" rx=\"27\" ry=\"18\"/>\n",
       "<text text-anchor=\"middle\" x=\"279\" y=\"-86.3\" font-family=\"Times,serif\" font-size=\"14.00\">beac</text>\n",
       "</g>\n",
       "<!-- 9 -->\n",
       "<g id=\"node8\" class=\"node\"><title>9</title>\n",
       "<ellipse fill=\"none\" stroke=\"black\" cx=\"207\" cy=\"-18\" rx=\"27\" ry=\"18\"/>\n",
       "<text text-anchor=\"middle\" x=\"207\" y=\"-14.3\" font-family=\"Times,serif\" font-size=\"14.00\">9</text>\n",
       "</g>\n",
       "<!-- beac&#45;&gt;9 -->\n",
       "<g id=\"edge9\" class=\"edge\"><title>beac&#45;&gt;9</title>\n",
       "<path fill=\"none\" stroke=\"black\" d=\"M264.43,-74.8345C254.25,-64.9376 240.476,-51.5462 228.969,-40.3591\"/>\n",
       "<polygon fill=\"black\" stroke=\"black\" points=\"231.405,-37.8461 221.796,-33.3847 226.526,-42.865 231.405,-37.8461\"/>\n",
       "</g>\n",
       "<!-- 5 -->\n",
       "<g id=\"node14\" class=\"node\"><title>5</title>\n",
       "<ellipse fill=\"none\" stroke=\"black\" cx=\"279\" cy=\"-18\" rx=\"27\" ry=\"18\"/>\n",
       "<text text-anchor=\"middle\" x=\"279\" y=\"-14.3\" font-family=\"Times,serif\" font-size=\"14.00\">5</text>\n",
       "</g>\n",
       "<!-- beac&#45;&gt;5 -->\n",
       "<g id=\"edge10\" class=\"edge\"><title>beac&#45;&gt;5</title>\n",
       "<path fill=\"none\" stroke=\"black\" d=\"M279,-71.6966C279,-63.9827 279,-54.7125 279,-46.1124\"/>\n",
       "<polygon fill=\"black\" stroke=\"black\" points=\"282.5,-46.1043 279,-36.1043 275.5,-46.1044 282.5,-46.1043\"/>\n",
       "</g>\n",
       "<!-- bde -->\n",
       "<g id=\"node7\" class=\"node\"><title>bde</title>\n",
       "<ellipse fill=\"none\" stroke=\"black\" cx=\"387\" cy=\"-162\" rx=\"27\" ry=\"18\"/>\n",
       "<text text-anchor=\"middle\" x=\"387\" y=\"-158.3\" font-family=\"Times,serif\" font-size=\"14.00\">bde</text>\n",
       "</g>\n",
       "<!-- 2 -->\n",
       "<g id=\"node17\" class=\"node\"><title>2</title>\n",
       "<ellipse fill=\"none\" stroke=\"black\" cx=\"351\" cy=\"-90\" rx=\"27\" ry=\"18\"/>\n",
       "<text text-anchor=\"middle\" x=\"351\" y=\"-86.3\" font-family=\"Times,serif\" font-size=\"14.00\">2</text>\n",
       "</g>\n",
       "<!-- bde&#45;&gt;2 -->\n",
       "<g id=\"edge14\" class=\"edge\"><title>bde&#45;&gt;2</title>\n",
       "<path fill=\"none\" stroke=\"black\" d=\"M378.65,-144.765C374.288,-136.283 368.853,-125.714 363.959,-116.197\"/>\n",
       "<polygon fill=\"black\" stroke=\"black\" points=\"366.99,-114.439 359.304,-107.147 360.765,-117.641 366.99,-114.439\"/>\n",
       "</g>\n",
       "<!-- 3 -->\n",
       "<g id=\"node18\" class=\"node\"><title>3</title>\n",
       "<ellipse fill=\"none\" stroke=\"black\" cx=\"423\" cy=\"-90\" rx=\"27\" ry=\"18\"/>\n",
       "<text text-anchor=\"middle\" x=\"423\" y=\"-86.3\" font-family=\"Times,serif\" font-size=\"14.00\">3</text>\n",
       "</g>\n",
       "<!-- bde&#45;&gt;3 -->\n",
       "<g id=\"edge15\" class=\"edge\"><title>bde&#45;&gt;3</title>\n",
       "<path fill=\"none\" stroke=\"black\" d=\"M395.35,-144.765C399.712,-136.283 405.147,-125.714 410.041,-116.197\"/>\n",
       "<polygon fill=\"black\" stroke=\"black\" points=\"413.235,-117.641 414.696,-107.147 407.01,-114.439 413.235,-117.641\"/>\n",
       "</g>\n",
       "<!-- bea -->\n",
       "<g id=\"node9\" class=\"node\"><title>bea</title>\n",
       "<ellipse fill=\"none\" stroke=\"black\" cx=\"243\" cy=\"-162\" rx=\"27\" ry=\"18\"/>\n",
       "<text text-anchor=\"middle\" x=\"243\" y=\"-158.3\" font-family=\"Times,serif\" font-size=\"14.00\">bea</text>\n",
       "</g>\n",
       "<!-- bea&#45;&gt;4 -->\n",
       "<g id=\"edge11\" class=\"edge\"><title>bea&#45;&gt;4</title>\n",
       "<path fill=\"none\" stroke=\"black\" d=\"M234.65,-144.765C230.288,-136.283 224.853,-125.714 219.959,-116.197\"/>\n",
       "<polygon fill=\"black\" stroke=\"black\" points=\"222.99,-114.439 215.304,-107.147 216.765,-117.641 222.99,-114.439\"/>\n",
       "</g>\n",
       "<!-- bea&#45;&gt;beac -->\n",
       "<g id=\"edge8\" class=\"edge\"><title>bea&#45;&gt;beac</title>\n",
       "<path fill=\"none\" stroke=\"black\" d=\"M251.35,-144.765C255.712,-136.283 261.147,-125.714 266.041,-116.197\"/>\n",
       "<polygon fill=\"black\" stroke=\"black\" points=\"269.235,-117.641 270.696,-107.147 263.01,-114.439 269.235,-117.641\"/>\n",
       "</g>\n",
       "<!-- bda -->\n",
       "<g id=\"node10\" class=\"node\"><title>bda</title>\n",
       "<ellipse fill=\"none\" stroke=\"black\" cx=\"495\" cy=\"-162\" rx=\"27\" ry=\"18\"/>\n",
       "<text text-anchor=\"middle\" x=\"495\" y=\"-158.3\" font-family=\"Times,serif\" font-size=\"14.00\">bda</text>\n",
       "</g>\n",
       "<!-- bda&#45;&gt;1 -->\n",
       "<g id=\"edge18\" class=\"edge\"><title>bda&#45;&gt;1</title>\n",
       "<path fill=\"none\" stroke=\"black\" d=\"M495,-143.697C495,-135.983 495,-126.712 495,-118.112\"/>\n",
       "<polygon fill=\"black\" stroke=\"black\" points=\"498.5,-118.104 495,-108.104 491.5,-118.104 498.5,-118.104\"/>\n",
       "</g>\n",
       "<!-- 7 -->\n",
       "<g id=\"node16\" class=\"node\"><title>7</title>\n",
       "<ellipse fill=\"none\" stroke=\"black\" cx=\"567\" cy=\"-90\" rx=\"27\" ry=\"18\"/>\n",
       "<text text-anchor=\"middle\" x=\"567\" y=\"-86.3\" font-family=\"Times,serif\" font-size=\"14.00\">7</text>\n",
       "</g>\n",
       "<!-- bda&#45;&gt;7 -->\n",
       "<g id=\"edge17\" class=\"edge\"><title>bda&#45;&gt;7</title>\n",
       "<path fill=\"none\" stroke=\"black\" d=\"M509.57,-146.834C519.75,-136.938 533.524,-123.546 545.031,-112.359\"/>\n",
       "<polygon fill=\"black\" stroke=\"black\" points=\"547.474,-114.865 552.204,-105.385 542.595,-109.846 547.474,-114.865\"/>\n",
       "</g>\n",
       "<!-- be&#45;&gt;bed -->\n",
       "<g id=\"edge2\" class=\"edge\"><title>be&#45;&gt;bed</title>\n",
       "<path fill=\"none\" stroke=\"black\" d=\"M224.188,-220.807C206.998,-209.665 181.382,-193.062 162.007,-180.504\"/>\n",
       "<polygon fill=\"black\" stroke=\"black\" points=\"163.892,-177.555 153.597,-175.053 160.084,-183.429 163.892,-177.555\"/>\n",
       "</g>\n",
       "<!-- be&#45;&gt;bea -->\n",
       "<g id=\"edge7\" class=\"edge\"><title>be&#45;&gt;bea</title>\n",
       "<path fill=\"none\" stroke=\"black\" d=\"M243,-215.697C243,-207.983 243,-198.712 243,-190.112\"/>\n",
       "<polygon fill=\"black\" stroke=\"black\" points=\"246.5,-190.104 243,-180.104 239.5,-190.104 246.5,-190.104\"/>\n",
       "</g>\n",
       "<!-- bedc&#45;&gt;6 -->\n",
       "<g id=\"edge5\" class=\"edge\"><title>bedc&#45;&gt;6</title>\n",
       "<path fill=\"none\" stroke=\"black\" d=\"M54.6504,-72.7646C50.2885,-64.2831 44.8531,-53.7144 39.9587,-44.1974\"/>\n",
       "<polygon fill=\"black\" stroke=\"black\" points=\"42.9904,-42.4395 35.3043,-35.1473 36.7654,-45.6409 42.9904,-42.4395\"/>\n",
       "</g>\n",
       "<!-- 8 -->\n",
       "<g id=\"node19\" class=\"node\"><title>8</title>\n",
       "<ellipse fill=\"none\" stroke=\"black\" cx=\"99\" cy=\"-18\" rx=\"27\" ry=\"18\"/>\n",
       "<text text-anchor=\"middle\" x=\"99\" y=\"-14.3\" font-family=\"Times,serif\" font-size=\"14.00\">8</text>\n",
       "</g>\n",
       "<!-- bedc&#45;&gt;8 -->\n",
       "<g id=\"edge4\" class=\"edge\"><title>bedc&#45;&gt;8</title>\n",
       "<path fill=\"none\" stroke=\"black\" d=\"M71.3496,-72.7646C75.7115,-64.2831 81.1469,-53.7144 86.0413,-44.1974\"/>\n",
       "<polygon fill=\"black\" stroke=\"black\" points=\"89.2346,-45.6409 90.6957,-35.1473 83.0096,-42.4395 89.2346,-45.6409\"/>\n",
       "</g>\n",
       "<!-- bd&#45;&gt;bde -->\n",
       "<g id=\"edge13\" class=\"edge\"><title>bd&#45;&gt;bde</title>\n",
       "<path fill=\"none\" stroke=\"black\" d=\"M387,-215.697C387,-207.983 387,-198.712 387,-190.112\"/>\n",
       "<polygon fill=\"black\" stroke=\"black\" points=\"390.5,-190.104 387,-180.104 383.5,-190.104 390.5,-190.104\"/>\n",
       "</g>\n",
       "<!-- bd&#45;&gt;bda -->\n",
       "<g id=\"edge16\" class=\"edge\"><title>bd&#45;&gt;bda</title>\n",
       "<path fill=\"none\" stroke=\"black\" d=\"M405.812,-220.807C423.002,-209.665 448.618,-193.062 467.993,-180.504\"/>\n",
       "<polygon fill=\"black\" stroke=\"black\" points=\"469.916,-183.429 476.403,-175.053 466.108,-177.555 469.916,-183.429\"/>\n",
       "</g>\n",
       "</g>\n",
       "</svg>\n"
      ],
      "text/plain": [
       "<graphviz.dot.Digraph at 0x7f2260d6ab38>"
      ]
     },
     "execution_count": 483,
     "metadata": {},
     "output_type": "execute_result"
    }
   ],
   "source": [
    "graph"
   ]
  },
  {
   "cell_type": "markdown",
   "metadata": {
    "deletable": true,
    "editable": true
   },
   "source": [
    "* **f** et **g** ne sont pas dans l'arbre\n",
    "* Est-ce que c'est l'arbre le plus petit possible ? oui  (10 feuilles) mais il n'est pas unique (score Gini ex-aequo)\n",
    "* et avec du bruit ? un segment défaillant..."
   ]
  },
  {
   "cell_type": "code",
   "execution_count": 515,
   "metadata": {
    "collapsed": true,
    "deletable": true,
    "editable": true
   },
   "outputs": [],
   "source": [
    "graph = gv.Digraph(format='svg')\n",
    "\n",
    "def grow_graph( D, parent=''):\n",
    "    \n",
    "    critere = get_Gini(D)[0][0]\n",
    "    print( get_Gini(D)[0] )\n",
    "    \n",
    "    #edges = [[parent, parent+critere]]\n",
    "    #graph.node( parent )\n",
    "    graph.node(  parent+critere, label=critere+'?' )\n",
    "    graph.edge(parent, parent+critere)\n",
    "    \n",
    "    branches12 = crible(D, critere)\n",
    "    for branche in branches12:\n",
    "        if len(branche)>1:\n",
    "            sous_arbre = grow_graph( branche, parent=parent+critere )\n",
    "            #edges.extend( sous_arbre )\n",
    "\n",
    "        else: # feuille\n",
    "            #edges.extend( [[parent+critere, str(f)] for f in branche] )\n",
    "            graph.node( str(branche[0]) )\n",
    "            graph.edge(parent+critere, str(branche[0]))\n",
    "\n",
    "    return edges"
   ]
  },
  {
   "cell_type": "code",
   "execution_count": 516,
   "metadata": {
    "collapsed": false,
    "deletable": true,
    "editable": true
   },
   "outputs": [
    {
     "name": "stdout",
     "output_type": "stream",
     "text": [
      "('b', 0.48)\n",
      "('e', 0.5)\n",
      "('d', 0.4444444444444445)\n",
      "('c', 0.5)\n",
      "('a', 0.4444444444444445)\n",
      "('c', 0.5)\n",
      "('d', 0.5)\n",
      "('e', 0.5)\n",
      "('a', 0.5)\n"
     ]
    },
    {
     "data": {
      "image/svg+xml": [
       "<?xml version=\"1.0\" encoding=\"UTF-8\" standalone=\"no\"?>\n",
       "<!DOCTYPE svg PUBLIC \"-//W3C//DTD SVG 1.1//EN\"\n",
       " \"http://www.w3.org/Graphics/SVG/1.1/DTD/svg11.dtd\">\n",
       "<!-- Generated by graphviz version 2.36.0 (20140111.2315)\n",
       " -->\n",
       "<!-- Title: %3 Pages: 1 -->\n",
       "<svg width=\"620pt\" height=\"404pt\"\n",
       " viewBox=\"0.00 0.00 620.00 404.00\" xmlns=\"http://www.w3.org/2000/svg\" xmlns:xlink=\"http://www.w3.org/1999/xlink\">\n",
       "<g id=\"graph0\" class=\"graph\" transform=\"scale(1 1) rotate(0) translate(4 400)\">\n",
       "<title>%3</title>\n",
       "<polygon fill=\"white\" stroke=\"none\" points=\"-4,4 -4,-400 616,-400 616,4 -4,4\"/>\n",
       "<!-- b -->\n",
       "<g id=\"node1\" class=\"node\"><title>b</title>\n",
       "<ellipse fill=\"none\" stroke=\"black\" cx=\"333\" cy=\"-306\" rx=\"27\" ry=\"18\"/>\n",
       "<text text-anchor=\"middle\" x=\"333\" y=\"-302.3\" font-family=\"Times,serif\" font-size=\"14.00\">b?</text>\n",
       "</g>\n",
       "<!-- be -->\n",
       "<g id=\"node3\" class=\"node\"><title>be</title>\n",
       "<ellipse fill=\"none\" stroke=\"black\" cx=\"261\" cy=\"-234\" rx=\"27\" ry=\"18\"/>\n",
       "<text text-anchor=\"middle\" x=\"261\" y=\"-230.3\" font-family=\"Times,serif\" font-size=\"14.00\">e?</text>\n",
       "</g>\n",
       "<!-- b&#45;&gt;be -->\n",
       "<g id=\"edge2\" class=\"edge\"><title>b&#45;&gt;be</title>\n",
       "<path fill=\"none\" stroke=\"black\" d=\"M318.43,-290.834C308.25,-280.938 294.476,-267.546 282.969,-256.359\"/>\n",
       "<polygon fill=\"black\" stroke=\"black\" points=\"285.405,-253.846 275.796,-249.385 280.526,-258.865 285.405,-253.846\"/>\n",
       "</g>\n",
       "<!-- bd -->\n",
       "<g id=\"node14\" class=\"node\"><title>bd</title>\n",
       "<ellipse fill=\"none\" stroke=\"black\" cx=\"405\" cy=\"-234\" rx=\"27\" ry=\"18\"/>\n",
       "<text text-anchor=\"middle\" x=\"405\" y=\"-230.3\" font-family=\"Times,serif\" font-size=\"14.00\">d?</text>\n",
       "</g>\n",
       "<!-- b&#45;&gt;bd -->\n",
       "<g id=\"edge13\" class=\"edge\"><title>b&#45;&gt;bd</title>\n",
       "<path fill=\"none\" stroke=\"black\" d=\"M347.57,-290.834C357.75,-280.938 371.524,-267.546 383.031,-256.359\"/>\n",
       "<polygon fill=\"black\" stroke=\"black\" points=\"385.474,-258.865 390.204,-249.385 380.595,-253.846 385.474,-258.865\"/>\n",
       "</g>\n",
       "<g id=\"node2\" class=\"node\"><title></title>\n",
       "<ellipse fill=\"none\" stroke=\"black\" cx=\"333\" cy=\"-378\" rx=\"27\" ry=\"18\"/>\n",
       "</g>\n",
       "<!-- &#45;&gt;b -->\n",
       "<g id=\"edge1\" class=\"edge\"><title>&#45;&gt;b</title>\n",
       "<path fill=\"none\" stroke=\"black\" d=\"M333,-359.697C333,-351.983 333,-342.712 333,-334.112\"/>\n",
       "<polygon fill=\"black\" stroke=\"black\" points=\"336.5,-334.104 333,-324.104 329.5,-334.104 336.5,-334.104\"/>\n",
       "</g>\n",
       "<!-- bed -->\n",
       "<g id=\"node4\" class=\"node\"><title>bed</title>\n",
       "<ellipse fill=\"none\" stroke=\"black\" cx=\"153\" cy=\"-162\" rx=\"27\" ry=\"18\"/>\n",
       "<text text-anchor=\"middle\" x=\"153\" y=\"-158.3\" font-family=\"Times,serif\" font-size=\"14.00\">d?</text>\n",
       "</g>\n",
       "<!-- be&#45;&gt;bed -->\n",
       "<g id=\"edge3\" class=\"edge\"><title>be&#45;&gt;bed</title>\n",
       "<path fill=\"none\" stroke=\"black\" d=\"M242.188,-220.807C224.998,-209.665 199.382,-193.062 180.007,-180.504\"/>\n",
       "<polygon fill=\"black\" stroke=\"black\" points=\"181.892,-177.555 171.597,-175.053 178.084,-183.429 181.892,-177.555\"/>\n",
       "</g>\n",
       "<!-- bea -->\n",
       "<g id=\"node9\" class=\"node\"><title>bea</title>\n",
       "<ellipse fill=\"none\" stroke=\"black\" cx=\"261\" cy=\"-162\" rx=\"27\" ry=\"18\"/>\n",
       "<text text-anchor=\"middle\" x=\"261\" y=\"-158.3\" font-family=\"Times,serif\" font-size=\"14.00\">a?</text>\n",
       "</g>\n",
       "<!-- be&#45;&gt;bea -->\n",
       "<g id=\"edge8\" class=\"edge\"><title>be&#45;&gt;bea</title>\n",
       "<path fill=\"none\" stroke=\"black\" d=\"M261,-215.697C261,-207.983 261,-198.712 261,-190.112\"/>\n",
       "<polygon fill=\"black\" stroke=\"black\" points=\"264.5,-190.104 261,-180.104 257.5,-190.104 264.5,-190.104\"/>\n",
       "</g>\n",
       "<!-- bedc -->\n",
       "<g id=\"node5\" class=\"node\"><title>bedc</title>\n",
       "<ellipse fill=\"none\" stroke=\"black\" cx=\"81\" cy=\"-90\" rx=\"27\" ry=\"18\"/>\n",
       "<text text-anchor=\"middle\" x=\"81\" y=\"-86.3\" font-family=\"Times,serif\" font-size=\"14.00\">c?</text>\n",
       "</g>\n",
       "<!-- bed&#45;&gt;bedc -->\n",
       "<g id=\"edge4\" class=\"edge\"><title>bed&#45;&gt;bedc</title>\n",
       "<path fill=\"none\" stroke=\"black\" d=\"M138.43,-146.834C128.25,-136.938 114.476,-123.546 102.969,-112.359\"/>\n",
       "<polygon fill=\"black\" stroke=\"black\" points=\"105.405,-109.846 95.7957,-105.385 100.526,-114.865 105.405,-109.846\"/>\n",
       "</g>\n",
       "<!-- 0 -->\n",
       "<g id=\"node8\" class=\"node\"><title>0</title>\n",
       "<ellipse fill=\"none\" stroke=\"black\" cx=\"153\" cy=\"-90\" rx=\"27\" ry=\"18\"/>\n",
       "<text text-anchor=\"middle\" x=\"153\" y=\"-86.3\" font-family=\"Times,serif\" font-size=\"14.00\">0</text>\n",
       "</g>\n",
       "<!-- bed&#45;&gt;0 -->\n",
       "<g id=\"edge7\" class=\"edge\"><title>bed&#45;&gt;0</title>\n",
       "<path fill=\"none\" stroke=\"black\" d=\"M153,-143.697C153,-135.983 153,-126.712 153,-118.112\"/>\n",
       "<polygon fill=\"black\" stroke=\"black\" points=\"156.5,-118.104 153,-108.104 149.5,-118.104 156.5,-118.104\"/>\n",
       "</g>\n",
       "<!-- 8 -->\n",
       "<g id=\"node6\" class=\"node\"><title>8</title>\n",
       "<ellipse fill=\"none\" stroke=\"black\" cx=\"27\" cy=\"-18\" rx=\"27\" ry=\"18\"/>\n",
       "<text text-anchor=\"middle\" x=\"27\" y=\"-14.3\" font-family=\"Times,serif\" font-size=\"14.00\">8</text>\n",
       "</g>\n",
       "<!-- bedc&#45;&gt;8 -->\n",
       "<g id=\"edge5\" class=\"edge\"><title>bedc&#45;&gt;8</title>\n",
       "<path fill=\"none\" stroke=\"black\" d=\"M69.0156,-73.4647C62.0245,-64.4021 53.0638,-52.7865 45.2149,-42.6119\"/>\n",
       "<polygon fill=\"black\" stroke=\"black\" points=\"47.8302,-40.2719 38.9508,-34.4918 42.2877,-44.5475 47.8302,-40.2719\"/>\n",
       "</g>\n",
       "<!-- 6 -->\n",
       "<g id=\"node7\" class=\"node\"><title>6</title>\n",
       "<ellipse fill=\"none\" stroke=\"black\" cx=\"99\" cy=\"-18\" rx=\"27\" ry=\"18\"/>\n",
       "<text text-anchor=\"middle\" x=\"99\" y=\"-14.3\" font-family=\"Times,serif\" font-size=\"14.00\">6</text>\n",
       "</g>\n",
       "<!-- bedc&#45;&gt;6 -->\n",
       "<g id=\"edge6\" class=\"edge\"><title>bedc&#45;&gt;6</title>\n",
       "<path fill=\"none\" stroke=\"black\" d=\"M85.3573,-72.055C87.3914,-64.1446 89.8612,-54.5398 92.1374,-45.6879\"/>\n",
       "<polygon fill=\"black\" stroke=\"black\" points=\"95.5821,-46.3456 94.6828,-35.789 88.8026,-44.6023 95.5821,-46.3456\"/>\n",
       "</g>\n",
       "<!-- beac -->\n",
       "<g id=\"node10\" class=\"node\"><title>beac</title>\n",
       "<ellipse fill=\"none\" stroke=\"black\" cx=\"225\" cy=\"-90\" rx=\"27\" ry=\"18\"/>\n",
       "<text text-anchor=\"middle\" x=\"225\" y=\"-86.3\" font-family=\"Times,serif\" font-size=\"14.00\">c?</text>\n",
       "</g>\n",
       "<!-- bea&#45;&gt;beac -->\n",
       "<g id=\"edge9\" class=\"edge\"><title>bea&#45;&gt;beac</title>\n",
       "<path fill=\"none\" stroke=\"black\" d=\"M252.65,-144.765C248.288,-136.283 242.853,-125.714 237.959,-116.197\"/>\n",
       "<polygon fill=\"black\" stroke=\"black\" points=\"240.99,-114.439 233.304,-107.147 234.765,-117.641 240.99,-114.439\"/>\n",
       "</g>\n",
       "<!-- 4 -->\n",
       "<g id=\"node13\" class=\"node\"><title>4</title>\n",
       "<ellipse fill=\"none\" stroke=\"black\" cx=\"297\" cy=\"-90\" rx=\"27\" ry=\"18\"/>\n",
       "<text text-anchor=\"middle\" x=\"297\" y=\"-86.3\" font-family=\"Times,serif\" font-size=\"14.00\">4</text>\n",
       "</g>\n",
       "<!-- bea&#45;&gt;4 -->\n",
       "<g id=\"edge12\" class=\"edge\"><title>bea&#45;&gt;4</title>\n",
       "<path fill=\"none\" stroke=\"black\" d=\"M269.35,-144.765C273.712,-136.283 279.147,-125.714 284.041,-116.197\"/>\n",
       "<polygon fill=\"black\" stroke=\"black\" points=\"287.235,-117.641 288.696,-107.147 281.01,-114.439 287.235,-117.641\"/>\n",
       "</g>\n",
       "<!-- 9 -->\n",
       "<g id=\"node11\" class=\"node\"><title>9</title>\n",
       "<ellipse fill=\"none\" stroke=\"black\" cx=\"189\" cy=\"-18\" rx=\"27\" ry=\"18\"/>\n",
       "<text text-anchor=\"middle\" x=\"189\" y=\"-14.3\" font-family=\"Times,serif\" font-size=\"14.00\">9</text>\n",
       "</g>\n",
       "<!-- beac&#45;&gt;9 -->\n",
       "<g id=\"edge10\" class=\"edge\"><title>beac&#45;&gt;9</title>\n",
       "<path fill=\"none\" stroke=\"black\" d=\"M216.65,-72.7646C212.288,-64.2831 206.853,-53.7144 201.959,-44.1974\"/>\n",
       "<polygon fill=\"black\" stroke=\"black\" points=\"204.99,-42.4395 197.304,-35.1473 198.765,-45.6409 204.99,-42.4395\"/>\n",
       "</g>\n",
       "<!-- 5 -->\n",
       "<g id=\"node12\" class=\"node\"><title>5</title>\n",
       "<ellipse fill=\"none\" stroke=\"black\" cx=\"261\" cy=\"-18\" rx=\"27\" ry=\"18\"/>\n",
       "<text text-anchor=\"middle\" x=\"261\" y=\"-14.3\" font-family=\"Times,serif\" font-size=\"14.00\">5</text>\n",
       "</g>\n",
       "<!-- beac&#45;&gt;5 -->\n",
       "<g id=\"edge11\" class=\"edge\"><title>beac&#45;&gt;5</title>\n",
       "<path fill=\"none\" stroke=\"black\" d=\"M233.35,-72.7646C237.712,-64.2831 243.147,-53.7144 248.041,-44.1974\"/>\n",
       "<polygon fill=\"black\" stroke=\"black\" points=\"251.235,-45.6409 252.696,-35.1473 245.01,-42.4395 251.235,-45.6409\"/>\n",
       "</g>\n",
       "<!-- bde -->\n",
       "<g id=\"node15\" class=\"node\"><title>bde</title>\n",
       "<ellipse fill=\"none\" stroke=\"black\" cx=\"405\" cy=\"-162\" rx=\"27\" ry=\"18\"/>\n",
       "<text text-anchor=\"middle\" x=\"405\" y=\"-158.3\" font-family=\"Times,serif\" font-size=\"14.00\">e?</text>\n",
       "</g>\n",
       "<!-- bd&#45;&gt;bde -->\n",
       "<g id=\"edge14\" class=\"edge\"><title>bd&#45;&gt;bde</title>\n",
       "<path fill=\"none\" stroke=\"black\" d=\"M405,-215.697C405,-207.983 405,-198.712 405,-190.112\"/>\n",
       "<polygon fill=\"black\" stroke=\"black\" points=\"408.5,-190.104 405,-180.104 401.5,-190.104 408.5,-190.104\"/>\n",
       "</g>\n",
       "<!-- bda -->\n",
       "<g id=\"node18\" class=\"node\"><title>bda</title>\n",
       "<ellipse fill=\"none\" stroke=\"black\" cx=\"513\" cy=\"-162\" rx=\"27\" ry=\"18\"/>\n",
       "<text text-anchor=\"middle\" x=\"513\" y=\"-158.3\" font-family=\"Times,serif\" font-size=\"14.00\">a?</text>\n",
       "</g>\n",
       "<!-- bd&#45;&gt;bda -->\n",
       "<g id=\"edge17\" class=\"edge\"><title>bd&#45;&gt;bda</title>\n",
       "<path fill=\"none\" stroke=\"black\" d=\"M423.812,-220.807C441.002,-209.665 466.618,-193.062 485.993,-180.504\"/>\n",
       "<polygon fill=\"black\" stroke=\"black\" points=\"487.916,-183.429 494.403,-175.053 484.108,-177.555 487.916,-183.429\"/>\n",
       "</g>\n",
       "<!-- 2 -->\n",
       "<g id=\"node16\" class=\"node\"><title>2</title>\n",
       "<ellipse fill=\"none\" stroke=\"black\" cx=\"369\" cy=\"-90\" rx=\"27\" ry=\"18\"/>\n",
       "<text text-anchor=\"middle\" x=\"369\" y=\"-86.3\" font-family=\"Times,serif\" font-size=\"14.00\">2</text>\n",
       "</g>\n",
       "<!-- bde&#45;&gt;2 -->\n",
       "<g id=\"edge15\" class=\"edge\"><title>bde&#45;&gt;2</title>\n",
       "<path fill=\"none\" stroke=\"black\" d=\"M396.65,-144.765C392.288,-136.283 386.853,-125.714 381.959,-116.197\"/>\n",
       "<polygon fill=\"black\" stroke=\"black\" points=\"384.99,-114.439 377.304,-107.147 378.765,-117.641 384.99,-114.439\"/>\n",
       "</g>\n",
       "<!-- 3 -->\n",
       "<g id=\"node17\" class=\"node\"><title>3</title>\n",
       "<ellipse fill=\"none\" stroke=\"black\" cx=\"441\" cy=\"-90\" rx=\"27\" ry=\"18\"/>\n",
       "<text text-anchor=\"middle\" x=\"441\" y=\"-86.3\" font-family=\"Times,serif\" font-size=\"14.00\">3</text>\n",
       "</g>\n",
       "<!-- bde&#45;&gt;3 -->\n",
       "<g id=\"edge16\" class=\"edge\"><title>bde&#45;&gt;3</title>\n",
       "<path fill=\"none\" stroke=\"black\" d=\"M413.35,-144.765C417.712,-136.283 423.147,-125.714 428.041,-116.197\"/>\n",
       "<polygon fill=\"black\" stroke=\"black\" points=\"431.235,-117.641 432.696,-107.147 425.01,-114.439 431.235,-117.641\"/>\n",
       "</g>\n",
       "<!-- 7 -->\n",
       "<g id=\"node19\" class=\"node\"><title>7</title>\n",
       "<ellipse fill=\"none\" stroke=\"black\" cx=\"513\" cy=\"-90\" rx=\"27\" ry=\"18\"/>\n",
       "<text text-anchor=\"middle\" x=\"513\" y=\"-86.3\" font-family=\"Times,serif\" font-size=\"14.00\">7</text>\n",
       "</g>\n",
       "<!-- bda&#45;&gt;7 -->\n",
       "<g id=\"edge18\" class=\"edge\"><title>bda&#45;&gt;7</title>\n",
       "<path fill=\"none\" stroke=\"black\" d=\"M513,-143.697C513,-135.983 513,-126.712 513,-118.112\"/>\n",
       "<polygon fill=\"black\" stroke=\"black\" points=\"516.5,-118.104 513,-108.104 509.5,-118.104 516.5,-118.104\"/>\n",
       "</g>\n",
       "<!-- 1 -->\n",
       "<g id=\"node20\" class=\"node\"><title>1</title>\n",
       "<ellipse fill=\"none\" stroke=\"black\" cx=\"585\" cy=\"-90\" rx=\"27\" ry=\"18\"/>\n",
       "<text text-anchor=\"middle\" x=\"585\" y=\"-86.3\" font-family=\"Times,serif\" font-size=\"14.00\">1</text>\n",
       "</g>\n",
       "<!-- bda&#45;&gt;1 -->\n",
       "<g id=\"edge19\" class=\"edge\"><title>bda&#45;&gt;1</title>\n",
       "<path fill=\"none\" stroke=\"black\" d=\"M527.57,-146.834C537.75,-136.938 551.524,-123.546 563.031,-112.359\"/>\n",
       "<polygon fill=\"black\" stroke=\"black\" points=\"565.474,-114.865 570.204,-105.385 560.595,-109.846 565.474,-114.865\"/>\n",
       "</g>\n",
       "</g>\n",
       "</svg>\n"
      ],
      "text/plain": [
       "<graphviz.dot.Digraph at 0x7f2260d7c3c8>"
      ]
     },
     "execution_count": 516,
     "metadata": {},
     "output_type": "execute_result"
    }
   ],
   "source": [
    "grow_graph( D )\n",
    "graph"
   ]
  },
  {
   "cell_type": "markdown",
   "metadata": {
    "deletable": true,
    "editable": true
   },
   "source": [
    "## Arbres en python"
   ]
  },
  {
   "cell_type": "code",
   "execution_count": 87,
   "metadata": {
    "collapsed": true,
    "deletable": true,
    "editable": true
   },
   "outputs": [],
   "source": [
    "import graphviz as gv\n",
    "# see blog:  http://matthiaseisen.com/articles/graphviz/\n",
    "# doc: https://graphviz.readthedocs.io/en/stable/"
   ]
  },
  {
   "cell_type": "code",
   "execution_count": 88,
   "metadata": {
    "collapsed": false,
    "deletable": true,
    "editable": true
   },
   "outputs": [],
   "source": [
    "# Construit l'arbre dans Graphviz\n",
    "# et l'affiche\n",
    "\n",
    "def construct( T, root ):\n",
    "    G = gv.Digraph(format='svg')\n",
    "    visited = []\n",
    "    def visit(n):\n",
    "        if n in visited:\n",
    "            raise NameError('boucle')\n",
    "        visited.append(n)\n",
    "        \n",
    "        if n in T:\n",
    "            G.node(n, label=n+'?')\n",
    "            G.edge(n, T[n][0], label='L')\n",
    "            G.edge(n, T[n][1], label='R')\n",
    "            visit( T[n][0] )\n",
    "            visit( T[n][1] )\n",
    "        else:\n",
    "            G.node(n, label=n+'.')\n",
    "            \n",
    "    visit(root)\n",
    "    \n",
    "    return G"
   ]
  },
  {
   "cell_type": "markdown",
   "metadata": {
    "deletable": true,
    "editable": true
   },
   "source": [
    "### Notation\n",
    "parent: (enfant1, enfant2)"
   ]
  },
  {
   "cell_type": "code",
   "execution_count": 94,
   "metadata": {
    "collapsed": false,
    "deletable": true,
    "editable": true
   },
   "outputs": [],
   "source": [
    "T = {'a':('1', 'b'), 'b':('2', '3')}"
   ]
  },
  {
   "cell_type": "code",
   "execution_count": 95,
   "metadata": {
    "collapsed": false,
    "deletable": true,
    "editable": true
   },
   "outputs": [
    {
     "data": {
      "image/svg+xml": [
       "<?xml version=\"1.0\" encoding=\"UTF-8\" standalone=\"no\"?>\n",
       "<!DOCTYPE svg PUBLIC \"-//W3C//DTD SVG 1.1//EN\"\n",
       " \"http://www.w3.org/Graphics/SVG/1.1/DTD/svg11.dtd\">\n",
       "<!-- Generated by graphviz version 2.36.0 (20140111.2315)\n",
       " -->\n",
       "<!-- Title: %3 Pages: 1 -->\n",
       "<svg width=\"170pt\" height=\"220pt\"\n",
       " viewBox=\"0.00 0.00 170.00 220.00\" xmlns=\"http://www.w3.org/2000/svg\" xmlns:xlink=\"http://www.w3.org/1999/xlink\">\n",
       "<g id=\"graph0\" class=\"graph\" transform=\"scale(1 1) rotate(0) translate(4 216)\">\n",
       "<title>%3</title>\n",
       "<polygon fill=\"white\" stroke=\"none\" points=\"-4,4 -4,-216 166,-216 166,4 -4,4\"/>\n",
       "<!-- a -->\n",
       "<g id=\"node1\" class=\"node\"><title>a</title>\n",
       "<ellipse fill=\"none\" stroke=\"black\" cx=\"53\" cy=\"-194\" rx=\"27\" ry=\"18\"/>\n",
       "<text text-anchor=\"middle\" x=\"53\" y=\"-190.3\" font-family=\"Times,serif\" font-size=\"14.00\">a?</text>\n",
       "</g>\n",
       "<!-- 1 -->\n",
       "<g id=\"node2\" class=\"node\"><title>1</title>\n",
       "<ellipse fill=\"none\" stroke=\"black\" cx=\"27\" cy=\"-106\" rx=\"27\" ry=\"18\"/>\n",
       "<text text-anchor=\"middle\" x=\"27\" y=\"-102.3\" font-family=\"Times,serif\" font-size=\"14.00\">1.</text>\n",
       "</g>\n",
       "<!-- a&#45;&gt;1 -->\n",
       "<g id=\"edge1\" class=\"edge\"><title>a&#45;&gt;1</title>\n",
       "<path fill=\"none\" stroke=\"black\" d=\"M47.8632,-176.009C44.231,-163.995 39.2868,-147.641 35.1232,-133.869\"/>\n",
       "<polygon fill=\"black\" stroke=\"black\" points=\"38.3703,-132.515 32.1261,-123.956 31.6698,-134.541 38.3703,-132.515\"/>\n",
       "<text text-anchor=\"middle\" x=\"47.5\" y=\"-146.3\" font-family=\"Times,serif\" font-size=\"14.00\">L</text>\n",
       "</g>\n",
       "<!-- b -->\n",
       "<g id=\"node3\" class=\"node\"><title>b</title>\n",
       "<ellipse fill=\"none\" stroke=\"black\" cx=\"99\" cy=\"-106\" rx=\"27\" ry=\"18\"/>\n",
       "<text text-anchor=\"middle\" x=\"99\" y=\"-102.3\" font-family=\"Times,serif\" font-size=\"14.00\">b?</text>\n",
       "</g>\n",
       "<!-- a&#45;&gt;b -->\n",
       "<g id=\"edge2\" class=\"edge\"><title>a&#45;&gt;b</title>\n",
       "<path fill=\"none\" stroke=\"black\" d=\"M61.6522,-176.824C68.3986,-164.211 77.8869,-146.472 85.6116,-132.031\"/>\n",
       "<polygon fill=\"black\" stroke=\"black\" points=\"88.7562,-133.572 90.3865,-123.103 82.5837,-130.27 88.7562,-133.572\"/>\n",
       "<text text-anchor=\"middle\" x=\"85\" y=\"-146.3\" font-family=\"Times,serif\" font-size=\"14.00\">R</text>\n",
       "</g>\n",
       "<!-- 2 -->\n",
       "<g id=\"node4\" class=\"node\"><title>2</title>\n",
       "<ellipse fill=\"none\" stroke=\"black\" cx=\"63\" cy=\"-18\" rx=\"27\" ry=\"18\"/>\n",
       "<text text-anchor=\"middle\" x=\"63\" y=\"-14.3\" font-family=\"Times,serif\" font-size=\"14.00\">2.</text>\n",
       "</g>\n",
       "<!-- b&#45;&gt;2 -->\n",
       "<g id=\"edge3\" class=\"edge\"><title>b&#45;&gt;2</title>\n",
       "<path fill=\"none\" stroke=\"black\" d=\"M92.0588,-88.4183C86.8793,-76.0451 79.7052,-58.9069 73.7814,-44.7555\"/>\n",
       "<polygon fill=\"black\" stroke=\"black\" points=\"77.0098,-43.4037 69.9199,-35.5308 70.5527,-46.1067 77.0098,-43.4037\"/>\n",
       "<text text-anchor=\"middle\" x=\"88.5\" y=\"-58.3\" font-family=\"Times,serif\" font-size=\"14.00\">L</text>\n",
       "</g>\n",
       "<!-- 3 -->\n",
       "<g id=\"node5\" class=\"node\"><title>3</title>\n",
       "<ellipse fill=\"none\" stroke=\"black\" cx=\"135\" cy=\"-18\" rx=\"27\" ry=\"18\"/>\n",
       "<text text-anchor=\"middle\" x=\"135\" y=\"-14.3\" font-family=\"Times,serif\" font-size=\"14.00\">3.</text>\n",
       "</g>\n",
       "<!-- b&#45;&gt;3 -->\n",
       "<g id=\"edge4\" class=\"edge\"><title>b&#45;&gt;3</title>\n",
       "<path fill=\"none\" stroke=\"black\" d=\"M105.941,-88.4183C111.121,-76.0451 118.295,-58.9069 124.219,-44.7555\"/>\n",
       "<polygon fill=\"black\" stroke=\"black\" points=\"127.447,-46.1067 128.08,-35.5308 120.99,-43.4037 127.447,-46.1067\"/>\n",
       "<text text-anchor=\"middle\" x=\"125\" y=\"-58.3\" font-family=\"Times,serif\" font-size=\"14.00\">R</text>\n",
       "</g>\n",
       "</g>\n",
       "</svg>\n"
      ],
      "text/plain": [
       "<graphviz.dot.Digraph at 0x7f228446ce48>"
      ]
     },
     "execution_count": 95,
     "metadata": {},
     "output_type": "execute_result"
    }
   ],
   "source": [
    "construct( T, 'a' )"
   ]
  },
  {
   "cell_type": "code",
   "execution_count": 77,
   "metadata": {
    "collapsed": false,
    "deletable": true,
    "editable": true
   },
   "outputs": [
    {
     "data": {
      "text/plain": [
       "False"
      ]
     },
     "execution_count": 77,
     "metadata": {},
     "output_type": "execute_result"
    }
   ],
   "source": [
    "'e' in T"
   ]
  },
  {
   "cell_type": "code",
   "execution_count": 28,
   "metadata": {
    "collapsed": false,
    "deletable": true,
    "editable": true
   },
   "outputs": [],
   "source": [
    "g1 = gv.Digraph(format='svg')\n",
    "g1.node('a?')\n",
    "g1.node('1')\n",
    "g1.node('3')\n",
    "g1.edge('a?', '1', label='oui')\n",
    "g1.edge('a?', '3', label='non')"
   ]
  },
  {
   "cell_type": "code",
   "execution_count": 29,
   "metadata": {
    "collapsed": false,
    "deletable": true,
    "editable": true
   },
   "outputs": [
    {
     "data": {
      "image/svg+xml": [
       "<?xml version=\"1.0\" encoding=\"UTF-8\" standalone=\"no\"?>\n",
       "<!DOCTYPE svg PUBLIC \"-//W3C//DTD SVG 1.1//EN\"\n",
       " \"http://www.w3.org/Graphics/SVG/1.1/DTD/svg11.dtd\">\n",
       "<!-- Generated by graphviz version 2.36.0 (20140111.2315)\n",
       " -->\n",
       "<!-- Title: %3 Pages: 1 -->\n",
       "<svg width=\"134pt\" height=\"132pt\"\n",
       " viewBox=\"0.00 0.00 134.00 132.00\" xmlns=\"http://www.w3.org/2000/svg\" xmlns:xlink=\"http://www.w3.org/1999/xlink\">\n",
       "<g id=\"graph0\" class=\"graph\" transform=\"scale(1 1) rotate(0) translate(4 128)\">\n",
       "<title>%3</title>\n",
       "<polygon fill=\"white\" stroke=\"none\" points=\"-4,4 -4,-128 130,-128 130,4 -4,4\"/>\n",
       "<!-- a? -->\n",
       "<g id=\"node1\" class=\"node\"><title>a?</title>\n",
       "<ellipse fill=\"none\" stroke=\"black\" cx=\"63\" cy=\"-106\" rx=\"27\" ry=\"18\"/>\n",
       "<text text-anchor=\"middle\" x=\"63\" y=\"-102.3\" font-family=\"Times,serif\" font-size=\"14.00\">a?</text>\n",
       "</g>\n",
       "<!-- 1 -->\n",
       "<g id=\"node2\" class=\"node\"><title>1</title>\n",
       "<ellipse fill=\"none\" stroke=\"black\" cx=\"27\" cy=\"-18\" rx=\"27\" ry=\"18\"/>\n",
       "<text text-anchor=\"middle\" x=\"27\" y=\"-14.3\" font-family=\"Times,serif\" font-size=\"14.00\">1</text>\n",
       "</g>\n",
       "<!-- a?&#45;&gt;1 -->\n",
       "<g id=\"edge1\" class=\"edge\"><title>a?&#45;&gt;1</title>\n",
       "<path fill=\"none\" stroke=\"black\" d=\"M56.0588,-88.4183C50.8793,-76.0451 43.7052,-58.9069 37.7814,-44.7555\"/>\n",
       "<polygon fill=\"black\" stroke=\"black\" points=\"41.0098,-43.4037 33.9199,-35.5308 34.5527,-46.1067 41.0098,-43.4037\"/>\n",
       "<text text-anchor=\"middle\" x=\"58\" y=\"-58.3\" font-family=\"Times,serif\" font-size=\"14.00\">oui</text>\n",
       "</g>\n",
       "<!-- 3 -->\n",
       "<g id=\"node3\" class=\"node\"><title>3</title>\n",
       "<ellipse fill=\"none\" stroke=\"black\" cx=\"99\" cy=\"-18\" rx=\"27\" ry=\"18\"/>\n",
       "<text text-anchor=\"middle\" x=\"99\" y=\"-14.3\" font-family=\"Times,serif\" font-size=\"14.00\">3</text>\n",
       "</g>\n",
       "<!-- a?&#45;&gt;3 -->\n",
       "<g id=\"edge2\" class=\"edge\"><title>a?&#45;&gt;3</title>\n",
       "<path fill=\"none\" stroke=\"black\" d=\"M69.9412,-88.4183C75.1207,-76.0451 82.2948,-58.9069 88.2186,-44.7555\"/>\n",
       "<polygon fill=\"black\" stroke=\"black\" points=\"91.4473,-46.1067 92.0801,-35.5308 84.9902,-43.4037 91.4473,-46.1067\"/>\n",
       "<text text-anchor=\"middle\" x=\"94.5\" y=\"-58.3\" font-family=\"Times,serif\" font-size=\"14.00\">non</text>\n",
       "</g>\n",
       "</g>\n",
       "</svg>\n"
      ],
      "text/plain": [
       "<graphviz.dot.Digraph at 0x7f22844633c8>"
      ]
     },
     "execution_count": 29,
     "metadata": {},
     "output_type": "execute_result"
    }
   ],
   "source": [
    "g1"
   ]
  },
  {
   "cell_type": "markdown",
   "metadata": {
    "deletable": true,
    "editable": true
   },
   "source": [
    "## Brouillon"
   ]
  },
  {
   "cell_type": "code",
   "execution_count": 84,
   "metadata": {
    "collapsed": true,
    "deletable": true,
    "editable": true
   },
   "outputs": [],
   "source": [
    "def get_nodes(T):\n",
    "    nodes = set()\n",
    "    for node, childrens in T.items():\n",
    "        nodes.add(node)\n",
    "        nodes.add(childrens[0])\n",
    "        nodes.add(childrens[1])\n",
    "    return nodes\n"
   ]
  }
 ],
 "metadata": {
  "kernelspec": {
   "display_name": "Python 3",
   "language": "python",
   "name": "python3"
  },
  "language_info": {
   "codemirror_mode": {
    "name": "ipython",
    "version": 3
   },
   "file_extension": ".py",
   "mimetype": "text/x-python",
   "name": "python",
   "nbconvert_exporter": "python",
   "pygments_lexer": "ipython3",
   "version": "3.4.3"
  }
 },
 "nbformat": 4,
 "nbformat_minor": 2
}
