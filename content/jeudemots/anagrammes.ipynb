{
 "cells": [
  {
   "cell_type": "markdown",
   "metadata": {
    "deletable": true,
    "editable": true
   },
   "source": [
    "# Anagrammes\n",
    "\n",
    "Ceci est un programme permettant de trouver (tout) les anagrammes du Français..."
   ]
  },
  {
   "cell_type": "markdown",
   "metadata": {},
   "source": [
    "## Chargement et dépoussiérage du dictionnaire"
   ]
  },
  {
   "cell_type": "code",
   "execution_count": 79,
   "metadata": {
    "collapsed": true,
    "deletable": true,
    "editable": true
   },
   "outputs": [],
   "source": [
    "#fichier = 'liste_mots_mix.txt' #295088 mots - http://www.lexique.org/listes/liste_mots.php\n",
    "fichier = 'liste_francais.txt' # 22740 mots"
   ]
  },
  {
   "cell_type": "code",
   "execution_count": 80,
   "metadata": {
    "collapsed": false,
    "deletable": true,
    "editable": true
   },
   "outputs": [
    {
     "data": {
      "text/plain": [
       "22740"
      ]
     },
     "execution_count": 80,
     "metadata": {},
     "output_type": "execute_result"
    }
   ],
   "source": [
    "with open(fichier, encoding=\"ISO-8859-1\") as f:\n",
    "    dictionnaire = f.readlines()\n",
    "    \n",
    "len(dictionnaire)"
   ]
  },
  {
   "cell_type": "code",
   "execution_count": 81,
   "metadata": {
    "collapsed": true,
    "deletable": true,
    "editable": true
   },
   "outputs": [],
   "source": [
    "import re"
   ]
  },
  {
   "cell_type": "markdown",
   "metadata": {},
   "source": [
    "Sont retirés, entre autre, les noms propres (majuscule), les mots avec une apostrophe ou un tiret..."
   ]
  },
  {
   "cell_type": "code",
   "execution_count": 105,
   "metadata": {
    "collapsed": false,
    "deletable": true,
    "editable": true
   },
   "outputs": [],
   "source": [
    "sacamots = set()\n",
    "for ligne in dictionnaire:\n",
    "    if not re.search( r\"[#()'0-9\\.\\-A-Z!]\", ligne) :\n",
    "        mot = line.strip(' \\r\\n')\n",
    "        if len(mot)>2 :\n",
    "            sacamots.add( mot )\n",
    "            \n",
    "liste_mots = list( set_mots )"
   ]
  },
  {
   "cell_type": "code",
   "execution_count": 106,
   "metadata": {
    "collapsed": false,
    "deletable": true,
    "editable": true
   },
   "outputs": [
    {
     "name": "stdout",
     "output_type": "stream",
     "text": [
      "21039\n",
      "servie, monacal, fumeur, venaient, procuration, censurer, consécutives, tchécoslovaques, éthique, tunnels, ...etc\n"
     ]
    }
   ],
   "source": [
    "print( len( liste_mots ) )\n",
    "print( ', '.join( liste_mots[:10] ) + ', ...etc' )"
   ]
  },
  {
   "cell_type": "markdown",
   "metadata": {},
   "source": [
    "La liste des anagrammes est créée en triant, pour chaque mot, ses lettres par ordre alphabétique. "
   ]
  },
  {
   "cell_type": "code",
   "execution_count": 109,
   "metadata": {
    "collapsed": false,
    "deletable": true,
    "editable": true
   },
   "outputs": [
    {
     "name": "stdout",
     "output_type": "stream",
     "text": [
      "eeirsv, aaclmno, efmruu, aeeinntv, acinooprrtu, ceenrrsu, cceinosstuvé, accehlooqsstuvé, ehiqtué, elnnstu, ...etc\n"
     ]
    }
   ],
   "source": [
    "liste_anagrammes = [  ''.join( sorted( mot ) ).strip() for mot in liste_mots  ]\n",
    "\n",
    "print( ', '.join( liste_anagrammes[:10] ) + ', ...etc' )"
   ]
  },
  {
   "cell_type": "markdown",
   "metadata": {},
   "source": [
    "Les anagrammes sont ensuite triés, en conservant le mot corresondant (zip). "
   ]
  },
  {
   "cell_type": "code",
   "execution_count": 98,
   "metadata": {
    "collapsed": false,
    "deletable": true,
    "editable": true
   },
   "outputs": [
    {
     "name": "stdout",
     "output_type": "stream",
     "text": [
      "[('aaaaabbcdnrrt', 'abracadabrant'), ('aaaabcclrtué', 'baccalauréat'), ('aaaabdeeijnrszï', 'azerbaïdjanaise'), ('aaaabdeijnrszï', 'azerbaïdjanais'), ('aaaabkllï', 'balalaïka'), ('aaaacilnrrsvé', 'caravansérail'), ('aaaagilmmnot', 'amalgamation'), ('aaaaiipprsst', 'apparaissait'), ('aaaailmnrsst', 'marais salant'), ('aaaanprtuv', 'auparavant')]\n"
     ]
    }
   ],
   "source": [
    "Z = sorted( zip(liste_anagrammes, liste_mots ), key=lambda x:x[0] )\n",
    "print( Z[:10] )"
   ]
  },
  {
   "cell_type": "markdown",
   "metadata": {},
   "source": [
    "et les mots ayant le même anagramme sont cherchés de proche en proche:"
   ]
  },
  {
   "cell_type": "code",
   "execution_count": 112,
   "metadata": {
    "collapsed": false,
    "deletable": true,
    "editable": true
   },
   "outputs": [],
   "source": [
    "multi = []\n",
    "A = Z[0]\n",
    "\n",
    "same = False\n",
    "for B in Z[1:]:\n",
    "    if A[0]==B[0] and same==False:\n",
    "        same = True\n",
    "        famille = [A[1], B[1]] \n",
    "    elif A[0]==B[0] and same==True:\n",
    "        famille.append( B[1] )        \n",
    "    elif A[0]!=B[0] and same == True:\n",
    "        multi.append(famille)\n",
    "        same = False\n",
    "\n",
    "    A = B"
   ]
  },
  {
   "cell_type": "code",
   "execution_count": 113,
   "metadata": {
    "collapsed": false,
    "deletable": true,
    "editable": true,
    "scrolled": true
   },
   "outputs": [
    {
     "data": {
      "text/plain": [
       "768"
      ]
     },
     "execution_count": 113,
     "metadata": {},
     "output_type": "execute_result"
    }
   ],
   "source": [
    "len( multi )"
   ]
  },
  {
   "cell_type": "code",
   "execution_count": 114,
   "metadata": {
    "collapsed": false,
    "deletable": true,
    "editable": true
   },
   "outputs": [
    {
     "name": "stdout",
     "output_type": "stream",
     "text": [
      "[['abc', 'bac'], ['lac', 'cal'], ['car', 'arc'], ['sac', 'cas'], ['gai', 'agi'], ['mai', 'ami'], ['rai', 'ira', 'air'], ['sec', 'ces'], ['roc', 'cor'], ['dur', 'dru']]\n"
     ]
    }
   ],
   "source": [
    "print( sorted( multi, key=lambda x:len(x[0]) )[:10] )"
   ]
  },
  {
   "cell_type": "markdown",
   "metadata": {},
   "source": [
    "Les mots ayant le plus d'anagrammes possible :"
   ]
  },
  {
   "cell_type": "code",
   "execution_count": 117,
   "metadata": {
    "collapsed": false,
    "deletable": true,
    "editable": true
   },
   "outputs": [
    {
     "name": "stdout",
     "output_type": "stream",
     "text": [
      "[['mare', 'rame', 'arme', 'amer'], ['star', 'arts', 'rats', 'tsar'], ['retenu', 'eurent', 'neutre', 'teneur'], ['repos', 'poser', 'prose', 'spore'], ['puer', 'pure', 'peur', 'repu'], ['rues', 'user', 'suer', 'ruse'], ['partial', 'parlait', 'aplatir'], ['baltes', 'stable', 'tables'], ['chanter', 'chantre', 'tranche'], ['tacher', 'archet', 'charte'], ['calmer', 'clamer', 'carmel'], ['créature', 'créateur', 'réacteur'], ['sceau', 'cause', 'sauce'], ['raide', 'aider', 'aride'], ['égards', 'gradés', 'gardés'], ['ignare', 'regain', 'graine'], ['plaire', 'pareil', 'palier'], ['manier', 'marine', 'animer'], ['merrain', 'ranimer', 'mariner'], ['marie', 'maire', 'aimer']]\n"
     ]
    }
   ],
   "source": [
    "print( sorted( multi, key=lambda x:len(x), reverse=True)[:20] )"
   ]
  },
  {
   "cell_type": "markdown",
   "metadata": {},
   "source": [
    "Les anagrammes des mots les plus longs:"
   ]
  },
  {
   "cell_type": "code",
   "execution_count": 119,
   "metadata": {
    "collapsed": false
   },
   "outputs": [
    {
     "name": "stdout",
     "output_type": "stream",
     "text": [
      "[['certification', 'rectification'], ['ratification', 'tarification'], ['conservation', 'conversation'], ['présenterait', 'représentait'], ['agriculteur', 'agriculture'], ['législature', 'législateur'], ['tranquilles', 'resquillant'], ['transfusion', 'fournissant'], ['viticulteur', 'viticulture'], ['saturation', 'autorisant'], ['surchauffe', 'chauffeurs'], ['comprenait', 'importance'], ['nonciature', 'continuera'], ['scénariste', 'résistance'], ['légalement', 'allégement'], ['retrouvait', 'trouverait'], ['consterner', 'rencontres'], ['construite', 'constituer'], ['intervenus', 'inventeurs'], ['impression', 'permission']]\n"
     ]
    }
   ],
   "source": [
    "print( sorted( multi, key=lambda x:len(x[0]), reverse=True )[:20] )"
   ]
  },
  {
   "cell_type": "markdown",
   "metadata": {},
   "source": [
    "Et tous les anagrammes:"
   ]
  },
  {
   "cell_type": "code",
   "execution_count": 121,
   "metadata": {
    "collapsed": false,
    "deletable": true,
    "editable": true
   },
   "outputs": [
    {
     "name": "stdout",
     "output_type": "stream",
     "text": [
      "abc/bac; lac/cal; car/arc; sac/cas; gai/agi; mai/ami; rai/ira/air; sec/ces; roc/cor; dur/dru; dus/sud; sel/les; nue/une; tes/est; eus/use; eut/tue; ouf/fou; ils/lis; tir/tri/rit; nom/mon; mot/tom; son/nos; ont/not/ton; top/pot; aube/beau; brai/abri; bras/bars; avec/cave; chas/cash; camé/acmé; dame/made; raid/dira; sida/dais; nage/ange; rage/gare; amie/aime; raie/aire; mare/rame/arme/amer; anse/nase; apte/tape; sera/rase; tare/rate; axes/saxe; veau/aveu; fait/fiat; gars/gras; mali/lima; amis/mais; sain/anis; ripa/pari/pair; rais/airs; vrai/ravi; visa/avis/vais; part/rapt; star/arts/rats/tsar; taré/raté; snob/bons; lice/ciel; cire/crie; noce/once; cols/clos; coté/écot; turc/truc; dire/ride; dent/tend; rude/dure; fiel/file/life; fers/serf; ogre/orge; miel/lime; line/lien; lier/lire; mine/mien; mise/semi; rein/nier/rien; sein/sien/sine; pire/prie; tire/rite; rive/ivre; vies/vise; tels/lest; zone/onze; sent/nets; unes/nues; oser/rose/ores; vote/veto; puer/pure/peur/repu; peut/pute; sert/rets; rues/user/suer/ruse; info/foin; fois/soif; loin/lion; poil/poli; slip/plis; mois/omis; unis/insu; unit/nuit; rois/soir; péri/prié; suis/issu; vélo/volé; sont/tons; trop/port; prou/pour; pots/spot/post; trou/tour; bacon/banco; balle/label; balte/table; arbre/barre; baser/sabre; brave/baver; basse/bases; baril/blair; about/tabou; acier/craie; clame/calme; carpe/parce; races/caser; trace/carte; cases/casse; sceau/cause/sauce; lacté/éclat; césar/sacré; tracé/écart; grade/garde; raide/aider/aride; dater/tarde; stade/dates; gardé/égard; délai/idéal; raids/radis; fange/fagne; agile/aigle; image/magie; lange/angle; nager/range; ganse/anges; gaver/grave; usage/sauge; harpe/phare; asile/ailes; manie/anime; marie/maire/aimer; serai/aires; tiare/taire; varie/vraie; palme/ample/lampe; saler/laser; sales/lasse; salue/saule; taule/autel; amené/émane; marre/armer; armes/rames; trame/mater; armée/marée; tenta/natte/tante; repas/saper; sapes/passe; serra/raser/rares; resta/astre; taxer/extra; sauve/suave; étang/géant; ragot/argot; niais/ainsi; malin/milan; alpin/lapin; liant/latin; rails/salir; rival/avril; niant/tanin; tarin/intra/train; saint/satin; pairs/paris; quasi/quais; vrais/ravis; talus/salut; savon/avons; santé/sénat; bâclé/câblé; berge/gerbe; libre/biler; bleus/blues; sobre/robes; buter/brute/rebut; bruit/tribu; béton/bonté; butor/turbo; obtus/bouts; corde/credo; douce/coude; celer/recel; encre/cerne; chine/chien; chier/riche; châle/lâche; chope/poche; crime/merci; scier/crise; cuire/curie; iceux/cieux; socle/close; recul/cruel; conne/nonce; coupe/pouce; score/corse; sucre/sucer; récit/écrit; guide/digue; vides/devis; idées/séide; diète/tiède; ondes/sonde; dorer/ordre; duper/perdu; dures/rudes; genre/green; envie/veine; enjeu/jeune; jeter/rejet; elles/selle; perle/peler; remet/terme; terne/entre/rente; nette/tente; neuve/venue/neveu; verse/serve; frime/firme; floue/foule; linge/ligne; signe/singe/seing; givre/grive; glose/loges; règne/nègre; orgue/rouge; humer/rhume; olive/voile; plier/repli; relié/élire; tuile/utile; mines/miens; imper/prime; miser/remis; semis/mises; peint/pinte; épine/peiné; inter/tenir; urine/nuire/ruine; venir/nervi/verni; seins/siens; tiens/senti; usine/unies; tient/teint; poire/proie; prier/riper; pires/prise; tirer/trier; rites/tiers; viser/rives/servi; série/risée; suite/situe; sujet/juste; louer/roule; léser/réels; morne/norme/renom; muret/meurt; notre/noter; notes/osent; urnes/nurse; nôtre/trône; repos/poser/prose/spore; porte/prote; potes/poste; essor/roses; sorte/torse; roues/ourse; touer/route/outre; votre/voter; vouer/ouvre; ouest/soute; super/pures; usure/sueur; revêt/trêve; gésir/régis; glosé/logés; horst/short; pilon/lopin; lions/nolis; point/potin; punir/rupin/purin; trois/sorti; priés/épris; pétri/répit; pouls/loups; promu/rompu; étron/ténor; ports/sport; tours/trous; cadeau/audace; canard/cadran; faible/fiable; braise/baiser; baltes/stable/tables; barres/arbres; établi/bétail; chaire/cahier; marche/charme; tacher/archet/charte; chaste/sachet; calmer/clamer/carmel; lancée/calé en; tancer/carnet; tracer/carter; carrée/acérer; crasse/casser; traces/cartes; lascif/fiscal; criant/craint; citant/intact; grande/danger; regard/garder; avides/devais; renard/rendra; datent/attend; retard/tarder; durera/ardeur; gradin/grandi; égards/gradés/gardés; dilaté/détail; danois/adonis; tandis/disant; truand/durant; refait/ferait; gagner/grange; engagé/gagnée; mirage/maigre; ignare/regain/graine; agiter/tirage; virage/rivage; gaieté/agitée; langes/sangle; langue/lagune; orange/organe; égarer/agréer; phrase/phares; plaire/pareil/palier; laisse/liasse; valise/salive; manier/marine/animer; aiment/menait; animée/anémie; rapine/panier; inapte/paient; navire/avenir; paires/aspire; partie/patrie; arrive/varier; satire/serait; aviser/vraies; traite/attire; assise/essais; levant/valent; palper/rappel; étaler/alerté; émaner/ramené; masque/squame; masure/amuser; armées/marées; naître/traîne; pauvre/vapeur; quatre/traque; sauter/autres; saveur/sauver; génial/inégal/aligné; gratin/granit/ingrat; latino/laiton; maints/matins; naquit/taquin; transi/instar/trains; posait/patois; traité/attiré; bribes/brebis; broder/rebord; bouder/bourde; berger/gerber; orbite/boiter; boules/blouse; ombres/sombre; trombe/tomber; snober/bornes; bosser/brosse; tribus/bruits; direct/dicter; décrit/crédit; secret/certes; coiffe/office; forcée/féroce; négoce/cognée; choper/proche; prêche/pêcher; prince/pincer; crient/cintre; crique/cirque; clouer/couler; créole/éclore; contre/conter; créent/récent; couper/croupe; scores/corses; course/source; coûter/croûte; couver/couvre; récuse/creusé; écrits/récits; dédier/dédire; vendue/devenu; fondre/fronde/fonder; dirige/rigide; dignes/design; délier/délire; destin/disent; réside/désire; dérive/dévier; rondes/sonder; détenu/étendu; ordure/dorure; souder/sourde/odeurs; désuet/études; désiré/sidéré; érudit/réduit; fiente/feinte; relier/relire; mienne/ennemi; entier/inerte; lequel/quelle; pleure/pelure; élever/relevé; trempe/permet; termes/mestre; entrer/rentre; envers/vernes; trente/tenter; retenu/eurent/neutre/teneur; venter/ventre; neuves/venues; pertes/pester; terres/rester; verser/revers; effort/offert; rigole/gloire; signes/singes; voirie/ivoire; emplir/rempli; violer/voiler; voiles/solive; livrée/réveil; permis/primes; métier/trémie/mérite; séisme/émises; requin/niquer; ruiner/uriner; usiner/ruines/sinuer; tirent/tinter; pisser/prises; tripes/esprit; requis/risque; étirer/retiré/étrier; visser/servis; titres/triste; suivre/survie; suisse/issues; sujets/justes; pleurs/pulser; sermon/normes; montre/monter; promet/trompe; résume/mesuré; report/porter; portes/poster; troupe/poutre; sortes/stores; ouvert/trouve; tueurs/suture; ignoré/région; voisin/vision; rompus/promus; bagarre/barrage; aimable/amiable; amateur/marteau; partial/parlait/aplatir; fiables/faibles; bulgare/blaguer; arbitre/abriter; rétabli/établir; accrues/accuser; acheter/hectare; enlacer/relance; fiscale/faciles; facteur/facture; chauler/chaleur; marcher/charmer; marches/charmes; chanter/chantre/tranche; racines/arsenic; crainte/certain; haricot/chariot; leaders/dealers; gardien/daigner; grandes/dangers; madrier/admirer; tiendra/rendait; veinard/viendra; devrait/tardive; grandir/ringard; dormant/mordant; alerter/relater; taverne/entrave; signale/leasing; engrais/saigner; aigreur/aguerri; étrange/renégat; amorphe/amphore; rallier/railler; plainte/patelin; ralenti/reliant; spirale/pareils; merrain/ranimer/mariner; animées/amnésie; prenait/patiner; atteint/tentait; parties/pirates; attirer/retrait/traiter; verrait/avertir; restait/artiste/attiser; servait/avertis; planter/parlent; masquer/marques; sentant/tenants; servant/versant; papoter/apporte; assurer/rassure; stature/statuer; forfait/offrait; offrant/affront; languir/galurin; alignés/signalé; traités/attirés; combine/incombe/combien; obscure/courbes; ignoble/gobelin; robinet/obtenir; bourses/brousse; concert/concret; décrire/décrier; discret/directs; lecture/lecteur; centrée/récente; spectre/respect; recrues/creuser; recteur/recrute; confier/foncier; cligner/cingler; tricher/richter; croiser/sorcier; renoncé/énoncer; sources/courses/secours; cousins/coussin; teindre/dentier; devenir/deviner; dessein/dessine; reprend/prendre; devenus/vendues; tenu de/tendue; étendue/détenue; moindre/dominer/endormi; densité/destiné; stupide/dispute; désirer/résider; étudier/éditeur/réduite; dénoter/détoner; sourdre/ordures; déroute/redouté; réduits/surdité; refluer/fleurer; remplie/empiler; reliure/reluire; miennes/ennemis; premier/empirer; empires/emprise; tiennes/intense; terrine/retenir/terrien; sentier/entiers; teinter/retient; respire/reprise/pierres; retirer/terrier; meurent/menteur; enterré/rentrée; retenus/senteur; serrure/erreurs; efforts/offerts; filtrer/flirter; fournie/enfouir/fouiner; forment/froment; réfuter/fréteur; génisse/signées; limiter/militer; voilier/olivier; inviter/vitrine; promise/imposer; métiers/mérites; potiner/pointer; intruse/suinter; soupire/roupies; velours/voleurs; monteur/monture; remonté/montrée; entouré/tournée; opposer/propose; troupes/posture; poussée/épouses; rousset/tousser; sportif/profits; visions/voisins; potiron/portion; bagarres/barrages; changera/archange; canaille/alliance; calvaire/cavalier; massacre/sarcasme; macaroni/marocain; tapageur/patauger; laissera/salaires; armateur/armature; matériau/amirauté; aspirant/partisan; attirant/traitant; baver de/adverbe; fracture/facturer; facteurs/factures; tranchée/étancher; approche/achopper; chasseur/chausser; certains/craintes; rapiécer/précaire; créature/créateur/réacteur; réaction/création; associés/écossais; devaient/devenait; mondiale/limonade; latitude/altitude; saoudien/soudaine; résidant/désirant; relevait/relative; servante/entraves; repasser/paresser; affermir/affirmer; signaler/sanglier; régalien/algérien; organise/agoniser; rallonge/allonger; animisme/mainmise; parisien/aspirine; oriental/relation; voltaire/traviole; traitent/attirent; passoire/paroisse; tsariste/artistes; rapporte/apporter; glasnost/sanglots; limitant/militant; assimilé/islamisé; laissons/salisson; instauré/insaturé; concerts/concrets; défoncer/féconder; déconner/dénoncer; cupidité/pudicité; crémerie/remercié; lecteurs/lectures; coiffure/coiffeur; foncière/conifère; conférer/renforcé; sections/consiste; courrier/recourir; coursier/secourir; jonction/conjoint; détenues/étendues; désirent/résident; réduites/éditeurs; démontre/démonter; pondérer/répondre; éditions/sédition; détritus/détruits; meetings/gisement; seigneur/seringue; réveille/éveiller; retirent/retentir; repriser/respirer; emprunte/purement; entourer/retourne; repousse/soupeser; religion/originel; sinistre/insister; investir/vitrines; impropre/opprimer; routiers/soutirer; voitures/virtuose; espérons/réponses; cassation/associant; faisaient/fantaisie; rassemble/assembler; dictateur/dictature; surcharge/chargeurs; chapitres/pasticher; approcher/rapproche; incessant/instances; reconnaît/connaître; contraste/constater; créateurs/réacteurs; facilités/fiscalité; callosité/localités; créations/réactions; présidait/disparité; rangement/garnement; alimenter/terminale; relatives/versatile; attentive/tentative; retraites/resterait; intégrale/églantier; angoisser/agression; attention/tentation; indiscret/indirects; rectifier/certifier; conserver/converser; foncières/conifères; sélection/élections; ceinturon/continuer; sculpteur/sculpture; desserrer/redresser; déliement/démentiel; inventeur/intervenu; intrigues/instiguer; péroniste/protéines; saturation/autorisant; surchauffe/chauffeurs; comprenait/importance; nonciature/continuera; scénariste/résistance; légalement/allégement; retrouvait/trouverait; consterner/rencontres; construite/constituer; intervenus/inventeurs; impression/permission; interrompu/importuner; prospérité/propriétés; agriculteur/agriculture; législature/législateur; tranquilles/resquillant; transfusion/fournissant; viticulteur/viticulture; ratification/tarification; conservation/conversation; présenterait/représentait; certification/rectification\n"
     ]
    }
   ],
   "source": [
    "S = sorted( multi, key=lambda x:len(x[0]) )\n",
    "Sa = [ '/'.join(u) for u in S ]\n",
    "print( '; '.join( Sa ) )"
   ]
  },
  {
   "cell_type": "code",
   "execution_count": null,
   "metadata": {
    "collapsed": true,
    "deletable": true,
    "editable": true
   },
   "outputs": [],
   "source": []
  }
 ],
 "metadata": {
  "kernelspec": {
   "display_name": "Python 3",
   "language": "python",
   "name": "python3"
  },
  "language_info": {
   "codemirror_mode": {
    "name": "ipython",
    "version": 3
   },
   "file_extension": ".py",
   "mimetype": "text/x-python",
   "name": "python",
   "nbconvert_exporter": "python",
   "pygments_lexer": "ipython3",
   "version": "3.4.3"
  }
 },
 "nbformat": 4,
 "nbformat_minor": 2
}
