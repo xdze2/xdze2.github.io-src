{
 "cells": [
  {
   "cell_type": "code",
   "execution_count": 1,
   "metadata": {
    "collapsed": true,
    "deletable": true,
    "editable": true
   },
   "outputs": [],
   "source": [
    "import itertools as it\n",
    "import collections"
   ]
  },
  {
   "cell_type": "markdown",
   "metadata": {
    "deletable": true,
    "editable": true
   },
   "source": [
    "![picture of the game](images/tree_cubes.jpg)\n",
    "\n",
    "## How many colored cubes exist?\n",
    "\n",
    "### How many corners exist?"
   ]
  },
  {
   "cell_type": "code",
   "execution_count": 2,
   "metadata": {
    "collapsed": true,
    "deletable": true,
    "editable": true
   },
   "outputs": [],
   "source": [
    "colors = sorted(['jaune', 'vert', 'cyan', 'rouge', 'bleu', 'noir'])\n",
    "\n",
    "def cycles(elements, length):\n",
    "    '''return all possible cycles using N elements\n",
    "       from the given set of elements'''\n",
    "    cycles = []\n",
    "    for choice in it.combinations(elements, length):\n",
    "        #choice = sorted(choice)\n",
    "        cycles.extend((choice[0], *perm)\n",
    "                      for perm in it.permutations(choice[1:]))\n",
    "    return cycles"
   ]
  },
  {
   "cell_type": "markdown",
   "metadata": {
    "deletable": true,
    "editable": true
   },
   "source": [
    "A corner is defined as a cycle (clockwise rotation) of three colors. To compare cycle together, the first color is choosen as the min."
   ]
  },
  {
   "cell_type": "code",
   "execution_count": 3,
   "metadata": {
    "collapsed": false,
    "deletable": true,
    "editable": true
   },
   "outputs": [
    {
     "name": "stdout",
     "output_type": "stream",
     "text": [
      "number of possible corners: 40\n",
      "\n",
      " bleu->cyan->jaune, bleu->jaune->cyan, bleu->cyan->noir, bleu->noir->cyan, bleu->cyan->rouge, bleu->rouge->cyan, bleu->cyan->vert, bleu->vert->cyan, bleu->jaune->noir, bleu->noir->jaune, bleu->jaune->rouge, bleu->rouge->jaune, bleu->jaune->vert, bleu->vert->jaune, bleu->noir->rouge, bleu->rouge->noir, bleu->noir->vert, bleu->vert->noir, bleu->rouge->vert, bleu->vert->rouge, cyan->jaune->noir, cyan->noir->jaune, cyan->jaune->rouge, cyan->rouge->jaune, cyan->jaune->vert, cyan->vert->jaune, cyan->noir->rouge, cyan->rouge->noir, cyan->noir->vert, cyan->vert->noir, cyan->rouge->vert, cyan->vert->rouge, jaune->noir->rouge, jaune->rouge->noir, jaune->noir->vert, jaune->vert->noir, jaune->rouge->vert, jaune->vert->rouge, noir->rouge->vert, noir->vert->rouge\n"
     ]
    }
   ],
   "source": [
    "all_possible_corners = cycles(colors, 3)\n",
    "print('number of possible corners:', len(all_possible_corners))\n",
    "print('\\n', ', '.join(['->'.join(corner) for corner in all_possible_corners]))"
   ]
  },
  {
   "cell_type": "markdown",
   "metadata": {
    "deletable": true,
    "editable": true
   },
   "source": [
    "The top face color is define as the one with the \"smallest\" color. The bottom face can be one of the five remaining colors. The four sides are all possible loops of the four remaining colors. \n",
    "\n",
    "![indexing of faces](images/template_cube_indexing.jpg)"
   ]
  },
  {
   "cell_type": "markdown",
   "metadata": {},
   "source": [
    "### and cubes..."
   ]
  },
  {
   "cell_type": "code",
   "execution_count": 4,
   "metadata": {
    "collapsed": false,
    "deletable": true,
    "editable": true
   },
   "outputs": [
    {
     "name": "stdout",
     "output_type": "stream",
     "text": [
      "number of cubes: 30\n"
     ]
    }
   ],
   "source": [
    "all_cubes = set()\n",
    "color_set = set(colors[1:])\n",
    "for bottom in color_set:\n",
    "    remaining_colors = color_set.difference({bottom, })\n",
    "    possible_sides = cycles(remaining_colors, 4)\n",
    "    all_cubes.update([(colors[0], *sides, bottom) for sides in possible_sides])\n",
    "print('number of cubes:', len(all_cubes))"
   ]
  },
  {
   "cell_type": "markdown",
   "metadata": {},
   "source": [
    "# Solutions of the game"
   ]
  },
  {
   "cell_type": "code",
   "execution_count": 5,
   "metadata": {
    "collapsed": true,
    "deletable": true,
    "editable": true
   },
   "outputs": [],
   "source": [
    "def start_the_cycle_at_the_min(c):\n",
    "    id_min = c.index(min(c))\n",
    "    return c[id_min:] + c[:id_min] \n",
    "\n",
    "def eight_corners(cube):\n",
    "    '''list the eight corners of the given cube\n",
    "        clockwise numbering\n",
    "    '''\n",
    "    sides_twice = 2*cube[1:-1]\n",
    "    corners = []\n",
    "    for i in range(4):\n",
    "        duo = sides_twice[i:i+2]\n",
    "        corners.append((cube[0], *duo[::-1]))\n",
    "        corners.append((*duo, cube[-1]))\n",
    "\n",
    "    return [start_the_cycle_at_the_min(corner)\n",
    "            for corner in corners]"
   ]
  },
  {
   "cell_type": "code",
   "execution_count": 10,
   "metadata": {
    "collapsed": true,
    "deletable": true,
    "editable": true
   },
   "outputs": [],
   "source": [
    "# The eight cubes in the game:\n",
    "cubes = [['jaune', 'vert', 'noir', 'cyan', 'bleu', 'rouge'],\n",
    "         ['jaune', 'vert', 'noir', 'bleu', 'cyan', 'rouge'],\n",
    "         ['jaune', 'noir', 'cyan', 'rouge', 'vert', 'bleu'],\n",
    "         ['jaune', 'noir', 'rouge', 'cyan', 'vert', 'bleu'],\n",
    "         ['jaune', 'cyan', 'vert', 'rouge', 'bleu', 'noir'],\n",
    "         ['jaune', 'cyan', 'vert', 'bleu', 'rouge', 'noir'],\n",
    "         ['jaune', 'bleu', 'rouge', 'noir', 'cyan', 'vert'],\n",
    "         ['jaune', 'cyan', 'rouge', 'bleu', 'noir', 'vert']]\n",
    "\n",
    "def order_the_faces(cube):\n",
    "    return (cube[0], *start_the_cycle_at_the_min(cube[1:-1]), cube[-1])\n",
    "\n",
    "game_cubes = [order_the_faces(cube) for cube in cubes]"
   ]
  },
  {
   "cell_type": "code",
   "execution_count": 7,
   "metadata": {
    "collapsed": false,
    "deletable": true,
    "editable": true
   },
   "outputs": [
    {
     "name": "stdout",
     "output_type": "stream",
     "text": [
      "36\n"
     ]
    }
   ],
   "source": [
    "corner_to_cube = collections.defaultdict(set)\n",
    "for cube in game_cubes:\n",
    "    for corner in eight_corners(cube):\n",
    "        corner_to_cube[corner].add(cube)\n",
    "        \n",
    "print(len(corner_to_cube))   # for 40 in total.."
   ]
  },
  {
   "cell_type": "code",
   "execution_count": 8,
   "metadata": {
    "collapsed": false,
    "deletable": true,
    "editable": true,
    "scrolled": false
   },
   "outputs": [
    {
     "name": "stdout",
     "output_type": "stream",
     "text": [
      "\n",
      "final cube: [bleu, jaune, vert, rouge, noir, cyan]\n",
      " [jaune, bleu, rouge, cyan, vert, noir] bleu->vert->jaune\n",
      " [jaune, cyan, vert, noir, rouge, bleu] cyan->jaune->vert\n",
      " [jaune, cyan, rouge, vert, noir, bleu] bleu->rouge->vert\n",
      " [jaune, bleu, cyan, vert, noir, rouge] cyan->vert->rouge\n",
      " [jaune, bleu, cyan, vert, rouge, noir] bleu->noir->rouge\n",
      " [jaune, bleu, vert, noir, cyan, rouge] cyan->rouge->noir\n",
      " [jaune, bleu, noir, cyan, rouge, vert] bleu->jaune->noir\n",
      " [jaune, bleu, rouge, noir, cyan, vert] cyan->noir->jaune\n",
      "\n",
      "final cube: [bleu, jaune, vert, rouge, noir, cyan]\n",
      " [jaune, bleu, rouge, cyan, vert, noir] bleu->vert->jaune\n",
      " [jaune, cyan, vert, noir, rouge, bleu] cyan->jaune->vert\n",
      " [jaune, bleu, rouge, noir, cyan, vert] bleu->rouge->vert\n",
      " [jaune, bleu, cyan, vert, noir, rouge] cyan->vert->rouge\n",
      " [jaune, bleu, cyan, vert, rouge, noir] bleu->noir->rouge\n",
      " [jaune, bleu, vert, noir, cyan, rouge] cyan->rouge->noir\n",
      " [jaune, bleu, noir, cyan, rouge, vert] bleu->jaune->noir\n",
      " [jaune, cyan, rouge, vert, noir, bleu] cyan->noir->jaune\n",
      "\n",
      "final cube: [bleu, jaune, vert, rouge, noir, cyan]\n",
      " [jaune, bleu, rouge, cyan, vert, noir] bleu->vert->jaune\n",
      " [jaune, bleu, cyan, vert, rouge, noir] cyan->jaune->vert\n",
      " [jaune, cyan, rouge, vert, noir, bleu] bleu->rouge->vert\n",
      " [jaune, bleu, cyan, vert, noir, rouge] cyan->vert->rouge\n",
      " [jaune, cyan, vert, noir, rouge, bleu] bleu->noir->rouge\n",
      " [jaune, bleu, vert, noir, cyan, rouge] cyan->rouge->noir\n",
      " [jaune, bleu, noir, cyan, rouge, vert] bleu->jaune->noir\n",
      " [jaune, bleu, rouge, noir, cyan, vert] cyan->noir->jaune\n",
      "\n",
      "final cube: [bleu, jaune, vert, rouge, noir, cyan]\n",
      " [jaune, bleu, rouge, cyan, vert, noir] bleu->vert->jaune\n",
      " [jaune, bleu, cyan, vert, rouge, noir] cyan->jaune->vert\n",
      " [jaune, bleu, rouge, noir, cyan, vert] bleu->rouge->vert\n",
      " [jaune, bleu, cyan, vert, noir, rouge] cyan->vert->rouge\n",
      " [jaune, cyan, vert, noir, rouge, bleu] bleu->noir->rouge\n",
      " [jaune, bleu, vert, noir, cyan, rouge] cyan->rouge->noir\n",
      " [jaune, bleu, noir, cyan, rouge, vert] bleu->jaune->noir\n",
      " [jaune, cyan, rouge, vert, noir, bleu] cyan->noir->jaune\n",
      "\n",
      "final cube: [bleu, cyan, noir, rouge, vert, jaune]\n",
      " [jaune, cyan, rouge, vert, noir, bleu] bleu->noir->cyan\n",
      " [jaune, bleu, noir, cyan, rouge, vert] cyan->noir->jaune\n",
      " [jaune, bleu, rouge, cyan, vert, noir] bleu->rouge->noir\n",
      " [jaune, bleu, rouge, noir, cyan, vert] jaune->noir->rouge\n",
      " [jaune, bleu, vert, noir, cyan, rouge] bleu->vert->rouge\n",
      " [jaune, bleu, cyan, vert, rouge, noir] jaune->rouge->vert\n",
      " [jaune, cyan, vert, noir, rouge, bleu] bleu->cyan->vert\n",
      " [jaune, bleu, cyan, vert, noir, rouge] cyan->jaune->vert\n",
      "\n",
      "final cube: [bleu, cyan, noir, rouge, vert, jaune]\n",
      " [jaune, cyan, rouge, vert, noir, bleu] bleu->noir->cyan\n",
      " [jaune, bleu, noir, cyan, rouge, vert] cyan->noir->jaune\n",
      " [jaune, bleu, cyan, vert, noir, rouge] bleu->rouge->noir\n",
      " [jaune, bleu, rouge, noir, cyan, vert] jaune->noir->rouge\n",
      " [jaune, bleu, vert, noir, cyan, rouge] bleu->vert->rouge\n",
      " [jaune, bleu, cyan, vert, rouge, noir] jaune->rouge->vert\n",
      " [jaune, cyan, vert, noir, rouge, bleu] bleu->cyan->vert\n",
      " [jaune, bleu, rouge, cyan, vert, noir] cyan->jaune->vert\n",
      "\n",
      "final cube: [bleu, cyan, noir, rouge, vert, jaune]\n",
      " [jaune, cyan, rouge, vert, noir, bleu] bleu->noir->cyan\n",
      " [jaune, bleu, vert, noir, cyan, rouge] cyan->noir->jaune\n",
      " [jaune, bleu, rouge, cyan, vert, noir] bleu->rouge->noir\n",
      " [jaune, bleu, rouge, noir, cyan, vert] jaune->noir->rouge\n",
      " [jaune, bleu, noir, cyan, rouge, vert] bleu->vert->rouge\n",
      " [jaune, bleu, cyan, vert, rouge, noir] jaune->rouge->vert\n",
      " [jaune, cyan, vert, noir, rouge, bleu] bleu->cyan->vert\n",
      " [jaune, bleu, cyan, vert, noir, rouge] cyan->jaune->vert\n",
      "\n",
      "final cube: [bleu, cyan, noir, rouge, vert, jaune]\n",
      " [jaune, cyan, rouge, vert, noir, bleu] bleu->noir->cyan\n",
      " [jaune, bleu, vert, noir, cyan, rouge] cyan->noir->jaune\n",
      " [jaune, bleu, cyan, vert, noir, rouge] bleu->rouge->noir\n",
      " [jaune, bleu, rouge, noir, cyan, vert] jaune->noir->rouge\n",
      " [jaune, bleu, noir, cyan, rouge, vert] bleu->vert->rouge\n",
      " [jaune, bleu, cyan, vert, rouge, noir] jaune->rouge->vert\n",
      " [jaune, cyan, vert, noir, rouge, bleu] bleu->cyan->vert\n",
      " [jaune, bleu, rouge, cyan, vert, noir] cyan->jaune->vert\n",
      "\n",
      "final cube: [bleu, jaune, rouge, cyan, vert, noir]\n",
      " [jaune, bleu, noir, cyan, rouge, vert] bleu->rouge->jaune\n",
      " [jaune, cyan, vert, noir, rouge, bleu] jaune->rouge->noir\n",
      " [jaune, cyan, rouge, vert, noir, bleu] bleu->cyan->rouge\n",
      " [jaune, bleu, rouge, cyan, vert, noir] cyan->noir->rouge\n",
      " [jaune, bleu, rouge, noir, cyan, vert] bleu->vert->cyan\n",
      " [jaune, bleu, cyan, vert, rouge, noir] cyan->vert->noir\n",
      " [jaune, bleu, vert, noir, cyan, rouge] bleu->jaune->vert\n",
      " [jaune, bleu, cyan, vert, noir, rouge] jaune->noir->vert\n",
      "\n",
      "final cube: [bleu, jaune, rouge, cyan, vert, noir]\n",
      " [jaune, bleu, noir, cyan, rouge, vert] bleu->rouge->jaune\n",
      " [jaune, cyan, vert, noir, rouge, bleu] jaune->rouge->noir\n",
      " [jaune, bleu, cyan, vert, noir, rouge] bleu->cyan->rouge\n",
      " [jaune, bleu, rouge, cyan, vert, noir] cyan->noir->rouge\n",
      " [jaune, bleu, rouge, noir, cyan, vert] bleu->vert->cyan\n",
      " [jaune, bleu, cyan, vert, rouge, noir] cyan->vert->noir\n",
      " [jaune, bleu, vert, noir, cyan, rouge] bleu->jaune->vert\n",
      " [jaune, cyan, rouge, vert, noir, bleu] jaune->noir->vert\n",
      "\n",
      "final cube: [bleu, jaune, rouge, cyan, vert, noir]\n",
      " [jaune, bleu, cyan, vert, rouge, noir] bleu->rouge->jaune\n",
      " [jaune, cyan, vert, noir, rouge, bleu] jaune->rouge->noir\n",
      " [jaune, cyan, rouge, vert, noir, bleu] bleu->cyan->rouge\n",
      " [jaune, bleu, rouge, cyan, vert, noir] cyan->noir->rouge\n",
      " [jaune, bleu, rouge, noir, cyan, vert] bleu->vert->cyan\n",
      " [jaune, bleu, noir, cyan, rouge, vert] cyan->vert->noir\n",
      " [jaune, bleu, vert, noir, cyan, rouge] bleu->jaune->vert\n",
      " [jaune, bleu, cyan, vert, noir, rouge] jaune->noir->vert\n",
      "\n",
      "final cube: [bleu, jaune, rouge, cyan, vert, noir]\n",
      " [jaune, bleu, cyan, vert, rouge, noir] bleu->rouge->jaune\n",
      " [jaune, cyan, vert, noir, rouge, bleu] jaune->rouge->noir\n",
      " [jaune, bleu, cyan, vert, noir, rouge] bleu->cyan->rouge\n",
      " [jaune, bleu, rouge, cyan, vert, noir] cyan->noir->rouge\n",
      " [jaune, bleu, rouge, noir, cyan, vert] bleu->vert->cyan\n",
      " [jaune, bleu, noir, cyan, rouge, vert] cyan->vert->noir\n",
      " [jaune, bleu, vert, noir, cyan, rouge] bleu->jaune->vert\n",
      " [jaune, cyan, rouge, vert, noir, bleu] jaune->noir->vert\n",
      "\n",
      "final cube: [bleu, jaune, noir, cyan, rouge, vert]\n",
      " [jaune, bleu, cyan, vert, noir, rouge] bleu->noir->jaune\n",
      " [jaune, cyan, vert, noir, rouge, bleu] jaune->noir->vert\n",
      " [jaune, bleu, cyan, vert, rouge, noir] bleu->cyan->noir\n",
      " [jaune, bleu, rouge, cyan, vert, noir] cyan->vert->noir\n",
      " [jaune, bleu, vert, noir, cyan, rouge] bleu->rouge->cyan\n",
      " [jaune, bleu, noir, cyan, rouge, vert] cyan->rouge->vert\n",
      " [jaune, bleu, rouge, noir, cyan, vert] bleu->jaune->rouge\n",
      " [jaune, cyan, rouge, vert, noir, bleu] jaune->vert->rouge\n",
      "\n",
      "final cube: [bleu, jaune, noir, cyan, rouge, vert]\n",
      " [jaune, bleu, cyan, vert, noir, rouge] bleu->noir->jaune\n",
      " [jaune, cyan, vert, noir, rouge, bleu] jaune->noir->vert\n",
      " [jaune, bleu, cyan, vert, rouge, noir] bleu->cyan->noir\n",
      " [jaune, bleu, rouge, noir, cyan, vert] cyan->vert->noir\n",
      " [jaune, bleu, vert, noir, cyan, rouge] bleu->rouge->cyan\n",
      " [jaune, bleu, noir, cyan, rouge, vert] cyan->rouge->vert\n",
      " [jaune, bleu, rouge, cyan, vert, noir] bleu->jaune->rouge\n",
      " [jaune, cyan, rouge, vert, noir, bleu] jaune->vert->rouge\n",
      "\n",
      "final cube: [bleu, jaune, noir, cyan, rouge, vert]\n",
      " [jaune, bleu, cyan, vert, noir, rouge] bleu->noir->jaune\n",
      " [jaune, bleu, vert, noir, cyan, rouge] jaune->noir->vert\n",
      " [jaune, bleu, cyan, vert, rouge, noir] bleu->cyan->noir\n",
      " [jaune, bleu, rouge, cyan, vert, noir] cyan->vert->noir\n",
      " [jaune, cyan, vert, noir, rouge, bleu] bleu->rouge->cyan\n",
      " [jaune, bleu, noir, cyan, rouge, vert] cyan->rouge->vert\n",
      " [jaune, bleu, rouge, noir, cyan, vert] bleu->jaune->rouge\n",
      " [jaune, cyan, rouge, vert, noir, bleu] jaune->vert->rouge\n",
      "\n",
      "final cube: [bleu, jaune, noir, cyan, rouge, vert]\n",
      " [jaune, bleu, cyan, vert, noir, rouge] bleu->noir->jaune\n",
      " [jaune, bleu, vert, noir, cyan, rouge] jaune->noir->vert\n",
      " [jaune, bleu, cyan, vert, rouge, noir] bleu->cyan->noir\n",
      " [jaune, bleu, rouge, noir, cyan, vert] cyan->vert->noir\n",
      " [jaune, cyan, vert, noir, rouge, bleu] bleu->rouge->cyan\n",
      " [jaune, bleu, noir, cyan, rouge, vert] cyan->rouge->vert\n",
      " [jaune, bleu, rouge, cyan, vert, noir] bleu->jaune->rouge\n",
      " [jaune, cyan, rouge, vert, noir, bleu] jaune->vert->rouge\n"
     ]
    }
   ],
   "source": [
    "for the_cube in all_cubes:\n",
    "    target_corners = eight_corners(the_cube)\n",
    "    solutions = [corner_to_cube[corner] for corner in target_corners]\n",
    "    \n",
    "    for possibility in it.product(*solutions):\n",
    "        \n",
    "        if len(set(possibility)) == 8:\n",
    "            \n",
    "            print('\\nfinal cube: [%s]' % ', '.join(the_cube))\n",
    "            \n",
    "            for cube, corner in zip(possibility, target_corners):\n",
    "                print(' [%s]' % ', '.join(cube), '->'.join(corner))"
   ]
  },
  {
   "cell_type": "code",
   "execution_count": 9,
   "metadata": {
    "collapsed": false,
    "deletable": true,
    "editable": true
   },
   "outputs": [
    {
     "data": {
      "text/plain": [
       "29393280"
      ]
     },
     "execution_count": 9,
     "metadata": {},
     "output_type": "execute_result"
    }
   ],
   "source": [
    "8*7*6*5*4*3*2*3**6"
   ]
  },
  {
   "cell_type": "code",
   "execution_count": null,
   "metadata": {
    "collapsed": true
   },
   "outputs": [],
   "source": []
  }
 ],
 "metadata": {
  "kernelspec": {
   "display_name": "Python 3",
   "language": "python",
   "name": "python3"
  },
  "language_info": {
   "codemirror_mode": {
    "name": "ipython",
    "version": 3
   },
   "file_extension": ".py",
   "mimetype": "text/x-python",
   "name": "python",
   "nbconvert_exporter": "python",
   "pygments_lexer": "ipython3",
   "version": "3.5.2"
  }
 },
 "nbformat": 4,
 "nbformat_minor": 2
}
