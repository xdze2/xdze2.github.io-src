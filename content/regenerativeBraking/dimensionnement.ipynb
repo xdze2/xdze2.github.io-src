{
 "cells": [
  {
   "cell_type": "code",
   "execution_count": 142,
   "metadata": {
    "collapsed": true
   },
   "outputs": [],
   "source": [
    "import numpy as np\n",
    "import matplotlib.pyplot as plt\n",
    "%matplotlib inline"
   ]
  },
  {
   "cell_type": "markdown",
   "metadata": {},
   "source": [
    "# Dimensionement ressort"
   ]
  },
  {
   "cell_type": "markdown",
   "metadata": {},
   "source": [
    "[Traité de construction horlogère](https://books.google.fr/books?id=EPxUNlKp1JUC&lpg=PA38&dq=ressort%20barillet%20formule&hl=fr&pg=PA31#v=onepage&q&f=false)\n",
    "\n",
    "formule 2.20 page 31:\n",
    "\n",
    "$$\n",
    "M = E\\,\\frac{h\\,e^3}{12\\,L}\\,\\alpha\n",
    "$$\n",
    "\n",
    "où  \n",
    "* $M$ est le moment ($N.m$)\n",
    "* $\\alpha$ est la variation d'angle (en radian)\n",
    "* $E$ est le module de Young ($N/m^2$)\n",
    "* $L$ est la longueur du ressort\n",
    "* $h$ est la largeur de lame\n",
    "* $e$ est l'épaisseur de la lame\n",
    "\n",
    "et un peu plus loin, on trouve l'énergie maximal stockée dans le ressort $U_{max}$:\n",
    "$$\n",
    "U_{max} = \\frac{1}{2} E \\frac{h\\,e^3}{12\\,L}\\,\\alpha_{max}^2\n",
    "$$\n",
    "\n",
    "On trouve d'autre précision [ici](http://www.springsandthings.com/pdf/spiral-torsion-springs.pdf):\n",
    "\n",
    "La contrainte maximale est typiquement de ~1200 MPa, et est donnée par la formule:\n",
    "$$\n",
    "\\sigma_{max} = \\frac{6}{h e^2} M_{max} = \\frac{E\\,e}{2\\, L} \\alpha_{max}\n",
    "$$\n",
    "(aussi la formule 2.22)\n",
    "\n",
    "Une formule permet d'estimer la taille du ressort en fonction de sa longueur:\n",
    "$$\n",
    "D = \\frac{2\\,L}{\\pi \\,\\left( \\frac{\\sqrt{A^2 - 1.27Le} - A}{2e} - \\frac{\\alpha}{2\\pi} \\right) } - A\n",
    "$$"
   ]
  },
  {
   "cell_type": "markdown",
   "metadata": {},
   "source": [
    "On peut en déduire le meilleurs compromis entre l'épaisseur du ressort et sa longueur:\n",
    "\n",
    "pour la limite en contrainte :\n",
    "$$\n",
    "e_{lim} = \\frac{\\sigma_{max}}{E}\\frac{2L}{\\alpha}\n",
    "$$\n",
    "\n",
    "pour la limite en masse ($m_{max}$), $\\rho$ est la densité de l'acier:\n",
    "$$\n",
    "e_{lim} = \\frac{m_{max}}{\\rho \\, L\\, h}\n",
    "$$\n",
    "\n",
    "donc \n",
    "$$\n",
    "\\frac{m_{max}}{\\rho \\, L_{opti}\\, h}  = \\frac{\\sigma_{max}}{\\alpha}\\frac{2L_{opti}}{E}\n",
    "$$\n",
    "\n",
    "$$\n",
    "L_{opti} =  \\sqrt{ \\frac{\\alpha}{2} \\, \\frac{m_{max}}{\\rho \\, h} \\frac{E}{\\sigma_{max}} }\n",
    "$$\n",
    "\n",
    "et l'expression de l'épaisseur optimal devient:\n",
    "$$\n",
    "e_{opti} = \\sqrt{ \\frac{2}{\\alpha} \\, \\frac{m_{max}}{\\rho \\, h} \\frac{\\sigma_{max}}{E} }\n",
    "$$\n",
    "\n",
    "L'energie stockée devient:\n",
    "$$\n",
    "U_{opti} = \\frac{1}{6} \\frac{\\sigma_{max}^2}{E}\\,\\frac{m_{max}}{\\rho}\n",
    "$$"
   ]
  },
  {
   "cell_type": "markdown",
   "metadata": {},
   "source": [
    "### Valeurs raisonables:"
   ]
  },
  {
   "cell_type": "code",
   "execution_count": 435,
   "metadata": {
    "collapsed": false
   },
   "outputs": [
    {
     "name": "stdout",
     "output_type": "stream",
     "text": [
      "Energie cinétique: 781 Joule\n"
     ]
    }
   ],
   "source": [
    "# Energie cinétique du cycliste :\n",
    "deltaV = 15 *1e3/3600 # m/s\n",
    "masse = 90 # kg\n",
    "\n",
    "Ecinetique = 0.5*masse *deltaV**2\n",
    "print( 'Energie cinétique: %.0f Joule' % Ecinetique )"
   ]
  },
  {
   "cell_type": "markdown",
   "metadata": {},
   "source": [
    "entre 100 et 800 Joule...\n",
    "\n",
    "Le cyliste est quand même sensé pédaler aussi"
   ]
  },
  {
   "cell_type": "code",
   "execution_count": 452,
   "metadata": {
    "collapsed": false
   },
   "outputs": [],
   "source": [
    "Ntour = 0.75# nombre de tour possible\n",
    "alpha_max = 2*np.pi* Ntour  \n",
    "E = 220e9 # Pa  - acier à ressort (wikipédia)"
   ]
  },
  {
   "cell_type": "code",
   "execution_count": 453,
   "metadata": {
    "collapsed": false
   },
   "outputs": [
    {
     "name": "stdout",
     "output_type": "stream",
     "text": [
      "distance de l'assistance: 1.6 m\n"
     ]
    }
   ],
   "source": [
    "rayon = 69e-2 / 2 # m, rayon d'une roue\n",
    "distance_assistance = rayon*alpha_max\n",
    "print( \"distance de l'assistance: %.1f m\" % distance_assistance )"
   ]
  },
  {
   "cell_type": "markdown",
   "metadata": {},
   "source": [
    "Typiquement la distance de démarrage... la moitié d'une intersection..."
   ]
  },
  {
   "cell_type": "code",
   "execution_count": 454,
   "metadata": {
    "collapsed": true
   },
   "outputs": [],
   "source": [
    "e = 1e-3 # m\n",
    "h = 10e-3 # m\n",
    "L = 4 # m"
   ]
  },
  {
   "cell_type": "code",
   "execution_count": 455,
   "metadata": {
    "collapsed": false
   },
   "outputs": [
    {
     "name": "stdout",
     "output_type": "stream",
     "text": [
      "Energie potentiel max: 1 Joule\n"
     ]
    }
   ],
   "source": [
    "Umax = 0.5*E*h* e**3 /12/L * alpha_max**2  # J\n",
    "\n",
    "print( 'Energie potentiel max: %.0f Joule' % Umax )"
   ]
  },
  {
   "cell_type": "code",
   "execution_count": 456,
   "metadata": {
    "collapsed": false
   },
   "outputs": [
    {
     "name": "stdout",
     "output_type": "stream",
     "text": [
      "Masse du ressort: 296 grammes\n"
     ]
    }
   ],
   "source": [
    "rho = 7400 # kg/m3\n",
    "V = e*h*L  # colume du ressort\n",
    "Mressort = rho*V\n",
    "\n",
    "print( 'Masse du ressort: %.0f grammes' % (Mressort*1000) )"
   ]
  },
  {
   "cell_type": "code",
   "execution_count": 457,
   "metadata": {
    "collapsed": false
   },
   "outputs": [
    {
     "name": "stdout",
     "output_type": "stream",
     "text": [
      "Contrainte max du ressort: 130 MPa (vs 1200 MPa)\n"
     ]
    }
   ],
   "source": [
    "sigma_max = alpha_max / 2 * e *E /L \n",
    "\n",
    "print( 'Contrainte max du ressort: %.0f MPa (vs 1200 MPa)' % (sigma_max*1e-6) )"
   ]
  },
  {
   "cell_type": "code",
   "execution_count": 458,
   "metadata": {
    "collapsed": true
   },
   "outputs": [],
   "source": [
    "A = 2e-2 # diamètre intérieure\n",
    "D = 2*L/( ( np.sqrt(A**2 + 1.27*L*e)-A )/2/e - alpha_max/2/np.pi )/np.pi - A"
   ]
  },
  {
   "cell_type": "code",
   "execution_count": 459,
   "metadata": {
    "collapsed": false
   },
   "outputs": [
    {
     "name": "stdout",
     "output_type": "stream",
     "text": [
      "diamètre extérieure: 7.7 cm \n"
     ]
    }
   ],
   "source": [
    "print('diamètre extérieure: %.1f cm ' % (D*100) )"
   ]
  },
  {
   "cell_type": "code",
   "execution_count": 460,
   "metadata": {
    "collapsed": true
   },
   "outputs": [],
   "source": [
    "Umax_map = lambda e, L:0.5*E*h* e**3 /12/L * alpha_max**2  # J\n",
    "\n",
    "\n",
    "sigma_limit = 1200*1e6 # Pa\n",
    "e_max_sigmaLimit = lambda L: sigma_limit*2*L / alpha_max /E\n",
    "\n",
    "\n",
    "e_max_masseLimit = lambda L, masse_limit: masse_limit/h/L/rho\n",
    "\n",
    "delta_V = lambda deltaE : np.sqrt( 2/masse* deltaE  )*3600/1e3  # km/h"
   ]
  },
  {
   "cell_type": "code",
   "execution_count": 461,
   "metadata": {
    "collapsed": false
   },
   "outputs": [],
   "source": [
    "masse_limit = 1 # kg\n",
    "sigma_limit = 1200*1e6 # Pa\n",
    "\n",
    "U_opti = 1/6 * sigma_limit**2 / E * masse_limit/ rho\n",
    "e_opti = np.sqrt( masse_limit/rho/h * 2/alpha_max * sigma_limit/E )\n",
    "L_opti = np.sqrt( masse_limit/rho/h * alpha_max/2 * E / sigma_limit )"
   ]
  },
  {
   "cell_type": "code",
   "execution_count": 462,
   "metadata": {
    "collapsed": false
   },
   "outputs": [
    {
     "name": "stdout",
     "output_type": "stream",
     "text": [
      "147.4201474201474 6.51590380968\n",
      "5.59316787676\n",
      "4\n"
     ]
    }
   ],
   "source": [
    "print( U_opti, delta_V(U_opti) )\n",
    "print( e_opti*1e3 )\n",
    "print( L )"
   ]
  },
  {
   "cell_type": "code",
   "execution_count": 463,
   "metadata": {
    "collapsed": false
   },
   "outputs": [
    {
     "data": {
      "text/plain": [
       "147.42014742014746"
      ]
     },
     "execution_count": 463,
     "metadata": {},
     "output_type": "execute_result"
    }
   ],
   "source": [
    "Umax_map( e_opti, L_opti )"
   ]
  },
  {
   "cell_type": "code",
   "execution_count": 464,
   "metadata": {
    "collapsed": true
   },
   "outputs": [],
   "source": [
    "L_span = np.linspace( 0.5, 10, 44 )\n",
    "e_span = 1e-3* np.linspace( 0.1, 5, 56 )\n",
    "\n",
    "Lxy, exy = np.meshgrid(L_span, e_span)\n",
    "Umax_xy = Umax_map( exy, Lxy  )"
   ]
  },
  {
   "cell_type": "code",
   "execution_count": 465,
   "metadata": {
    "collapsed": false
   },
   "outputs": [
    {
     "data": {
      "text/plain": [
       "<matplotlib.text.Text at 0x7f4c91684d68>"
      ]
     },
     "execution_count": 465,
     "metadata": {},
     "output_type": "execute_result"
    },
    {
     "data": {
      "image/png": "[encoded data removed]",
      "text/plain": [
       "<matplotlib.figure.Figure at 0x7f4c93c18390>"
      ]
     },
     "metadata": {},
     "output_type": "display_data"
    }
   ],
   "source": [
    "plt.figure(figsize=(10, 7))\n",
    "\n",
    "# en Joule\n",
    "#CS = plt.contour( L_span, 1e3*e_span, Umax_xy, colors='k', levels=[50, 100, 200, 400, 800, 1000] )\n",
    "#plt.clabel(CS, inline=1, fontsize=10, fmt='%.0f J')\n",
    "#plt.title('Energie maximale stockée (Joule)');\n",
    "\n",
    "## en km/h\n",
    "CS = plt.contour( L_span, 1e3*e_span, delta_V(Umax_xy), colors='k', levels=[1, 5, 10, 15, 20] )\n",
    "plt.clabel(CS, inline=1, fontsize=10, fmt='%.0f km/h')\n",
    "plt.title('variation de vitesse maximale (km/h)');\n",
    "\n",
    "plt.xlabel('Longueur du ressort (m)')\n",
    "plt.ylabel('Epaisseur lame (mm)')\n",
    "\n",
    "\n",
    "e_upper = np.max(e_span)*1e3\n",
    "plt.fill_between( L_span, 1e3*e_max_sigmaLimit(L_span), e_upper*np.ones_like(L_span), alpha=0.2, color='r', label='limite contrainte (1200 MPa)' )\n",
    "plt.fill_between( L_span, 1e3*e_max_masseLimit(L_span, 1),  e_upper*np.ones_like(L_span), alpha=0.2, color='b', label='limite masse (1kg)' )\n",
    "plt.fill_between( L_span, 1e3*e_max_masseLimit(L_span, 2),  e_upper*np.ones_like(L_span), alpha=0.2, color='b', label='limite masse (2kg)' )\n",
    "\n",
    "plt.plot( L_opti, e_opti*1e3, '.k', label='ep=%.1fmm, L=%.1fm'%((e_opti*1e3), L_opti)  )\n",
    "\n",
    "plt.legend();\n",
    "plt.ylim( [0, e_upper ] );\n",
    "\n",
    "mytext = 'largeur du ressort = %.1f cm \\n' % (1e2*h)\n",
    "mytext += 'nombre de tours de roue = %.0f (%.1f m) \\n' % (Ntour, distance_assistance)\n",
    "mytext += 'masse vélo = %.0f kg ' % (masse)\n",
    "\n",
    "ax = plt.gca()\n",
    "ax.text(0.02, 0.89, mytext,transform=ax.transAxes, bbox=dict(facecolor='w',edgecolor='black',boxstyle='square'))\n",
    "\n"
   ]
  },
  {
   "cell_type": "markdown",
   "metadata": {},
   "source": []
  },
  {
   "cell_type": "code",
   "execution_count": 471,
   "metadata": {
    "collapsed": false
   },
   "outputs": [
    {
     "data": {
      "text/plain": [
       "2560000.0"
      ]
     },
     "execution_count": 471,
     "metadata": {},
     "output_type": "execute_result"
    }
   ],
   "source": [
    "# Rubber\n",
    "rho = 1\n",
    "E = 0.1e9\n",
    "sigma_max = 16e6\n",
    "\n",
    "(sigma_max)**2/E/rho"
   ]
  },
  {
   "cell_type": "code",
   "execution_count": 472,
   "metadata": {
    "collapsed": false
   },
   "outputs": [
    {
     "data": {
      "text/plain": [
       "935064.9350649351"
      ]
     },
     "execution_count": 472,
     "metadata": {},
     "output_type": "execute_result"
    }
   ],
   "source": [
    "# Acier\n",
    "rho = 7\n",
    "E = 220e9\n",
    "sigma_max = 1200e6\n",
    "\n",
    "(sigma_max)**2/E/rho"
   ]
  },
  {
   "cell_type": "code",
   "execution_count": 473,
   "metadata": {
    "collapsed": false
   },
   "outputs": [
    {
     "data": {
      "text/plain": [
       "3657142.8571428573"
      ]
     },
     "execution_count": 473,
     "metadata": {},
     "output_type": "execute_result"
    }
   ],
   "source": [
    "# Carbon fiber\n",
    "rho = 1.75\n",
    "E = 400e9\n",
    "sigma_max = 1600e6\n",
    "\n",
    "(sigma_max)**2/E/rho"
   ]
  },
  {
   "cell_type": "code",
   "execution_count": 474,
   "metadata": {
    "collapsed": false
   },
   "outputs": [
    {
     "data": {
      "text/plain": [
       "98021173.61111112"
      ]
     },
     "execution_count": 474,
     "metadata": {},
     "output_type": "execute_result"
    }
   ],
   "source": [
    "# Kevlar\n",
    "rho = 1.44\n",
    "E = 100e9\n",
    "sigma_max = 3757e6\n",
    "\n",
    "(sigma_max)**2/E/rho\n"
   ]
  },
  {
   "cell_type": "code",
   "execution_count": null,
   "metadata": {
    "collapsed": true
   },
   "outputs": [],
   "source": []
  }
 ],
 "metadata": {
  "kernelspec": {
   "display_name": "Python 3",
   "language": "python",
   "name": "python3"
  },
  "language_info": {
   "codemirror_mode": {
    "name": "ipython",
    "version": 3
   },
   "file_extension": ".py",
   "mimetype": "text/x-python",
   "name": "python",
   "nbconvert_exporter": "python",
   "pygments_lexer": "ipython3",
   "version": "3.5.2"
  }
 },
 "nbformat": 4,
 "nbformat_minor": 2
}
