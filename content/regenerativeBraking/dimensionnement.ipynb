{
 "cells": [
  {
   "cell_type": "code",
   "execution_count": 142,
   "metadata": {
    "collapsed": true,
    "deletable": true,
    "editable": true
   },
   "outputs": [],
   "source": [
    "import numpy as np\n",
    "import matplotlib.pyplot as plt\n",
    "%matplotlib inline"
   ]
  },
  {
   "cell_type": "markdown",
   "metadata": {
    "deletable": true,
    "editable": true
   },
   "source": [
    "# Considération mécanique\n",
    "\n",
    "On peut tirer sur un matériau élastique... jusqu'à ce qu'il case, ou bien se déforme plastiquement. La limite élastique du matériau est alors atteinte (yield strength, yield stress ). L'énergie élastique maximale qu'il est possible de stocker en déformant un matériau est donc dépendante de cette valeur. \n",
    "\n",
    "https://en.wikipedia.org/wiki/Yield_(engineering)\n",
    "\n",
    "https://fr.wikipedia.org/wiki/Mat%C3%A9riau_pour_ressort  \n",
    "https://en.wikipedia.org/wiki/Spring_steel"
   ]
  },
  {
   "cell_type": "code",
   "execution_count": 610,
   "metadata": {
    "collapsed": false,
    "deletable": true,
    "editable": true
   },
   "outputs": [],
   "source": [
    "data_mat = {}\n",
    "\n",
    "# Natural Rubber\n",
    "# https://books.google.fr/books?id=S-TKBQAAQBAJ&lpg=PA104&ots=WJaYB6ndIT&dq=butyl%20rubber%20young%20modulus&hl=fr&pg=PA243#v=snippet&q=natural%20young&f=false\n",
    "data_mat['Caoutchouc naturel'] = { 'density': 0.65, 'EYoung': 1.5e6, 'yield_stress' : 20e6 }\n",
    "\n",
    "#  caoutchoucs butyle - https://fr.wikipedia.org/wiki/Polyisobutyl%C3%A8ne\n",
    "# http://www.matweb.com/search/DataSheet.aspx?MatGUID=754a0c3d7c194965a0b369792855bfe4\n",
    "# http://www.matweb.com/search/DataSheet.aspx?MatGUID=0585fb3433674d2981bb6de760d6ef1c\n",
    "\n",
    "# young : https://books.google.fr/books?id=S-TKBQAAQBAJ&lpg=PA104&ots=WJaYB6ndIT&dq=butyl%20rubber%20young%20modulus&hl=fr&pg=PA104#v=onepage&q=butyl%20rubber%20young%20modulus&f=false\n",
    "data_mat['Caoutchouc butyl'] = { 'density': 1.2, 'EYoung': 7e6, 'yield_stress' : 8.6e6 }\n",
    "\n",
    "# Piano wire, ASTM A228\n",
    "# http://www.matweb.com/search/DataSheet.aspx?MatGUID=4bcaab41d4eb43b3824d9de31c2c6849&ckck=1\n",
    "data_mat['Corde à piano (1mm)'] = { 'density': 7.8, 'EYoung': 210e9, 'yield_stress' : 2200e6 }\n",
    "data_mat['Corde à piano (6mm)'] = { 'density': 7.8, 'EYoung': 210e9, 'yield_stress' : 1500e6 }\n",
    "\n",
    "\n",
    "# https://www.modelpascher.com/store/index.php/materiaux/corde-a-piano/corde-a-piano-7mm.html\n",
    "\n",
    "# Acier ressort ??\n",
    "# http://www.matweb.com/search/DataSheet.aspx?MatGUID=cc3875168cec497aa05d27e8a250bd28\n",
    "data_mat['Acier ressort'] = { 'density': 7.8, 'EYoung': 160e9, 'yield_stress' : 1200e6 }\n",
    "\n",
    "# Steel, ASTM 36\n",
    "# http://www.matweb.com/search/DataSheet.aspx?MatGUID=d1844977c5c8440cb9a3a967f8909c3a\n",
    "data_mat['Acier struct.'] = { 'density': 7.8, 'EYoung': 200e9, 'yield_stress' : 200e6 }\n",
    "\n",
    "# Ti6Al4V Titanium Alloy\n",
    "# http://www.matweb.com/search/DataSheet.aspx?MatGUID=237df255c8324fe6a06dc004e86d86b6\n",
    "data_mat['Alliage de Titane'] = { 'density': 4.43, 'EYoung': 120e9, 'yield_stress' : 1020e6 }\n",
    "\n"
   ]
  },
  {
   "cell_type": "code",
   "execution_count": 631,
   "metadata": {
    "collapsed": true,
    "deletable": true,
    "editable": true
   },
   "outputs": [],
   "source": [
    "masse_limite = 0.2 # kg\n",
    "U_max = lambda mat: 1/2 * mat['yield_stress']**2 / mat['EYoung'] * masse_limite/ (1e3*mat['density'])\n",
    "\n",
    "masse_cycliste = 90 # kg\n",
    "deltaV_max = lambda mat: np.sqrt( 2*U_max( mat )/masse_cycliste ) *1000/3600 # km/h\n",
    "\n",
    "deltaV_cible = 15 * 1000/3600 # m/s\n",
    "mRessort_max = lambda mat: (1e3*mat['density'])*mat['EYoung'] / mat['yield_stress']**2 * masse_cycliste * deltaV_cible**2"
   ]
  },
  {
   "cell_type": "code",
   "execution_count": 665,
   "metadata": {
    "collapsed": false,
    "deletable": true,
    "editable": true
   },
   "outputs": [
    {
     "data": {
      "image/png": "[encoded data removed]",
      "text/plain": [
       "<matplotlib.figure.Figure at 0x7f4c90b4ff98>"
      ]
     },
     "metadata": {},
     "output_type": "display_data"
    }
   ],
   "source": [
    "# deltaV ? \n",
    "materials = data_mat.keys()\n",
    "deltaV = []\n",
    "\n",
    "for mat in materials:\n",
    "    deltaV.append( deltaV_max( data_mat[ mat ] )  )\n",
    "    \n",
    "materials, deltaV = zip( *sorted( [k for k in zip(materials, deltaV)], key = lambda x:x[1], reverse=True ) )\n",
    "\n",
    "# plot\n",
    "ind = range( len(deltaV) )\n",
    "\n",
    "plt.barh( ind, deltaV, tick_label=materials ); \n",
    "plt.xlabel('deltaV max [km/h] for %.1fkg of material'%masse_limite);"
   ]
  },
  {
   "cell_type": "code",
   "execution_count": 666,
   "metadata": {
    "collapsed": false,
    "deletable": true,
    "editable": true
   },
   "outputs": [
    {
     "data": {
      "image/png": "[encoded data removed]",
      "text/plain": [
       "<matplotlib.figure.Figure at 0x7f4c90b27b70>"
      ]
     },
     "metadata": {},
     "output_type": "display_data"
    }
   ],
   "source": [
    "# masse ressort ?\n",
    "materials = data_mat.keys()\n",
    "masseRessorts = []\n",
    "\n",
    "for mat in materials:\n",
    "    masseRessorts.append( mRessort_max( data_mat[ mat ] )  )\n",
    "    \n",
    "materials, masseRessorts = zip( *sorted( [k for k in zip(materials, masseRessorts)], key = lambda x:x[1], reverse=True ) )\n",
    "\n",
    "# plot\n",
    "ind = range( len(masseRessorts) )\n",
    "\n",
    "plt.barh( ind, masseRessorts, tick_label=materials ); \n",
    "plt.xlabel('masse du ressort nécessaire [kg]');"
   ]
  },
  {
   "cell_type": "code",
   "execution_count": 664,
   "metadata": {
    "collapsed": false,
    "deletable": true,
    "editable": true,
    "scrolled": true
   },
   "outputs": [
    {
     "name": "stdout",
     "output_type": "stream",
     "text": [
      "         Acier struct. : 60.938 kg     7.8;  200.0000 GPa;   200 MPa \n",
      "         Acier ressort :  1.354 kg     7.8;  160.0000 GPa;  1200 MPa \n",
      "   Corde à piano (6mm) :  1.138 kg     7.8;  210.0000 GPa;  1500 MPa \n",
      "     Alliage de Titane :  0.798 kg     4.4;  120.0000 GPa;  1020 MPa \n",
      "   Corde à piano (1mm) :  0.529 kg     7.8;  210.0000 GPa;  2200 MPa \n",
      "      Caoutchouc butyl :  0.177 kg     1.2;    0.0070 GPa;     9 MPa \n",
      "    Caoutchouc naturel :  0.004 kg     0.7;    0.0015 GPa;    20 MPa \n"
     ]
    }
   ],
   "source": [
    "for mat, masse in zip(materials, masseRessorts):\n",
    "    print( '{0:>22} : {1:6.3f} kg     {2:3.1f};  {3:8.4f} GPa;  {4:4.0f} MPa '.format( \n",
    "        mat, masse, data_mat[mat]['density'], 1e-9*data_mat[mat]['EYoung'], 1e-6*data_mat[mat]['yield_stress'] ) )"
   ]
  },
  {
   "cell_type": "markdown",
   "metadata": {
    "deletable": true,
    "editable": true
   },
   "source": [
    "# Dimensionement d'un ressort spiral"
   ]
  },
  {
   "cell_type": "markdown",
   "metadata": {
    "deletable": true,
    "editable": true
   },
   "source": [
    "[Traité de construction horlogère](https://books.google.fr/books?id=EPxUNlKp1JUC&lpg=PA38&dq=ressort%20barillet%20formule&hl=fr&pg=PA31#v=onepage&q&f=false)\n",
    "\n",
    "formule 2.20 page 31:\n",
    "\n",
    "$$\n",
    "M = E\\,\\frac{h\\,e^3}{12\\,L}\\,\\alpha\n",
    "$$\n",
    "\n",
    "où  \n",
    "* $M$ est le moment ($N.m$)\n",
    "* $\\alpha$ est la variation d'angle (en radian)\n",
    "* $E$ est le module de Young ($N/m^2$)\n",
    "* $L$ est la longueur du ressort\n",
    "* $h$ est la largeur de lame\n",
    "* $e$ est l'épaisseur de la lame\n",
    "\n",
    "et un peu plus loin, on trouve l'énergie maximal stockée dans le ressort $U_{max}$:\n",
    "$$\n",
    "U_{max} = \\frac{1}{2} E \\frac{h\\,e^3}{12\\,L}\\,\\alpha_{max}^2\n",
    "$$\n",
    "\n",
    "On trouve d'autre précision [ici](http://www.springsandthings.com/pdf/spiral-torsion-springs.pdf):\n",
    "\n",
    "La contrainte maximale est typiquement de ~1200 MPa, et est donnée par la formule:\n",
    "$$\n",
    "\\sigma_{max} = \\frac{6}{h e^2} M_{max} = \\frac{E\\,e}{2\\, L} \\alpha_{max}\n",
    "$$\n",
    "(aussi la formule 2.22)\n",
    "\n",
    "Une formule permet d'estimer la taille du ressort en fonction de sa longueur:\n",
    "$$\n",
    "D = \\frac{2\\,L}{\\pi \\,\\left( \\frac{\\sqrt{A^2 - 1.27Le} - A}{2e} - \\frac{\\alpha}{2\\pi} \\right) } - A\n",
    "$$"
   ]
  },
  {
   "cell_type": "markdown",
   "metadata": {
    "deletable": true,
    "editable": true
   },
   "source": [
    "On peut en déduire le meilleurs compromis entre l'épaisseur du ressort et sa longueur:\n",
    "\n",
    "pour la limite en contrainte :\n",
    "$$\n",
    "e_{lim} = \\frac{\\sigma_{max}}{E}\\frac{2L}{\\alpha}\n",
    "$$\n",
    "\n",
    "pour la limite en masse ($m_{max}$), $\\rho$ est la densité de l'acier:\n",
    "$$\n",
    "e_{lim} = \\frac{m_{max}}{\\rho \\, L\\, h}\n",
    "$$\n",
    "\n",
    "donc \n",
    "$$\n",
    "\\frac{m_{max}}{\\rho \\, L_{opti}\\, h}  = \\frac{\\sigma_{max}}{\\alpha}\\frac{2L_{opti}}{E}\n",
    "$$\n",
    "\n",
    "$$\n",
    "L_{opti} =  \\sqrt{ \\frac{\\alpha}{2} \\, \\frac{m_{max}}{\\rho \\, h} \\frac{E}{\\sigma_{max}} }\n",
    "$$\n",
    "\n",
    "et l'expression de l'épaisseur optimal devient:\n",
    "$$\n",
    "e_{opti} = \\sqrt{ \\frac{2}{\\alpha} \\, \\frac{m_{max}}{\\rho \\, h} \\frac{\\sigma_{max}}{E} }\n",
    "$$\n",
    "\n",
    "L'energie stockée devient:\n",
    "$$\n",
    "U_{opti} = \\frac{1}{6} \\frac{\\sigma_{max}^2}{E}\\,\\frac{m_{max}}{\\rho}\n",
    "$$"
   ]
  },
  {
   "cell_type": "markdown",
   "metadata": {
    "deletable": true,
    "editable": true
   },
   "source": [
    "### Valeurs raisonables:"
   ]
  },
  {
   "cell_type": "code",
   "execution_count": 705,
   "metadata": {
    "collapsed": false,
    "deletable": true,
    "editable": true
   },
   "outputs": [
    {
     "name": "stdout",
     "output_type": "stream",
     "text": [
      "Energie cinétique: 781 Joule\n"
     ]
    }
   ],
   "source": [
    "# Energie cinétique du cycliste :\n",
    "deltaV = 15 *1e3/3600 # m/s\n",
    "masse = 90 # kg\n",
    "\n",
    "Ecinetique = 0.5*masse *deltaV**2\n",
    "print( 'Energie cinétique: %.0f Joule' % Ecinetique )"
   ]
  },
  {
   "cell_type": "markdown",
   "metadata": {
    "deletable": true,
    "editable": true
   },
   "source": [
    "entre 100 et 800 Joule...\n",
    "\n",
    "Le cyliste est quand même sensé pédaler aussi"
   ]
  },
  {
   "cell_type": "code",
   "execution_count": 706,
   "metadata": {
    "collapsed": false,
    "deletable": true,
    "editable": true
   },
   "outputs": [],
   "source": [
    "Ntour = 3 # nombre de tour possible\n",
    "alpha_max = 2*np.pi* Ntour  \n",
    "E = 220e9 # Pa  - acier à ressort (wikipédia)"
   ]
  },
  {
   "cell_type": "code",
   "execution_count": 707,
   "metadata": {
    "collapsed": false,
    "deletable": true,
    "editable": true
   },
   "outputs": [
    {
     "name": "stdout",
     "output_type": "stream",
     "text": [
      "distance de l'assistance: 6.5 m\n"
     ]
    }
   ],
   "source": [
    "rayon = 69e-2 / 2 # m, rayon d'une roue\n",
    "distance_assistance = rayon*alpha_max\n",
    "print( \"distance de l'assistance: %.1f m\" % distance_assistance )"
   ]
  },
  {
   "cell_type": "markdown",
   "metadata": {
    "deletable": true,
    "editable": true
   },
   "source": [
    "Typiquement la distance de démarrage... la moitié d'une intersection..."
   ]
  },
  {
   "cell_type": "code",
   "execution_count": 708,
   "metadata": {
    "collapsed": true,
    "deletable": true,
    "editable": true
   },
   "outputs": [],
   "source": [
    "e = 1e-3 # m\n",
    "h = 15e-3 # m\n",
    "L = 6 # m"
   ]
  },
  {
   "cell_type": "code",
   "execution_count": 709,
   "metadata": {
    "collapsed": false,
    "deletable": true,
    "editable": true
   },
   "outputs": [
    {
     "name": "stdout",
     "output_type": "stream",
     "text": [
      "Energie potentiel max: 8 Joule\n"
     ]
    }
   ],
   "source": [
    "Umax = 0.5*E*h* e**3 /12/L * alpha_max**2  # J\n",
    "\n",
    "print( 'Energie potentiel max: %.0f Joule' % Umax )"
   ]
  },
  {
   "cell_type": "code",
   "execution_count": 710,
   "metadata": {
    "collapsed": false,
    "deletable": true,
    "editable": true
   },
   "outputs": [
    {
     "name": "stdout",
     "output_type": "stream",
     "text": [
      "Masse du ressort: 666 grammes\n"
     ]
    }
   ],
   "source": [
    "rho = 7400 # kg/m3\n",
    "V = e*h*L  # colume du ressort\n",
    "Mressort = rho*V\n",
    "\n",
    "print( 'Masse du ressort: %.0f grammes' % (Mressort*1000) )"
   ]
  },
  {
   "cell_type": "code",
   "execution_count": 711,
   "metadata": {
    "collapsed": false,
    "deletable": true,
    "editable": true
   },
   "outputs": [
    {
     "name": "stdout",
     "output_type": "stream",
     "text": [
      "Contrainte max du ressort: 346 MPa (vs 1200 MPa)\n"
     ]
    }
   ],
   "source": [
    "sigma_max = alpha_max / 2 * e *E /L \n",
    "\n",
    "print( 'Contrainte max du ressort: %.0f MPa (vs 1200 MPa)' % (sigma_max*1e-6) )"
   ]
  },
  {
   "cell_type": "code",
   "execution_count": 712,
   "metadata": {
    "collapsed": true,
    "deletable": true,
    "editable": true
   },
   "outputs": [],
   "source": [
    "A = 2e-2 # diamètre intérieure\n",
    "D = 2*L/( ( np.sqrt(A**2 + 1.27*L*e)-A )/2/e - alpha_max/2/np.pi )/np.pi - A"
   ]
  },
  {
   "cell_type": "code",
   "execution_count": 713,
   "metadata": {
    "collapsed": false,
    "deletable": true,
    "editable": true
   },
   "outputs": [
    {
     "name": "stdout",
     "output_type": "stream",
     "text": [
      "diamètre extérieure: 10.0 cm \n"
     ]
    }
   ],
   "source": [
    "print('diamètre extérieure: %.1f cm ' % (D*100) )"
   ]
  },
  {
   "cell_type": "code",
   "execution_count": 714,
   "metadata": {
    "collapsed": true,
    "deletable": true,
    "editable": true
   },
   "outputs": [],
   "source": [
    "Umax_map = lambda e, L:0.5*E*h* e**3 /12/L * alpha_max**2  # J\n",
    "\n",
    "\n",
    "sigma_limit = 1200*1e6 # Pa\n",
    "e_max_sigmaLimit = lambda L: sigma_limit*2*L / alpha_max /E\n",
    "\n",
    "\n",
    "e_max_masseLimit = lambda L, masse_limit: masse_limit/h/L/rho\n",
    "\n",
    "delta_V = lambda deltaE : np.sqrt( 2/masse* deltaE  )*3600/1e3  # km/h"
   ]
  },
  {
   "cell_type": "code",
   "execution_count": 715,
   "metadata": {
    "collapsed": false,
    "deletable": true,
    "editable": true
   },
   "outputs": [],
   "source": [
    "masse_limit = 1 # kg\n",
    "sigma_limit = 1200*1e6 # Pa\n",
    "\n",
    "U_opti = 1/6 * sigma_limit**2 / E * masse_limit/ rho\n",
    "e_opti = np.sqrt( masse_limit/rho/h * 2/alpha_max * sigma_limit/E )\n",
    "L_opti = np.sqrt( masse_limit/rho/h * alpha_max/2 * E / sigma_limit )"
   ]
  },
  {
   "cell_type": "code",
   "execution_count": 716,
   "metadata": {
    "collapsed": true,
    "deletable": true,
    "editable": true
   },
   "outputs": [],
   "source": [
    "L_span = np.linspace( 0.5, 10, 44 )\n",
    "e_span = 1e-3* np.linspace( 0.1, 5, 56 )\n",
    "\n",
    "Lxy, exy = np.meshgrid(L_span, e_span)\n",
    "Umax_xy = Umax_map( exy, Lxy  )"
   ]
  },
  {
   "cell_type": "code",
   "execution_count": 717,
   "metadata": {
    "collapsed": false,
    "deletable": true,
    "editable": true
   },
   "outputs": [
    {
     "data": {
      "text/plain": [
       "<matplotlib.text.Text at 0x7f4c939daac8>"
      ]
     },
     "execution_count": 717,
     "metadata": {},
     "output_type": "execute_result"
    },
    {
     "data": {
      "image/png": "[encoded data removed]",
      "text/plain": [
       "<matplotlib.figure.Figure at 0x7f4c910704a8>"
      ]
     },
     "metadata": {},
     "output_type": "display_data"
    }
   ],
   "source": [
    "plt.figure(figsize=(10, 7))\n",
    "\n",
    "# en Joule\n",
    "#CS = plt.contour( L_span, 1e3*e_span, Umax_xy, colors='k', levels=[50, 100, 200, 400, 800, 1000] )\n",
    "#plt.clabel(CS, inline=1, fontsize=10, fmt='%.0f J')\n",
    "#plt.title('Energie maximale stockée (Joule)');\n",
    "\n",
    "## en km/h\n",
    "CS = plt.contour( L_span, 1e3*e_span, delta_V(Umax_xy), colors='k', levels=[1, 5, 10, 15, 20] )\n",
    "plt.clabel(CS, inline=1, fontsize=10, fmt='%.0f km/h')\n",
    "plt.title('variation de vitesse maximale (km/h)');\n",
    "\n",
    "plt.xlabel('Longueur du ressort (m)')\n",
    "plt.ylabel('Epaisseur lame (mm)')\n",
    "\n",
    "\n",
    "e_upper = np.max(e_span)*1e3\n",
    "plt.fill_between( L_span, 1e3*e_max_sigmaLimit(L_span), e_upper*np.ones_like(L_span), alpha=0.2, color='r', label='limite contrainte (1200 MPa)' )\n",
    "plt.fill_between( L_span, 1e3*e_max_masseLimit(L_span, 1),  e_upper*np.ones_like(L_span), alpha=0.2, color='b', label='limite masse (1kg)' )\n",
    "plt.fill_between( L_span, 1e3*e_max_masseLimit(L_span, 2),  e_upper*np.ones_like(L_span), alpha=0.2, color='b', label='limite masse (2kg)' )\n",
    "\n",
    "plt.plot( L_opti, e_opti*1e3, '.k', label='ep=%.1fmm, L=%.1fm'%((e_opti*1e3), L_opti)  )\n",
    "\n",
    "plt.legend();\n",
    "plt.ylim( [0, e_upper ] );\n",
    "\n",
    "mytext = 'largeur du ressort = %.1f cm \\n' % (1e2*h)\n",
    "mytext += 'nombre de tours de roue = %.0f (%.1f m) \\n' % (Ntour, distance_assistance)\n",
    "mytext += 'masse vélo = %.0f kg ' % (masse)\n",
    "\n",
    "ax = plt.gca()\n",
    "ax.text(0.02, 0.89, mytext,transform=ax.transAxes, bbox=dict(facecolor='w',edgecolor='black',boxstyle='square'))\n",
    "\n"
   ]
  }
 ],
 "metadata": {
  "kernelspec": {
   "display_name": "Python 3",
   "language": "python",
   "name": "python3"
  },
  "language_info": {
   "codemirror_mode": {
    "name": "ipython",
    "version": 3
   },
   "file_extension": ".py",
   "mimetype": "text/x-python",
   "name": "python",
   "nbconvert_exporter": "python",
   "pygments_lexer": "ipython3",
   "version": "3.5.2"
  }
 },
 "nbformat": 4,
 "nbformat_minor": 2
}
