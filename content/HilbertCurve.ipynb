{
 "cells": [
  {
   "cell_type": "code",
   "execution_count": 191,
   "metadata": {
    "collapsed": true,
    "deletable": true,
    "editable": true
   },
   "outputs": [],
   "source": [
    "# <!-- collapse=True -->\n",
    "import numpy as np\n",
    "import matplotlib.pyplot as plt\n",
    "%matplotlib inline"
   ]
  },
  {
   "cell_type": "markdown",
   "metadata": {
    "deletable": true,
    "editable": true
   },
   "source": [
    "# Courbe de Hilbert\n",
    "\n",
    "Possibilié de pavage du plan par une ligne continue, respectant la localité. Algorithme de construction des coordonées.\n",
    "\n",
    "\n",
    "https://fr.wikipedia.org/wiki/Courbe_de_Hilbert\n",
    "\n",
    "Utilisation pour la visualisation de fichier... \n",
    "\n",
    "https://corte.si/posts/visualisation/binvis/index.html"
   ]
  },
  {
   "cell_type": "markdown",
   "metadata": {
    "deletable": true,
    "editable": true
   },
   "source": [
    "Algorithme:\n",
    "* Recursif\n",
    "* Division en quadrant : Nord-Est, Nord-Ouest, Sud-Est, Sud-Ouest"
   ]
  },
  {
   "cell_type": "code",
   "execution_count": 3,
   "metadata": {
    "collapsed": false,
    "deletable": true,
    "editable": true
   },
   "outputs": [],
   "source": [
    "'''\n",
    "C: Clock-wise\n",
    "A: Anti-clockwise\n",
    "\n",
    "'''\n",
    "\n",
    "def getCoordinates(k, level, sens='C', start='NO' ):\n",
    "    s = {}\n",
    "    s['A'] = ['C', 'A', 'A', 'C' ]\n",
    "    s['C'] = ['A', 'C', 'C', 'A' ]\n",
    "    \n",
    "    coords = {}\n",
    "    coords['SO'] = {'A':[(0,0), (1,0), (1,1), (0,1) ], 'C':[(0,0), (0,1), (1,1), (1,0) ]}\n",
    "    coords['SE'] = {'A':[(0,1), (1,1), (1,0), (0,0) ], 'C':[(0,1), (0,0), (1,0), (1,1) ]}\n",
    "    coords['NE'] = {'A':[(1,1), (0,1), (0,0), (1,0) ], 'C':[(1,1), (1,0), (0,0), (0,1) ]}\n",
    "    coords['NO'] = {'A':[(1,0), (0,0), (0,1), (1,1) ], 'C':[(1,0), (1,1), (0,1), (0,0) ]}\n",
    "\n",
    "    nStart = {}\n",
    "    nStart['SO'] = [ 'SO', 'SO', 'SO', 'NE' ]\n",
    "    nStart['SE'] = [ 'SE', 'SE', 'SE', 'NO' ]\n",
    "    nStart['NE'] = [ 'NE', 'NE', 'NE', 'SO' ]\n",
    "    nStart['NO'] = [ 'NO', 'NO', 'NO', 'SE' ]\n",
    "    \n",
    "    if level == 1:\n",
    "        return coords[start][sens][k]\n",
    "    \n",
    "    nTot = 2**( 2 * level )\n",
    "    quadrant = k/( nTot / 4 )  # division d'entier (floor?) , 0, 1, 2, 3\n",
    "\n",
    "    \n",
    "    kSuivant = k - quadrant* 4**(level-1)\n",
    "    print( quadrant, k )\n",
    "    \n",
    "    sensSuivant = s[ sens ][ quadrant ]\n",
    "    newStart = nStart[start][ quadrant ]\n",
    "    \n",
    "    i, j = getCoordinates(kSuivant, level-1, sensSuivant, newStart)\n",
    "    \n",
    "    I = i + 2**(level-1)*coords[start][sens][quadrant][0]\n",
    "    J = j + 2**(level-1)*coords[start][sens][quadrant][1]\n",
    "    \n",
    "    return I, J"
   ]
  },
  {
   "cell_type": "code",
   "execution_count": 47,
   "metadata": {
    "collapsed": false,
    "deletable": true,
    "editable": true
   },
   "outputs": [
    {
     "name": "stdout",
     "output_type": "stream",
     "text": [
      "2.5 10\n"
     ]
    },
    {
     "ename": "TypeError",
     "evalue": "list indices must be integers, not float",
     "output_type": "error",
     "traceback": [
      "\u001b[0;31m---------------------------------------------------------------------------\u001b[0m",
      "\u001b[0;31mTypeError\u001b[0m                                 Traceback (most recent call last)",
      "\u001b[0;32m<ipython-input-47-83b714d51231>\u001b[0m in \u001b[0;36m<module>\u001b[0;34m()\u001b[0m\n\u001b[0;32m----> 1\u001b[0;31m \u001b[0mgetCoordinates\u001b[0m\u001b[0;34m(\u001b[0m\u001b[0;36m10\u001b[0m\u001b[0;34m,\u001b[0m \u001b[0;36m2\u001b[0m \u001b[0;34m)\u001b[0m\u001b[0;34m\u001b[0m\u001b[0m\n\u001b[0m",
      "\u001b[0;32m<ipython-input-3-febbfa1d7b6c>\u001b[0m in \u001b[0;36mgetCoordinates\u001b[0;34m(k, level, sens, start)\u001b[0m\n\u001b[1;32m     32\u001b[0m     \u001b[0mprint\u001b[0m\u001b[0;34m(\u001b[0m \u001b[0mquadrant\u001b[0m\u001b[0;34m,\u001b[0m \u001b[0mk\u001b[0m \u001b[0;34m)\u001b[0m\u001b[0;34m\u001b[0m\u001b[0m\n\u001b[1;32m     33\u001b[0m \u001b[0;34m\u001b[0m\u001b[0m\n\u001b[0;32m---> 34\u001b[0;31m     \u001b[0msensSuivant\u001b[0m \u001b[0;34m=\u001b[0m \u001b[0ms\u001b[0m\u001b[0;34m[\u001b[0m \u001b[0msens\u001b[0m \u001b[0;34m]\u001b[0m\u001b[0;34m[\u001b[0m \u001b[0mquadrant\u001b[0m \u001b[0;34m]\u001b[0m\u001b[0;34m\u001b[0m\u001b[0m\n\u001b[0m\u001b[1;32m     35\u001b[0m     \u001b[0mnewStart\u001b[0m \u001b[0;34m=\u001b[0m \u001b[0mnStart\u001b[0m\u001b[0;34m[\u001b[0m\u001b[0mstart\u001b[0m\u001b[0;34m]\u001b[0m\u001b[0;34m[\u001b[0m \u001b[0mquadrant\u001b[0m \u001b[0;34m]\u001b[0m\u001b[0;34m\u001b[0m\u001b[0m\n\u001b[1;32m     36\u001b[0m \u001b[0;34m\u001b[0m\u001b[0m\n",
      "\u001b[0;31mTypeError\u001b[0m: list indices must be integers, not float"
     ]
    }
   ],
   "source": [
    "getCoordinates(10, 2 )"
   ]
  },
  {
   "cell_type": "code",
   "execution_count": 88,
   "metadata": {
    "collapsed": false,
    "deletable": true,
    "editable": true
   },
   "outputs": [
    {
     "name": "stdout",
     "output_type": "stream",
     "text": [
      "64 0\n"
     ]
    }
   ],
   "source": [
    "level = 3\n",
    "k = 4\n",
    "\n",
    "nTot = 2**( 2 * level )\n",
    "quadrant = k/( nTot / 4 )  # division d'entier (floor?) \n",
    "\n",
    "print nTot, quadrant"
   ]
  },
  {
   "cell_type": "markdown",
   "metadata": {
    "deletable": true,
    "editable": true
   },
   "source": [
    "#### Fonction computeCoord:\n",
    "* **s**: l'indice curviligne (le long de la ligne)\n",
    "* **niveau**: le niveau de la courbe, n_case = 2^niveau\n",
    "\n",
    "-> (i, j) coordonné du point **s**\n",
    "\n",
    "\n",
    "#### Fonction computeAllCoords:\n",
    "* **niveau**: le niveau de la courbe, n_case = 2^niveau\n",
    "\n",
    "-> [(i, j), ... ] coordonnées des point **s**"
   ]
  },
  {
   "cell_type": "code",
   "execution_count": 36,
   "metadata": {
    "collapsed": true,
    "deletable": true,
    "editable": true
   },
   "outputs": [],
   "source": [
    "'''\n",
    "C: Clock-wise\n",
    "A: Anti-clockwise\n",
    "\n",
    "'''\n",
    "\n",
    "\n",
    "coords = {}\n",
    "# [cellule de départ (start)] [ 'sens' ]\n",
    "coords['SO'] = {'A':np.array([[0,0], [1,0], [1,1], [0,1] ]), 'C':np.array([[0,0], [0,1], [1,1], [1,0] ])}\n",
    "coords['SE'] = {'A':np.array([[0,1], [1,1], [1,0], [0,0] ]), 'C':np.array([[0,1], [0,0], [1,0], [1,1] ])}\n",
    "coords['NE'] = {'A':np.array([[1,1], [0,1], [0,0], [1,0] ]), 'C':np.array([[1,1], [1,0], [0,0], [0,1] ])}\n",
    "coords['NO'] = {'A':np.array([[1,0], [0,0], [0,1], [1,1] ]), 'C':np.array([[1,0], [1,1], [0,1], [0,0] ])}\n",
    "\n",
    "nStart = {}\n",
    "nStart['SO'] = [ 'SO', 'SO', 'SO', 'NE' ]\n",
    "nStart['SE'] = [ 'SE', 'SE', 'SE', 'NO' ]\n",
    "nStart['NE'] = [ 'NE', 'NE', 'NE', 'SO' ]\n",
    "nStart['NO'] = [ 'NO', 'NO', 'NO', 'SE' ]\n",
    "\n",
    "s = {}\n",
    "s['A'] = ['C', 'A', 'A', 'C' ]\n",
    "s['C'] = ['A', 'C', 'C', 'A' ]\n",
    "\n",
    "\n",
    "def computeAllCoords(niveau, sens='C', start='NO' ):\n",
    "\n",
    "    \n",
    "    if niveau == 1:\n",
    "        return  coords[start][sens]\n",
    "    else:\n",
    "        \n",
    "    "
   ]
  },
  {
   "cell_type": "code",
   "execution_count": 72,
   "metadata": {
    "collapsed": false,
    "deletable": true,
    "editable": true
   },
   "outputs": [
    {
     "name": "stdout",
     "output_type": "stream",
     "text": [
      "[[0 0]\n",
      " [1 0]\n",
      " [1 1]\n",
      " [0 1]]\n"
     ]
    },
    {
     "data": {
      "image/png": "[encoded data removed]",
      "text/plain": [
       "<matplotlib.figure.Figure at 0x7fb34ad28828>"
      ]
     },
     "metadata": {},
     "output_type": "display_data"
    }
   ],
   "source": [
    "c = computeAllCoords( 1, sens='A', start='SO' )\n",
    "print( c )\n",
    "plt.plot( c[:, 0], c[:, 1], 'k' )\n",
    "plt.arrow( c[-2, 0], c[-2, 1], (c[-1, 0]-c[-2, 0])*.95, (c[-1, 1]-c[-2, 1])*.95, head_width=0.04, head_length=0.05, fc='k', ec='k')\n",
    "plt.axis('equal');\n",
    "plt.gca().invert_yaxis();"
   ]
  },
  {
   "cell_type": "code",
   "execution_count": 68,
   "metadata": {
    "collapsed": false,
    "deletable": true,
    "editable": true
   },
   "outputs": [
    {
     "data": {
      "text/plain": [
       "array([0, 0, 1, 1])"
      ]
     },
     "execution_count": 68,
     "metadata": {},
     "output_type": "execute_result"
    }
   ],
   "source": [
    "c[:, 0]"
   ]
  },
  {
   "cell_type": "code",
   "execution_count": 35,
   "metadata": {
    "collapsed": false,
    "deletable": true,
    "editable": true
   },
   "outputs": [
    {
     "data": {
      "image/png": "[encoded data removed]",
      "text/plain": [
       "<matplotlib.figure.Figure at 0x7fb34aef9160>"
      ]
     },
     "metadata": {},
     "output_type": "display_data"
    }
   ],
   "source": []
  },
  {
   "cell_type": "code",
   "execution_count": 8,
   "metadata": {
    "collapsed": false,
    "deletable": true,
    "editable": true
   },
   "outputs": [
    {
     "ename": "NameError",
     "evalue": "name 'level' is not defined",
     "output_type": "error",
     "traceback": [
      "\u001b[0;31m---------------------------------------------------------------------------\u001b[0m",
      "\u001b[0;31mNameError\u001b[0m                                 Traceback (most recent call last)",
      "\u001b[0;32m<ipython-input-8-0b9d507669e8>\u001b[0m in \u001b[0;36m<module>\u001b[0;34m()\u001b[0m\n\u001b[0;32m----> 1\u001b[0;31m \u001b[0mnTot\u001b[0m \u001b[0;34m=\u001b[0m \u001b[0;36m2\u001b[0m\u001b[0;34m**\u001b[0m\u001b[0;34m(\u001b[0m \u001b[0;36m2\u001b[0m \u001b[0;34m*\u001b[0m \u001b[0mlevel\u001b[0m \u001b[0;34m)\u001b[0m\u001b[0;34m\u001b[0m\u001b[0m\n\u001b[0m\u001b[1;32m      2\u001b[0m \u001b[0mquadrant\u001b[0m \u001b[0;34m=\u001b[0m \u001b[0mk\u001b[0m\u001b[0;34m/\u001b[0m\u001b[0;34m(\u001b[0m \u001b[0mnTot\u001b[0m \u001b[0;34m/\u001b[0m \u001b[0;36m4\u001b[0m \u001b[0;34m)\u001b[0m  \u001b[0;31m# division d'entier (floor?) , 0, 1, 2, 3\u001b[0m\u001b[0;34m\u001b[0m\u001b[0m\n\u001b[1;32m      3\u001b[0m \u001b[0;34m\u001b[0m\u001b[0m\n\u001b[1;32m      4\u001b[0m \u001b[0;34m\u001b[0m\u001b[0m\n\u001b[1;32m      5\u001b[0m \u001b[0mkSuivant\u001b[0m \u001b[0;34m=\u001b[0m \u001b[0mk\u001b[0m \u001b[0;34m-\u001b[0m \u001b[0mquadrant\u001b[0m\u001b[0;34m*\u001b[0m \u001b[0;36m4\u001b[0m\u001b[0;34m**\u001b[0m\u001b[0;34m(\u001b[0m\u001b[0mlevel\u001b[0m\u001b[0;34m-\u001b[0m\u001b[0;36m1\u001b[0m\u001b[0;34m)\u001b[0m\u001b[0;34m\u001b[0m\u001b[0m\n",
      "\u001b[0;31mNameError\u001b[0m: name 'level' is not defined"
     ]
    }
   ],
   "source": [
    "    nTot = 2**( 2 * level )\n",
    "    quadrant = k/( nTot / 4 )  # division d'entier (floor?) , 0, 1, 2, 3\n",
    "\n",
    "    \n",
    "    kSuivant = k - quadrant* 4**(level-1)\n",
    "    print( quadrant, k )\n",
    "    \n",
    "    sensSuivant = s[ sens ][ quadrant ]\n",
    "    newStart = nStart[start][ quadrant ]\n",
    "    \n",
    "    i, j = getCoordinates(kSuivant, level-1, sensSuivant, newStart)\n",
    "    \n",
    "    I = i + 2**(level-1)*coords[start][sens][quadrant][0]\n",
    "    J = j + 2**(level-1)*coords[start][sens][quadrant][1]\n",
    "    \n",
    "    return I, J"
   ]
  },
  {
   "cell_type": "markdown",
   "metadata": {
    "deletable": true,
    "editable": true
   },
   "source": [
    "## Generation avec L-system\n",
    "\n",
    "    Alphabet : L, R\n",
    "    Constantes : F, +, −\n",
    "    Axiome : L\n",
    "    Règles :\n",
    "    L → –RF+LFL+FR−\n",
    "    R → +LF−RFR−FL+ \n",
    "   \n",
    " F signifie « avance », + signifie « à gauche 90° », et − signifie « à droite 90° »."
   ]
  },
  {
   "cell_type": "code",
   "execution_count": 166,
   "metadata": {
    "collapsed": true,
    "deletable": true,
    "editable": true
   },
   "outputs": [],
   "source": [
    "code = 'L'"
   ]
  },
  {
   "cell_type": "code",
   "execution_count": 187,
   "metadata": {
    "collapsed": false,
    "deletable": true,
    "editable": true
   },
   "outputs": [
    {
     "name": "stdout",
     "output_type": "stream",
     "text": [
      "-+-+-RF+LFL+FR-F-+LF-RFR-FL+F+LF-RFR-FL+-F-RF+LFL+FR-+F+-+LF-RFR-FL+F+-RF+LFL+FR-F-RF+LFL+FR-+F+LF-RFR-FL+-F-+LF-RFR-FL+F+-RF+LFL+FR-F-RF+LFL+FR-+F+LF-RFR-FL+-+F+-RF+LFL+FR-F-+LF-RFR-FL+F+LF-RFR-FL+-F-RF+LFL+FR-+-F-+-+LF-RFR-FL+F+-RF+LFL+FR-F-RF+LFL+FR-+F+LF-RFR-FL+-F-+-RF+LFL+FR-F-+LF-RFR-FL+F+LF-RFR-FL+-F-RF+LFL+FR-+F+-RF+LFL+FR-F-+LF-RFR-FL+F+LF-RFR-FL+-F-RF+LFL+FR-+-F-+LF-RFR-FL+F+-RF+LFL+FR-F-RF+LFL+FR-+F+LF-RFR-FL+-+F+-+LF-RFR-FL+F+-RF+LFL+FR-F-RF+LFL+FR-+F+LF-RFR-FL+-F-+-RF+LFL+FR-F-+LF-RFR-FL+F+LF-RFR-FL+-F-RF+LFL+FR-+F+-RF+LFL+FR-F-+LF-RFR-FL+F+LF-RFR-FL+-F-RF+LFL+FR-+-F-+LF-RFR-FL+F+-RF+LFL+FR-F-RF+LFL+FR-+F+LF-RFR-FL+-+-F-+-RF+LFL+FR-F-+LF-RFR-FL+F+LF-RFR-FL+-F-RF+LFL+FR-+F+-+LF-RFR-FL+F+-RF+LFL+FR-F-RF+LFL+FR-+F+LF-RFR-FL+-F-+LF-RFR-FL+F+-RF+LFL+FR-F-RF+LFL+FR-+F+LF-RFR-FL+-+F+-RF+LFL+FR-F-+LF-RFR-FL+F+LF-RFR-FL+-F-RF+LFL+FR-+-+F+-+-+LF-RFR-FL+F+-RF+LFL+FR-F-RF+LFL+FR-+F+LF-RFR-FL+-F-+-RF+LFL+FR-F-+LF-RFR-FL+F+LF-RFR-FL+-F-RF+LFL+FR-+F+-RF+LFL+FR-F-+LF-RFR-FL+F+LF-RFR-FL+-F-RF+LFL+FR-+-F-+LF-RFR-FL+F+-RF+LFL+FR-F-RF+LFL+FR-+F+LF-RFR-FL+-+F+-+-RF+LFL+FR-F-+LF-RFR-FL+F+LF-RFR-FL+-F-RF+LFL+FR-+F+-+LF-RFR-FL+F+-RF+LFL+FR-F-RF+LFL+FR-+F+LF-RFR-FL+-F-+LF-RFR-FL+F+-RF+LFL+FR-F-RF+LFL+FR-+F+LF-RFR-FL+-+F+-RF+LFL+FR-F-+LF-RFR-FL+F+LF-RFR-FL+-F-RF+LFL+FR-+-F-+-RF+LFL+FR-F-+LF-RFR-FL+F+LF-RFR-FL+-F-RF+LFL+FR-+F+-+LF-RFR-FL+F+-RF+LFL+FR-F-RF+LFL+FR-+F+LF-RFR-FL+-F-+LF-RFR-FL+F+-RF+LFL+FR-F-RF+LFL+FR-+F+LF-RFR-FL+-+F+-RF+LFL+FR-F-+LF-RFR-FL+F+LF-RFR-FL+-F-RF+LFL+FR-+-+F+-+LF-RFR-FL+F+-RF+LFL+FR-F-RF+LFL+FR-+F+LF-RFR-FL+-F-+-RF+LFL+FR-F-+LF-RFR-FL+F+LF-RFR-FL+-F-RF+LFL+FR-+F+-RF+LFL+FR-F-+LF-RFR-FL+F+LF-RFR-FL+-F-RF+LFL+FR-+-F-+LF-RFR-FL+F+-RF+LFL+FR-F-RF+LFL+FR-+F+LF-RFR-FL+-+-F-+-+LF-RFR-FL+F+-RF+LFL+FR-F-RF+LFL+FR-+F+LF-RFR-FL+-F-+-RF+LFL+FR-F-+LF-RFR-FL+F+LF-RFR-FL+-F-RF+LFL+FR-+F+-RF+LFL+FR-F-+LF-RFR-FL+F+LF-RFR-FL+-F-RF+LFL+FR-+-F-+LF-RFR-FL+F+-RF+LFL+FR-F-RF+LFL+FR-+F+LF-RFR-FL+-+F+-+-RF+LFL+FR-F-+LF-RFR-FL+F+LF-RFR-FL+-F-RF+LFL+FR-+F+-+LF-RFR-FL+F+-RF+LFL+FR-F-RF+LFL+FR-+F+LF-RFR-FL+-F-+LF-RFR-FL+F+-RF+LFL+FR-F-RF+LFL+FR-+F+LF-RFR-FL+-+F+-RF+LFL+FR-F-+LF-RFR-FL+F+LF-RFR-FL+-F-RF+LFL+FR-+-F-+-RF+LFL+FR-F-+LF-RFR-FL+F+LF-RFR-FL+-F-RF+LFL+FR-+F+-+LF-RFR-FL+F+-RF+LFL+FR-F-RF+LFL+FR-+F+LF-RFR-FL+-F-+LF-RFR-FL+F+-RF+LFL+FR-F-RF+LFL+FR-+F+LF-RFR-FL+-+F+-RF+LFL+FR-F-+LF-RFR-FL+F+LF-RFR-FL+-F-RF+LFL+FR-+-+F+-+LF-RFR-FL+F+-RF+LFL+FR-F-RF+LFL+FR-+F+LF-RFR-FL+-F-+-RF+LFL+FR-F-+LF-RFR-FL+F+LF-RFR-FL+-F-RF+LFL+FR-+F+-RF+LFL+FR-F-+LF-RFR-FL+F+LF-RFR-FL+-F-RF+LFL+FR-+-F-+LF-RFR-FL+F+-RF+LFL+FR-F-RF+LFL+FR-+F+LF-RFR-FL+-+-+F+-+-RF+LFL+FR-F-+LF-RFR-FL+F+LF-RFR-FL+-F-RF+LFL+FR-+F+-+LF-RFR-FL+F+-RF+LFL+FR-F-RF+LFL+FR-+F+LF-RFR-FL+-F-+LF-RFR-FL+F+-RF+LFL+FR-F-RF+LFL+FR-+F+LF-RFR-FL+-+F+-RF+LFL+FR-F-+LF-RFR-FL+F+LF-RFR-FL+-F-RF+LFL+FR-+-F-+-+LF-RFR-FL+F+-RF+LFL+FR-F-RF+LFL+FR-+F+LF-RFR-FL+-F-+-RF+LFL+FR-F-+LF-RFR-FL+F+LF-RFR-FL+-F-RF+LFL+FR-+F+-RF+LFL+FR-F-+LF-RFR-FL+F+LF-RFR-FL+-F-RF+LFL+FR-+-F-+LF-RFR-FL+F+-RF+LFL+FR-F-RF+LFL+FR-+F+LF-RFR-FL+-+F+-+LF-RFR-FL+F+-RF+LFL+FR-F-RF+LFL+FR-+F+LF-RFR-FL+-F-+-RF+LFL+FR-F-+LF-RFR-FL+F+LF-RFR-FL+-F-RF+LFL+FR-+F+-RF+LFL+FR-F-+LF-RFR-FL+F+LF-RFR-FL+-F-RF+LFL+FR-+-F-+LF-RFR-FL+F+-RF+LFL+FR-F-RF+LFL+FR-+F+LF-RFR-FL+-+-F-+-RF+LFL+FR-F-+LF-RFR-FL+F+LF-RFR-FL+-F-RF+LFL+FR-+F+-+LF-RFR-FL+F+-RF+LFL+FR-F-RF+LFL+FR-+F+LF-RFR-FL+-F-+LF-RFR-FL+F+-RF+LFL+FR-F-RF+LFL+FR-+F+LF-RFR-FL+-+F+-RF+LFL+FR-F-+LF-RFR-FL+F+LF-RFR-FL+-F-RF+LFL+FR-+-+-\n",
      "3411\n"
     ]
    }
   ],
   "source": [
    "code = code.replace('R', 'b') # buffer\n",
    "code = code.replace('L', '-RF+LFL+FR-')\n",
    "code = code.replace('b', '+LF-RFR-FL+')\n",
    "\n",
    "print( code )\n",
    "print( len(code) )"
   ]
  },
  {
   "cell_type": "code",
   "execution_count": 188,
   "metadata": {
    "collapsed": true,
    "deletable": true,
    "editable": true
   },
   "outputs": [],
   "source": [
    "def integre( code ):\n",
    "    coords = [ np.array([0, 0]) ]\n",
    "    direction = np.array( [0,1 ] )\n",
    "    \n",
    "    for lettre in code:\n",
    "        if lettre == 'F':\n",
    "            new_coord = coords[-1] + direction\n",
    "            coords.append( new_coord  )\n",
    "        elif lettre == '-':\n",
    "            direction = tourne( direction, 'droite' )\n",
    "        elif lettre == '+':\n",
    "            direction = tourne( direction, 'gauche' )\n",
    "            \n",
    "    return np.array( coords )"
   ]
  },
  {
   "cell_type": "code",
   "execution_count": 189,
   "metadata": {
    "collapsed": true,
    "deletable": true,
    "editable": true
   },
   "outputs": [],
   "source": [
    "def tourne( direction, sens ):\n",
    "    new_dir = np.array( [ -direction[1] , direction[0] ] )\n",
    "    if sens == 'droite':\n",
    "        direction = new_dir\n",
    "    elif sens == 'gauche':\n",
    "        direction = - new_dir\n",
    "    return direction"
   ]
  },
  {
   "cell_type": "code",
   "execution_count": 193,
   "metadata": {
    "collapsed": false,
    "deletable": true,
    "editable": true
   },
   "outputs": [
    {
     "data": {
      "image/png": "[encoded data removed]",
      "text/plain": [
       "<matplotlib.figure.Figure at 0x7fb34ad531d0>"
      ]
     },
     "metadata": {},
     "output_type": "display_data"
    }
   ],
   "source": [
    "c = integre( code )\n",
    "\n",
    "plt.figure( figsize=(6, 6) )\n",
    "plt.plot( c[:, 0], c[:, 1], 'k' )\n",
    "plt.arrow( c[-2, 0], c[-2, 1], (c[-1, 0]-c[-2, 0])*.95, (c[-1, 1]-c[-2, 1])*.95, head_width=0.04, head_length=0.05, fc='k', ec='k')\n",
    "plt.axis('equal');\n",
    "plt.gca().invert_yaxis();"
   ]
  },
  {
   "cell_type": "code",
   "execution_count": null,
   "metadata": {
    "collapsed": true,
    "deletable": true,
    "editable": true
   },
   "outputs": [],
   "source": []
  }
 ],
 "metadata": {
  "kernelspec": {
   "display_name": "Python 3",
   "language": "python",
   "name": "python3"
  },
  "language_info": {
   "codemirror_mode": {
    "name": "ipython",
    "version": 3
   },
   "file_extension": ".py",
   "mimetype": "text/x-python",
   "name": "python",
   "nbconvert_exporter": "python",
   "pygments_lexer": "ipython3",
   "version": "3.4.3"
  }
 },
 "nbformat": 4,
 "nbformat_minor": 0
}
