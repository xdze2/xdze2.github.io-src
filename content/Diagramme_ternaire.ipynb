{
 "cells": [
  {
   "cell_type": "code",
   "execution_count": 1,
   "metadata": {
    "collapsed": true
   },
   "outputs": [],
   "source": [
    "# <!-- collapse=True -->\n",
    "import numpy as np\n",
    "import matplotlib.pyplot as plt\n",
    "%matplotlib inline"
   ]
  },
  {
   "cell_type": "markdown",
   "metadata": {},
   "source": [
    "# Diagramme ternaire\n",
    "\n",
    "3 grandeurs, mais avec la contrainte:\n",
    "$$\n",
    "a + b + c = 1\n",
    "$$\n",
    "il n'y a donc que deux variables indépendantes. On peut donc tracer l'ensemble des combinaisons dans le plan.\n",
    "\n",
    "Triangle équilatéral"
   ]
  },
  {
   "cell_type": "markdown",
   "metadata": {},
   "source": [
    "librairie python \n",
    "\n",
    "https://github.com/marcharper/python-ternary"
   ]
  },
  {
   "cell_type": "markdown",
   "metadata": {},
   "source": [
    "mais la mesure de distance n'est pas euclidienne, projection sur une base \"triangulaire\"\n",
    "\n",
    "mais pourquoi faire simple, quand on peut faire compliqué..."
   ]
  },
  {
   "cell_type": "code",
   "execution_count": 50,
   "metadata": {
    "collapsed": true
   },
   "outputs": [],
   "source": [
    "def projection( p ):\n",
    "    # norme\n",
    "    p = p/np.sum( p )\n",
    "    \n",
    "    a, b, c = p\n",
    "    x = ((1-a)**2 - (1-b)**2 +1)/2\n",
    "    y = np.sign(  (1-a)**2 - x**2  )*np.sqrt( np.abs((1-a)**2 - x**2) )\n",
    "    \n",
    "    return x, y"
   ]
  },
  {
   "cell_type": "code",
   "execution_count": 51,
   "metadata": {
    "collapsed": false
   },
   "outputs": [
    {
     "data": {
      "text/plain": [
       "(0.5, 0.0)"
      ]
     },
     "execution_count": 51,
     "metadata": {},
     "output_type": "execute_result"
    }
   ],
   "source": [
    "p = np.array( [1/5, 1/5, 0] )\n",
    "projection( p )"
   ]
  },
  {
   "cell_type": "code",
   "execution_count": 60,
   "metadata": {
    "collapsed": false
   },
   "outputs": [
    {
     "data": {
      "text/plain": [
       "(0.5, 0.8660254037844386)"
      ]
     },
     "execution_count": 60,
     "metadata": {},
     "output_type": "execute_result"
    }
   ],
   "source": [
    "p = np.array( [0, 0, 1] )\n",
    "projection( p )"
   ]
  },
  {
   "cell_type": "code",
   "execution_count": 58,
   "metadata": {
    "collapsed": false
   },
   "outputs": [
    {
     "data": {
      "text/plain": [
       "0.8660254037844386"
      ]
     },
     "execution_count": 58,
     "metadata": {},
     "output_type": "execute_result"
    }
   ],
   "source": [
    "np.sqrt(3)/2"
   ]
  },
  {
   "cell_type": "code",
   "execution_count": 23,
   "metadata": {
    "collapsed": false
   },
   "outputs": [
    {
     "data": {
      "text/plain": [
       "3.141592653589793"
      ]
     },
     "execution_count": 23,
     "metadata": {},
     "output_type": "execute_result"
    }
   ],
   "source": [
    "np.pi"
   ]
  },
  {
   "cell_type": "code",
   "execution_count": 103,
   "metadata": {
    "collapsed": true
   },
   "outputs": [],
   "source": [
    "import math\n",
    "import ternary\n",
    "\n",
    "def color_point(x, y, z, scale):\n",
    "    w = 1 #255\n",
    "    x_color = x * w / float(scale)\n",
    "    y_color = y * w / float(scale)\n",
    "    z_color = z * w / float(scale)\n",
    "    r = math.fabs(w - y_color) / w\n",
    "    g = math.fabs(w - x_color) / w\n",
    "    b = math.fabs(w - z_color) / w\n",
    "    return (r, g, b, 1.)\n",
    "\n",
    "def generate_heatmap_data(scale=5):\n",
    "    from ternary.helpers import simplex_iterator\n",
    "    d = dict()\n",
    "    for (i, j, k) in simplex_iterator(scale):\n",
    "        d[(i, j, k)] = color_point(i, j, k, scale)\n",
    "    return d\n",
    "\n",
    "scale = 3\n",
    "data = generate_heatmap_data(scale)"
   ]
  },
  {
   "cell_type": "code",
   "execution_count": 104,
   "metadata": {
    "collapsed": false
   },
   "outputs": [
    {
     "data": {
      "image/png": "[encoded data removed]",
      "text/plain": [
       "<matplotlib.figure.Figure at 0x7f02eb6c1828>"
      ]
     },
     "metadata": {},
     "output_type": "display_data"
    }
   ],
   "source": [
    "figure, tax = ternary.figure(scale=scale )\n",
    "tax.heatmap(data, style=\"hexagonal\", colormap=False) # Allow colors as rgba tuples\n",
    "tax.boundary()\n",
    "tax.set_title(\"RGBA Heatmap\")\n",
    "plt.axis('equal')\n",
    "plt.show()"
   ]
  },
  {
   "cell_type": "code",
   "execution_count": 100,
   "metadata": {
    "collapsed": true
   },
   "outputs": [],
   "source": [
    "from ternary.helpers import simplex_iterator"
   ]
  },
  {
   "cell_type": "code",
   "execution_count": 75,
   "metadata": {
    "collapsed": false
   },
   "outputs": [
    {
     "name": "stdout",
     "output_type": "stream",
     "text": [
      "(0, 0, 2)\n",
      "(0, 1, 1)\n",
      "(0, 2, 0)\n",
      "(1, 0, 1)\n",
      "(1, 1, 0)\n",
      "(2, 0, 0)\n"
     ]
    }
   ],
   "source": [
    "for i in simplex_iterator(2):\n",
    "    print( i )"
   ]
  },
  {
   "cell_type": "code",
   "execution_count": 74,
   "metadata": {
    "collapsed": true
   },
   "outputs": [],
   "source": [
    "simplex_iterator?"
   ]
  },
  {
   "cell_type": "code",
   "execution_count": null,
   "metadata": {
    "collapsed": true
   },
   "outputs": [],
   "source": []
  }
 ],
 "metadata": {
  "kernelspec": {
   "display_name": "Python 3",
   "language": "python",
   "name": "python3"
  },
  "language_info": {
   "codemirror_mode": {
    "name": "ipython",
    "version": 3
   },
   "file_extension": ".py",
   "mimetype": "text/x-python",
   "name": "python",
   "nbconvert_exporter": "python",
   "pygments_lexer": "ipython3",
   "version": "3.4.3"
  }
 },
 "nbformat": 4,
 "nbformat_minor": 2
}
