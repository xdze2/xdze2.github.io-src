{
 "cells": [
  {
   "cell_type": "markdown",
   "metadata": {},
   "source": [
    "## $\\lambda$ calculus\n",
    "\n",
    "En regardant la vidéo de `Computerphile`:  \n",
    "https://www.youtube.com/watch?v=eis11j_iGMs"
   ]
  },
  {
   "cell_type": "code",
   "execution_count": 1,
   "metadata": {},
   "outputs": [],
   "source": [
    "vrai = lambda x, y: x\n",
    "faux = lambda x, y: y"
   ]
  },
  {
   "cell_type": "code",
   "execution_count": 22,
   "metadata": {},
   "outputs": [],
   "source": [
    "vrai.str = 'vrai'\n",
    "faux.str = 'faux'"
   ]
  },
  {
   "cell_type": "code",
   "execution_count": 10,
   "metadata": {},
   "outputs": [],
   "source": [
    "non = lambda f: f( faux, vrai )"
   ]
  },
  {
   "cell_type": "code",
   "execution_count": 24,
   "metadata": {},
   "outputs": [
    {
     "name": "stdout",
     "output_type": "stream",
     "text": [
      "faux\n",
      "vrai\n"
     ]
    }
   ],
   "source": [
    "print( non(vrai).str )\n",
    "print( non(faux).str )"
   ]
  },
  {
   "cell_type": "code",
   "execution_count": 33,
   "metadata": {},
   "outputs": [],
   "source": [
    "et = lambda x, y: x( y, x )"
   ]
  },
  {
   "cell_type": "code",
   "execution_count": 32,
   "metadata": {},
   "outputs": [
    {
     "name": "stdout",
     "output_type": "stream",
     "text": [
      "faux\n",
      "faux\n",
      "faux\n",
      "vrai\n"
     ]
    }
   ],
   "source": [
    "print( et(faux, faux).str )\n",
    "print( et(faux, vrai).str )\n",
    "print( et(vrai, faux).str )\n",
    "print( et(vrai, vrai).str )"
   ]
  },
  {
   "cell_type": "code",
   "execution_count": 34,
   "metadata": {},
   "outputs": [],
   "source": [
    "ou = lambda x, y: non( et( non(x), non(y) ) )"
   ]
  },
  {
   "cell_type": "code",
   "execution_count": 35,
   "metadata": {},
   "outputs": [
    {
     "name": "stdout",
     "output_type": "stream",
     "text": [
      "faux\n",
      "vrai\n",
      "vrai\n",
      "vrai\n"
     ]
    }
   ],
   "source": [
    "print( ou(faux, faux).str )\n",
    "print( ou(faux, vrai).str )\n",
    "print( ou(vrai, faux).str )\n",
    "print( ou(vrai, vrai).str )"
   ]
  },
  {
   "cell_type": "code",
   "execution_count": 36,
   "metadata": {},
   "outputs": [],
   "source": [
    "ou = lambda x, y: x( x, y )"
   ]
  },
  {
   "cell_type": "code",
   "execution_count": 37,
   "metadata": {},
   "outputs": [
    {
     "name": "stdout",
     "output_type": "stream",
     "text": [
      "faux\n",
      "vrai\n",
      "vrai\n",
      "vrai\n"
     ]
    }
   ],
   "source": [
    "print( ou(faux, faux).str )\n",
    "print( ou(faux, vrai).str )\n",
    "print( ou(vrai, faux).str )\n",
    "print( ou(vrai, vrai).str )"
   ]
  },
  {
   "cell_type": "code",
   "execution_count": null,
   "metadata": {},
   "outputs": [],
   "source": []
  }
 ],
 "metadata": {
  "kernelspec": {
   "display_name": "Python 3",
   "language": "python",
   "name": "python3"
  },
  "language_info": {
   "codemirror_mode": {
    "name": "ipython",
    "version": 3
   },
   "file_extension": ".py",
   "mimetype": "text/x-python",
   "name": "python",
   "nbconvert_exporter": "python",
   "pygments_lexer": "ipython3",
   "version": "3.5.2"
  }
 },
 "nbformat": 4,
 "nbformat_minor": 2
}
