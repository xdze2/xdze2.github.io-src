{
 "cells": [
  {
   "cell_type": "markdown",
   "metadata": {
    "deletable": true,
    "editable": true
   },
   "source": [
    "# Ensemble de Mandelbrot et Deep Zoom image"
   ]
  },
  {
   "cell_type": "markdown",
   "metadata": {
    "deletable": true,
    "editable": true
   },
   "source": [
    "Calcul d'une pyramide d'images, pour créer une vue interactive zoomable de l'ensemble fractal de Mandelbrot.\n",
    "\n",
    "**L'ensemble de Mandelbrot** est une des figures fractals la plus célèbre ([wikipedia](https://en.wikipedia.org/wiki/Mandelbrot_set)). Il est fascinant de plonger à l'intérieure de l'image en continuant de zoomer et de découvrir les mêmes motifs apparaîtres, imbriqués à l'intérieure de structures complexes.\n",
    "\n",
    "La formulation mathématique de l'ensemble est, à l'inverse, étrangement simple. La couleur du pixel $(x, y)$ est déterminée suivant la convergence de la suite mathématique suivante (quadratique, et en nombre complexe):\n",
    "\n",
    "$$\n",
    "z_{n+1} = z_n^2 + c \n",
    "$$\n",
    "$$\n",
    "z_0 = 0\n",
    "$$\n",
    "$$ c = x+iy $$\n",
    "\n",
    "** Deep Zoom Image : ** Il est courant de voir des images interactives ayant des multiples niveaux de zoom. L'exemple bien sûr est _Google Earth_, ou par exemple ce [panorama du Mont Blanc](http://www.in2white.com/). Je voulais depuis longtemps essayer cela avec une image générée informatiquement. L'ensemble de Mandelbrot s'y prete très bien.\n",
    "\n",
    "On trouve [ici](https://msdn.microsoft.com/fr-fr/library/cc645077) la description du format d'image _Deep Zoom Image_ (DZI). L'image est devellopée en niveau de zoom successifs, doublant à chaque fois la largeur de l'image.\n",
    "\n",
    "La taille en pixel de l'image au niveau numéro $i$ est $L = 2^i$. Le niveau zéro correspond donc à une image de 1x1 pixel, le niveau 2 à une image de 2x2 pixels... etc... Les premiers niveaux ne sont donc pas utiles. Il faut attendre le 7ième niveau, par exemple, pour avoir une image de 128x128 pixels, et cela va très très vite ensuite."
   ]
  },
  {
   "cell_type": "code",
   "execution_count": 14,
   "metadata": {
    "collapsed": false,
    "deletable": true,
    "editable": true
   },
   "outputs": [
    {
     "name": "stdout",
     "output_type": "stream",
     "text": [
      "[(0, 1), (1, 2), (2, 4), (3, 8), (4, 16), (5, 32), (6, 64), (7, 128), (8, 256), (9, 512), (10, 1024), (11, 2048)]\n"
     ]
    }
   ],
   "source": [
    "print(  [ (i, 2**i) for i in range(12) ] )"
   ]
  },
  {
   "cell_type": "markdown",
   "metadata": {
    "deletable": true,
    "editable": true
   },
   "source": [
    "L'image de chaque niveau est decomposée en tuile de taille fixe. L'idée est de charger en mémoire seulement les tuiles en cours de visualisation, et non l'ensemble de l'image.\n",
    "\n",
    "Les images d'un niveau sont enregistrées dans un dossier nomé suivant le numéro du niveau de zoom. Puis chaque image est nommée suivant le schéma `row_col.png` avec `row` et `col` le numéro de ligne et de colonne de l'image. \n",
    "\n",
    "https://openseadragon.github.io/"
   ]
  },
  {
   "cell_type": "markdown",
   "metadata": {
    "deletable": true,
    "editable": true
   },
   "source": [
    "## Calcul numérique de l'ensemble "
   ]
  },
  {
   "cell_type": "code",
   "execution_count": 2,
   "metadata": {
    "collapsed": true,
    "deletable": true,
    "editable": true
   },
   "outputs": [],
   "source": [
    "import numpy as np\n",
    "\n",
    "%matplotlib inline\n",
    "import matplotlib.pyplot as plt"
   ]
  },
  {
   "cell_type": "code",
   "execution_count": 3,
   "metadata": {
    "collapsed": true,
    "deletable": true,
    "editable": true
   },
   "outputs": [],
   "source": [
    "import time"
   ]
  },
  {
   "cell_type": "markdown",
   "metadata": {
    "deletable": true,
    "editable": true
   },
   "source": [
    "_Remarque:_ On evite l'utilisation de structure de donnée avancée (nombres complexes) pour reduire le temps de calcul"
   ]
  },
  {
   "cell_type": "code",
   "execution_count": 5,
   "metadata": {
    "collapsed": true,
    "deletable": true,
    "editable": true
   },
   "outputs": [],
   "source": [
    "def computeTile( X, Y ):\n",
    "    nMax_iter = 100\n",
    "\n",
    "    Z = np.zeros( (len(X), len(Y)) )\n",
    "    for i, x in enumerate( X ):\n",
    "        for j, y in enumerate( Y ):\n",
    "\n",
    "            zx, zy = x, y\n",
    "            for k in range( nMax_iter ):\n",
    "                if zx*zx + zy*zy < 4:\n",
    "                    zx_temp = zx*zx - zy*zy + x\n",
    "                    zy = 2*zx*zy + y\n",
    "                    zx = zx_temp\n",
    "                else:\n",
    "                    break\n",
    "            else:\n",
    "                Z[i, j] = 1 #np.abs( z )\n",
    "    return Z"
   ]
  },
  {
   "cell_type": "markdown",
   "metadata": {},
   "source": [
    "## Test du calcul"
   ]
  },
  {
   "cell_type": "code",
   "execution_count": 6,
   "metadata": {
    "collapsed": true,
    "deletable": true,
    "editable": true
   },
   "outputs": [],
   "source": [
    "x_min, x_max = -2, 1\n",
    "y_min, y_max = -1, 1"
   ]
  },
  {
   "cell_type": "code",
   "execution_count": 7,
   "metadata": {
    "collapsed": true,
    "deletable": true,
    "editable": true
   },
   "outputs": [],
   "source": [
    "nx, ny = 64, 64\n",
    "\n",
    "X = np.linspace( x_min, x_max, nx )\n",
    "Y = np.linspace( y_min, y_max, ny )"
   ]
  },
  {
   "cell_type": "code",
   "execution_count": 8,
   "metadata": {
    "collapsed": false,
    "deletable": true,
    "editable": true
   },
   "outputs": [
    {
     "name": "stdout",
     "output_type": "stream",
     "text": [
      "0.189\n"
     ]
    },
    {
     "data": {
      "image/png": "[encoded data removed]",
      "text/plain": [
       "<matplotlib.figure.Figure at 0x7fe3eff3d630>"
      ]
     },
     "metadata": {},
     "output_type": "display_data"
    }
   ],
   "source": [
    "t = time.time()\n",
    "Z = computeTile( X, Y )\n",
    "print( \"%.3f\" % (time.time()-t))\n",
    "plt.figure(figsize=(6, 6));\n",
    "plt.imshow( Z );            "
   ]
  },
  {
   "cell_type": "markdown",
   "metadata": {
    "deletable": true,
    "editable": true
   },
   "source": [
    "Ensuite il faut définir les vecteurs $X$ et $Y$ en fonction de la tuile demandée."
   ]
  },
  {
   "cell_type": "code",
   "execution_count": 9,
   "metadata": {
    "collapsed": true,
    "deletable": true,
    "editable": true
   },
   "outputs": [],
   "source": [
    "x_min, x_max = -2, 1\n",
    "y_min, y_max = -1, 1\n",
    "\n",
    "def getXY( row, col, nTiles, tile_size  ):\n",
    "    xStart = x_min + row*(x_max - x_min)/nTiles\n",
    "    xEnd   = x_min + (row+1)*(x_max - x_min)/nTiles\n",
    "\n",
    "    yStart = y_min + col*(y_max - y_min)/nTiles\n",
    "    yEnd   = y_min + (col+1)*(y_max - y_min)/nTiles\n",
    "\n",
    "    Xtile = np.linspace( xStart, xEnd, tile_size )\n",
    "    Ytile = np.linspace( yStart, yEnd, tile_size )\n",
    "    \n",
    "    return Xtile, Ytile"
   ]
  },
  {
   "cell_type": "code",
   "execution_count": 10,
   "metadata": {
    "collapsed": false,
    "deletable": true,
    "editable": true
   },
   "outputs": [
    {
     "data": {
      "image/png": "[encoded data removed]",
      "text/plain": [
       "<matplotlib.figure.Figure at 0x7fe3edc93588>"
      ]
     },
     "metadata": {},
     "output_type": "display_data"
    }
   ],
   "source": [
    "Xtile, Ytile = getXY( 1, 1, 2, 64  )\n",
    "plt.figure(figsize=(6, 6)); \n",
    "plt.imshow( computeTile( Xtile, Ytile ) );"
   ]
  },
  {
   "cell_type": "markdown",
   "metadata": {},
   "source": [
    "## Calcul de la pyramide"
   ]
  },
  {
   "cell_type": "markdown",
   "metadata": {
    "deletable": true,
    "editable": true
   },
   "source": [
    "Le plus difficile est ensuite de parcourir la pyramide d'images et de lancer le calcul pour chaque image. Il est intéressant de faire un algorithme recursif, cohérent avec la description de l'image, et surtout permettant de detecter et de de ne pas calculer les images vides."
   ]
  },
  {
   "cell_type": "code",
   "execution_count": 11,
   "metadata": {
    "collapsed": true,
    "deletable": true,
    "editable": true
   },
   "outputs": [],
   "source": [
    "from PIL import Image\n",
    "\n",
    "def saveImg(Z, loc):\n",
    "    rescaled = (255.0 / Z.max() * (Z - Z.min())).astype(np.uint8)\n",
    "    im = Image.fromarray(rescaled)\n",
    "    im.save( loc )"
   ]
  },
  {
   "cell_type": "code",
   "execution_count": 12,
   "metadata": {
    "collapsed": false,
    "deletable": true,
    "editable": true
   },
   "outputs": [
    {
     "name": "stdout",
     "output_type": "stream",
     "text": [
      "Mandelbrot64px9L_files\n",
      "  -taille de l'image finale: 512 px\n",
      "  -nombre de tuiles dans l'image finale: 64 \n"
     ]
    }
   ],
   "source": [
    "# Configuration de l'image (Variables globales)\n",
    "tile_size = 64\n",
    "nbr_zoom = 9\n",
    "\n",
    "filename = 'Mandelbrot%ipx%iL_files' % (tile_size, nbr_zoom)\n",
    "\n",
    "print(filename)\n",
    "\n",
    "print( \"  -taille de l'image finale: %i px\"%2**nbr_zoom )\n",
    "print( \"  -nombre de tuiles dans l'image finale: %i \"% ((2**nbr_zoom)/tile_size)**2 )"
   ]
  },
  {
   "cell_type": "code",
   "execution_count": 13,
   "metadata": {
    "collapsed": false,
    "deletable": true,
    "editable": true
   },
   "outputs": [],
   "source": [
    "import os\n",
    "\n",
    "def computeSubTile( level=3, row=0, col=0 ):\n",
    "    # Calcul :\n",
    "    image_size = 2**level\n",
    "    tile_size_loc = min( tile_size, image_size )\n",
    "    nTiles = int( np.ceil( image_size/tile_size ))\n",
    "    \n",
    "    Xtile, Ytile = getXY( row, col, nTiles, tile_size_loc  )\n",
    "    Z = computeTile( Xtile, Ytile )\n",
    "    \n",
    "    # Enregistre la tuile :\n",
    "    dirname = './%s/%i' %(filename, level)\n",
    "    if not os.path.exists(dirname):\n",
    "        print( 'mkdir %s' %dirname )\n",
    "        os.makedirs( dirname )\n",
    "        \n",
    "    imgname = '%s/%i_%i.png' %(dirname, col, row )\n",
    "    saveImg(Z, imgname)    \n",
    "    \n",
    "    # Tuiles suivantes :\n",
    "    if 2**(level+1) <= tile_size:\n",
    "         computeSubTile( level=level+1, row=0, col=0 )\n",
    "    elif level<nbr_zoom:\n",
    "        # test quartier par quartier si l'image est non vide:\n",
    "        for i in range(2):\n",
    "            for j in range(2):\n",
    "                nDemi = int( tile_size/2 )\n",
    "                Zcrop = Z[ i*nDemi:(i+1)*nDemi, j*nDemi:(j+1)*nDemi  ]\n",
    "                \n",
    "                if np.max(Zcrop)-np.min(Zcrop)>.9 :\n",
    "                    computeSubTile( level=level+1, row=2*row+i, col=2*col+j )"
   ]
  },
  {
   "cell_type": "code",
   "execution_count": 448,
   "metadata": {
    "collapsed": false,
    "deletable": true,
    "editable": true
   },
   "outputs": [
    {
     "name": "stdout",
     "output_type": "stream",
     "text": [
      "mkdir ./Mandelbrot64px9L_files/3\n",
      "mkdir ./Mandelbrot64px9L_files/4\n",
      "mkdir ./Mandelbrot64px9L_files/5\n",
      "mkdir ./Mandelbrot64px9L_files/6\n",
      "mkdir ./Mandelbrot64px9L_files/7\n",
      "mkdir ./Mandelbrot64px9L_files/8\n",
      "mkdir ./Mandelbrot64px9L_files/9\n"
     ]
    }
   ],
   "source": [
    "computeSubTile()"
   ]
  },
  {
   "cell_type": "markdown",
   "metadata": {
    "deletable": true,
    "editable": true
   },
   "source": [
    "_Remarque:_ Le calcul avec des tuiles de 128px et 14 niveaux de zoom prends 2h15 sur mon ordi..."
   ]
  },
  {
   "cell_type": "markdown",
   "metadata": {
    "deletable": true,
    "editable": true
   },
   "source": [
    "Le fichier _.DZI_  (xml) doit être ajouter à coté du répertoire d'images. Les informations à completer sont la taille des tuiles, et la taille de l'image au dernier niveau de zoom:"
   ]
  },
  {
   "cell_type": "markdown",
   "metadata": {
    "deletable": true,
    "editable": true
   },
   "source": [
    "```\n",
    "<?xml version=\"1.0\" encoding=\"UTF-8\"?>\n",
    "<Image Format=\"png\" Overlap=\"0\" TileSize=\"128\" xmlns=\"http://schemas.microsoft.com/deepzoom/2008\">\n",
    "    <Size Height=\"16384\" Width=\"16384\"/>\n",
    "</Image>\n",
    "```"
   ]
  },
  {
   "cell_type": "markdown",
   "metadata": {
    "deletable": true,
    "editable": true
   },
   "source": [
    "Pour voir le résultat on peut utiliser le plugin javascript _OpenSeaDragon_ [ici](https://openseadragon.github.io/)."
   ]
  },
  {
   "cell_type": "code",
   "execution_count": null,
   "metadata": {
    "collapsed": true
   },
   "outputs": [],
   "source": []
  }
 ],
 "metadata": {
  "kernelspec": {
   "display_name": "Python 3",
   "language": "python",
   "name": "python3"
  },
  "language_info": {
   "codemirror_mode": {
    "name": "ipython",
    "version": 3
   },
   "file_extension": ".py",
   "mimetype": "text/x-python",
   "name": "python",
   "nbconvert_exporter": "python",
   "pygments_lexer": "ipython3",
   "version": "3.4.3"
  }
 },
 "nbformat": 4,
 "nbformat_minor": 2
}
