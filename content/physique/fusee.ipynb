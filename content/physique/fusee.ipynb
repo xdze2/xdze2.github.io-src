{
 "cells": [
  {
   "cell_type": "code",
   "execution_count": 1,
   "metadata": {
    "collapsed": true,
    "deletable": true,
    "editable": true
   },
   "outputs": [],
   "source": [
    "import numpy as np\n",
    "import matplotlib.pyplot as plt\n",
    "%matplotlib inline\n",
    "\n",
    "plt.rc('font', size=12)\n",
    "plt.rc('axes', labelsize=18)\n",
    "plt.rc('lines', linewidth=2)"
   ]
  },
  {
   "cell_type": "markdown",
   "metadata": {
    "deletable": true,
    "editable": true
   },
   "source": [
    "# Fusée à eau\n",
    "\n",
    "Modélisation d'une fusée à eau\n",
    "\n",
    "Références:\n",
    "- voir http://www.aircommandrockets.com/\n",
    "- et calcul bien plus complet http://www.et.byu.edu/~wheeler/benchtop/pix/thrust_eqns.pdf"
   ]
  },
  {
   "cell_type": "markdown",
   "metadata": {
    "deletable": true,
    "editable": true
   },
   "source": [
    "## 0. Ordre de grandeur\n",
    "\n",
    "Energie pompée VS energie potentielle de gravitation ?"
   ]
  },
  {
   "cell_type": "markdown",
   "metadata": {
    "deletable": true,
    "editable": true
   },
   "source": [
    "### Energie pompée ?\n",
    "\n",
    "on part d'une chambre d'un piston, remplie avec un gaz parfait à la pression $P_0$ et de volume $V_0$.\n",
    "\n",
    "On a d'après la loi des gaz parfait : $P.V = P_0.V_0 = Constante$\n",
    "\n",
    "Le travail exercé par la pression est $W = \\int \\! dW$\n",
    "\n",
    "avec\n",
    "$$\n",
    "d W = P.dV = -V.dP\n",
    "$$\n",
    "\n",
    "donc \n",
    "\n",
    "$$\n",
    "W = - P_0.V_0 \\int_{P_0}^{P_{atm}} \\frac{dP}{P} = P_0.V_0 \\ln \\left[  \\frac{P_0}{P_{atm}} \\right ]\n",
    "$$\n",
    "\n",
    "### Altitude maximale atteignable\n",
    "L'énergie potentielle au point le plus haut de la trajectoire est  $E_p = mgz_{max}$. A ce point l'énergie cinétique de la fusée est nulle.\n",
    "\n",
    "Ainsi l'altitude maximale possiblement atteignable est:\n",
    "$$\n",
    "z_{max} = \\frac{P_0.V_0}{mg} \\ln \\left[  \\frac{P_0}{P_{atm}} \\right ]\n",
    "$$"
   ]
  },
  {
   "cell_type": "code",
   "execution_count": 2,
   "metadata": {
    "collapsed": false,
    "deletable": true,
    "editable": true
   },
   "outputs": [
    {
     "name": "stdout",
     "output_type": "stream",
     "text": [
      "altitude max. : 56.525764  en mètre \n"
     ]
    }
   ],
   "source": [
    "g = 9.81  # m.s-2\n",
    "Patm = 1e5  # Pa\n",
    "\n",
    "P0 = 4*Patm\n",
    "V0 = 1e-3 # m3\n",
    "m = 1 # kg\n",
    "\n",
    "z_max = P0*V0/m/g*np.log( P0/Patm )\n",
    "\n",
    "print( 'altitude max. : %f  en mètre '%z_max )"
   ]
  },
  {
   "cell_type": "markdown",
   "metadata": {
    "deletable": true,
    "editable": true
   },
   "source": [
    "Ici n'est pas pris en compte la perte de masse de la fusée du fait de l'expulsion de l'eau et les frottements de l'air sur l'extérieure de la fusée.\n",
    "\n",
    "Le volume d'air semble devoir être le plus grand possible, comme la masse la plus faible possible, c'est à dire une bouteille sans eau... ceci n'est pas réaliste. La poussée induite par l'expulsion de l'eau doit être considérée."
   ]
  },
  {
   "cell_type": "markdown",
   "metadata": {},
   "source": [
    "# Modéle plus précis"
   ]
  },
  {
   "cell_type": "markdown",
   "metadata": {
    "deletable": true,
    "editable": true
   },
   "source": [
    "## 1. Expulsion de l'eau\n",
    "\n",
    "Le premier problème est de calculer la vitesse d'expulsion de l'eau en fonction du temps. On peut imaginer un réservoire immobile, initialement sous pression, se vidant de son eau: \n",
    "\n",
    "Considéront une bouteille de diamètre constant $D$ et ayant un goulot de diamètre $d$.\n",
    "\n",
    "La **conservation du débit** donne la relation entre la vitesse de l'eau en surface, noté $\\dot y(t)$, et la vitesse d'écoulement dans le goulot $u$:\n",
    "$$ \\dot y(t) \\, D^2 = u(t) \\, d^2   $$"
   ]
  },
  {
   "cell_type": "markdown",
   "metadata": {
    "deletable": true,
    "editable": true
   },
   "source": [
    "Une seconde relation est obtenue cette fois grâce à la conservation de l'énergie. C'est le **théorème de Bernouilli**:\n",
    "\n",
    "$$\n",
    "\\dot y(t) ^2 + \\frac{2P(t)}{\\rho} = u(t)^2\n",
    "$$\n",
    "\n",
    "_Hypothèses:_ fluide non visqueux et incompressible, écoulement stationnaire? et laminaire."
   ]
  },
  {
   "cell_type": "markdown",
   "metadata": {
    "deletable": true,
    "editable": true
   },
   "source": [
    "$P(t)$ est la pression de l'air à l'intérieure de la bouteille. Elle diminue au fur et à mesure que la bouteille se vide. \n",
    "La **loi des gaz parfait** permet d'écrire son évolution avec la variation de volume:\n",
    "$$ P V  = nRT = Constante$$\n",
    "\n",
    "En simplifiant par la section du réservoire: \n",
    "$$ y(t) \\, P(t) = Constante = y_0 \\, P_0 $$\n",
    "\n",
    "\n",
    "_Hypothèse: isotherme (T constant) plutôt que adiabatique._\n",
    "\n",
    "La hauteur d'eau dans la bouteille, avec l'origine au fond de la bouteille (la bouteille est vide à $y=0$), est noté $y(t)$.\n",
    "\n",
    "\n",
    "initialement remplie jusqu'à la hauteur $y = y_0$ avec de l'eau. $y(t)$ est\n",
    "Le volume initial d'air est donc $\\pi /4 \\, D^2 $.\n",
    "\n",
    "$\\dot y$ est la vitesse de déplacement de la surface de l'eau dans la bouteille, et $u$ est la vitesse de l'eau quand elle sort de la bouteille. $P$ est la pression de l'air dans la bouteille. \n",
    "\n",
    "\n",
    "\n",
    "\n",
    "\n"
   ]
  },
  {
   "cell_type": "markdown",
   "metadata": {
    "deletable": true,
    "editable": true
   },
   "source": [
    "Il reste maintenant à combiner ces trois équations pour obtenir une équation différentielle fonction seulement de la hauteur d'au dans la bouteille:"
   ]
  },
  {
   "cell_type": "markdown",
   "metadata": {
    "deletable": true,
    "editable": true
   },
   "source": [
    "$$\n",
    "\\dot y ^2 + \\frac{2P}{\\rho} = \\dot y^2 \\frac{D^4}{d^4}\n",
    "$$\n",
    "\n",
    "$$\n",
    "\\dot y ^2 \\left( \\frac{D^4}{d^4} -1 \\right) = \\frac{2P}{\\rho}\n",
    "$$\n",
    "\n",
    "Pour simplifier les écritures, on remplace le rapport des diamètres $\\dfrac{D}{d}$ par $\\eta$ et on note $\\tilde P$ la pression normée par la densité de l'eau $\\rho$. L'équation devient alors:\n",
    "\n",
    "$$\n",
    "\\dot y ^2 \\left( \\eta^4 -1 \\right) = 2 \\, \\tilde P\n",
    "$$\n",
    "\n",
    "Maintenant, en insérant la loi des gaz parfait:\n",
    "$$\n",
    "\\dot y ^2 \\left( \\eta^4 -1 \\right) = 2\\,\\tilde P_0 \\frac{y_0}{y}  \n",
    "$$\n",
    "\n",
    "L'équation différentielle finale est donc:\n",
    "$$\n",
    "\\dot y ^2 \\, y = \\frac{2\\, y_0\\, \\tilde P_0}{ \\eta^4 -1 } = const.\n",
    "$$\n",
    "\n",
    "C'est une équation non-linéaire du premier ordre. La condition initiale est $y({\\small t=0}) = 0$."
   ]
  },
  {
   "cell_type": "markdown",
   "metadata": {
    "deletable": true,
    "editable": true
   },
   "source": [
    "Il existe une solution analytique ([merci WolframAlpha](http://www.wolframalpha.com/input/?i=f*df%2Fdt%5E2+%3D+a)) de la forme:\n",
    "\n",
    "$$\n",
    "y(t) = \\left(\\frac{3}{2}\\right)^{2/3} \\left( c_1 \\pm t\\sqrt a  \\right)^{2/3}\n",
    "$$\n",
    "\n",
    "que l'on peut reécrire plus simplement:\n",
    "$$\n",
    "y(t) = \\left( B + A\\,t  \\right)^{2/3}\n",
    "$$\n",
    "\n",
    "avec les deux constantes:\n",
    "$$\n",
    "A = \\frac{3}{2} \\sqrt{   \\frac{2\\, y_0\\, \\tilde P_0}{ \\eta^4 -1 } }\n",
    "$$ et $$ B=y_0^{3/2} $$\n",
    "\n",
    "_Remarque:_ Le signe est positif parce que $y$ augmente avec le temps. Quand $y$ devient supérieure à la longueur de la bouteille, le système n'est plus valide et la pousée s'arrete.  "
   ]
  },
  {
   "cell_type": "markdown",
   "metadata": {
    "deletable": true,
    "editable": true
   },
   "source": [
    "Le temps final de la poussée, c'est-à-dire lorsqu'il n'y a plus d'eau dans la bouteille, est obtenu en cherchant $t_f$ tel que $y(t_f) = L$: \n",
    "$$\n",
    "t_f = \\frac{L^{3/2} -  y_0^{3/2}}{A}$$"
   ]
  },
  {
   "cell_type": "markdown",
   "metadata": {
    "deletable": true,
    "editable": true
   },
   "source": [
    "On souhaite, pour calculer ensuite la force de poussée, aussi avoir l'expression de la vitesse de sortie de l'eau:\n",
    "$$\n",
    "u(t) = \\eta^2 \\, \\dot y (t) = \\frac{2}{3}  \\, \\eta^2 \\,A \\left( B+A\\,t \\right )^{-1/3}\n",
    "$$"
   ]
  },
  {
   "cell_type": "markdown",
   "metadata": {
    "deletable": true,
    "editable": true
   },
   "source": [
    "## 2. Dynamique de la fusée\n",
    "\n",
    "On connait maintenant l'évolution de la fusée avec le temps. C'est la masse de l'eau restant plus la masse à vide de la fusée. On connait aussi la force de poussée due à l'évacuation de l'eau. C'est la vitesse de l'eau dans le goulot fois le débit massique  (voir [wikipedia](https://fr.wikipedia.org/wiki/Pouss%C3%A9e_(a%C3%A9rodynamique%29)): "
   ]
  },
  {
   "cell_type": "markdown",
   "metadata": {
    "deletable": true,
    "editable": true
   },
   "source": [
    "$$\n",
    "F_P(t) = u \\cdot q\n",
    "$$\n",
    "\n",
    "$F_P$ est la force de poussée, $q$ est le débit massique d'eau ejectée (en kg/s).\n",
    "\n",
    "En remplaçant le débit massique par $q=\\rho \\, S\\, u$, l'expression de la force devient seulement fonction de la vitesse $u(t)$:\n",
    "\n",
    "$$\n",
    "F_P(t) = \\rho \\, d^2 \\, \\frac{  \\pi}{4} \\; u(t)^2 \n",
    "$$\n",
    "\n",
    "Ou bien, en fonction de la vitesse de la surface de l'eau (pour mémoire $\\eta = D/d$):\n",
    "$$\n",
    "F_P(t) =  \\rho \\, D^2 \\,  \\frac{  \\pi}{4} \\; \\dot y^2\n",
    "$$"
   ]
  },
  {
   "cell_type": "markdown",
   "metadata": {
    "deletable": true,
    "editable": true
   },
   "source": [
    "On peut aussi prendre en compte la **trainée aérodynamique**, c'est à dire les frottements de l'air ([wikipedia](https://fr.wikipedia.org/wiki/Tra%C3%AEn%C3%A9e)), avec l'expression suivante:\n",
    "\n",
    "$$\n",
    "F_{t} = - \\frac{\\rho_{air}\\,S\\, C_x}{2} v^2\n",
    "$$"
   ]
  },
  {
   "cell_type": "markdown",
   "metadata": {
    "deletable": true,
    "editable": true
   },
   "source": [
    "Enfin, la **somme des forces** est équale à la variation de quantité de mouvement:\n",
    "\n",
    "$$\n",
    "\\frac{d}{dt}(\\, mv \\,) = F_P(t) - g\\,m(t) - F_v( v )\n",
    "$$\n",
    "\n",
    "$v$ est la vitesse de la fusée, $m(t)$ sa masse et $g$ l'accélération de gravité. Après la dérivation du produit $mv$, on obtient:\n",
    "\n",
    "$$\n",
    "m(t)\\frac{d\\, v}{dt} = -m(t)\\, g - F_v( v ) - v\\,\\dot m(t)\n",
    "$$\n",
    "\n",
    "L'évolution de la masse $m(t)$ est connue. Il est donc possible de résoudre cette équation numériquement.\n",
    "\n",
    "\n",
    "_note:_ il manque, entre autre, la phase de poussée du fait du gaz restant après l'expulsion de toute l'eau..."
   ]
  },
  {
   "cell_type": "markdown",
   "metadata": {
    "deletable": true,
    "editable": true
   },
   "source": [
    "_note:_ La pousée initiale est :\n",
    "$$\n",
    "F_P(t=0) = \\frac{4}{9} \\frac{A^2}{y_0}  \\cdot \\eta^2 \\, \\rho \\, d^2 \\,  \\pi/4\n",
    "$$\n",
    "\n",
    "$$\n",
    "F_P(t=0)  =   \\frac{1}{ \\eta^4 -1 }  P_0 \\, D^2 \\,  \\pi/2\n",
    "$$"
   ]
  },
  {
   "cell_type": "markdown",
   "metadata": {
    "deletable": true,
    "editable": true
   },
   "source": [
    "Dimensions de bouteille:\n",
    "- http://percolat.free.fr/0304dimensions.htm\n",
    "- http://percolat.free.fr/documentation/silhouettes/echel1_COCACOLA.GIF"
   ]
  },
  {
   "cell_type": "code",
   "execution_count": 181,
   "metadata": {
    "collapsed": true,
    "deletable": true,
    "editable": true
   },
   "outputs": [],
   "source": [
    "class WaterRocket():\n",
    "    # Constantes \n",
    "    g = 9.81  # m.s-2, gravité\n",
    "    Patm = 1e5  # Pa, pression atmosphérique\n",
    "    \n",
    "    def __init__(self, P_0=5*Patm, D=88e-3, d=26e-3, L=330e-3,\n",
    "                       mVide = .1, alpha=.5, rho = 1000, Cx=.3 ):\n",
    "        \n",
    "        # Parametres:\n",
    "        self.P_0 = P_0 # Pa, pression initiale dans la bouteille\n",
    "        self.D = D # m, diametre de la bouteille\n",
    "        self.d = d # m, diametre du goulot\n",
    "        self.L = L # m, longueur de la bouteille\n",
    "        self.mVide = mVide # kg, masse à vide\n",
    "        self.alpha = alpha  # proportion volume eau/totale\n",
    "        self.rho = rho # kg/m3, densité du fluide (eau)\n",
    "        self.Cx = Cx # coefficient de traînée\n",
    "        \n",
    "        # Constantes utilisées dans le calcul:\n",
    "        self.y0 = self.L*(1 - self.alpha)  # m - hauteur d'air initiale\n",
    "        self.eta = self.D/self.d  # rapport de diamètre\n",
    "\n",
    "        self.A = 3/2.*np.sqrt( 2*self.y0*self.P_0/self.rho/( self.eta**4 - 1 )  ) # constante de l'équation\n",
    "        self.B = self.y0**(3/2.) # constante de l'équation\n",
    "        \n",
    "        self.tf = (self.L**(3/2.) - self.y0**(3/2.))/self.A # s, durée de la propulsion\n",
    "        \n",
    "        self.section = np.pi/4.*self.D**2 # m2, section/aire de la bouteille\n",
    "        self.volume = self.section * self.L  # m3, volume de la bouteille\n",
    "\n",
    "        \n",
    "    def y_t(self, t):\n",
    "        ''' Position de la surface de l'eau en fonction du temps (s).\n",
    "        '''\n",
    "        return (self.B + self.A*t)**(2/3.)\n",
    "    \n",
    "    def ydot_t(self, t):\n",
    "        ''' Vitesse de la surface de l'eau en fonction du temps (m/s).\n",
    "        '''\n",
    "        return 2/3.*self.A*(self.B + self.A*t)**(-1/3.)\n",
    "    \n",
    "    def Fp_t(self, t):\n",
    "        ''' Force de poussée aérodynamique (N) en fonction du temps (s).\n",
    "        '''\n",
    "        return self.ydot_t(t)**2 * self.eta**2 *self.rho*self.d**2 *np.pi/4.\n",
    "\n",
    "    def masse_y( self, y ):\n",
    "        ''' Masse de la fusée en fonction de la position de la surface de l'eau.\n",
    "        '''\n",
    "        y_eau = self.L - y\n",
    "        return self.rho * self.section * y_eau  +  self.mVide\n",
    "    \n",
    "    def masse_t( self, t):\n",
    "        ''' Masse de la fusée en fonction du temps.\n",
    "        '''\n",
    "        y = self.y_t( t )\n",
    "        return self.masse_y( y )\n",
    "    \n",
    "    def mdot_t( self, t ):\n",
    "        ''' Dérivée de la masse de la fusée en fonction du temps.\n",
    "        '''\n",
    "        ydot = self.ydot_t( t )\n",
    "        return - self.rho * self.section * ydot\n",
    "    \n",
    "    def Fp0(self):\n",
    "        ''' Force de pousée à t=0 (N)\n",
    "        ''' \n",
    "        return self.eta**2/(self.eta**4-1)*self.P_0*self.d**2*np.pi/2.\n",
    "    \n",
    "    def Ftrainee_v(self, v):\n",
    "        ''' Force de trainée aérodynamique\n",
    "            v est la vitesse de la fusée\n",
    "        '''\n",
    "        rhoAir = 1.204 # kg/m3, masse volumique de l'air \n",
    "        return .5*rhoAir*self.Cx * self.section* v**2"
   ]
  },
  {
   "cell_type": "code",
   "execution_count": 182,
   "metadata": {
    "collapsed": false,
    "deletable": true,
    "editable": true
   },
   "outputs": [
    {
     "data": {
      "image/png": "[encoded data removed]",
      "text/plain": [
       "<matplotlib.figure.Figure at 0x7f11077bc2e8>"
      ]
     },
     "metadata": {},
     "output_type": "display_data"
    }
   ],
   "source": [
    "rocket = WaterRocket( alpha = .8 )\n",
    "temps = np.linspace( 0, rocket.tf, 156 )\n",
    "\n",
    "plt.figure(figsize=(10, 4)); plt.title('alpha = %.2f'%rocket.alpha);\n",
    "plt.plot( temps, rocket.Fp_t( temps ), label=u'pousée' );\n",
    "plt.plot( temps, rocket.g*rocket.masse_t(temps) ,label='-poids' );\n",
    "plt.xlabel('temps (s)'); plt.ylabel(u'Forces (N)');\n",
    "plt.ylim([0, 1.1*rocket.Fp0()]);\n",
    "plt.xlim([0, temps[-1]]);\n",
    "plt.legend();"
   ]
  },
  {
   "cell_type": "markdown",
   "metadata": {},
   "source": [
    "# Résolution numérique de la trajectoire\n",
    "\n",
    "la résolution numérique est décomposée en deux périodes:\n",
    "- au début, la force de la poussée est présente.\n",
    "- après $t=t_f$, la bouteille est vide. Elle continue de monter sur son élan (intertie)."
   ]
  },
  {
   "cell_type": "code",
   "execution_count": 75,
   "metadata": {
    "collapsed": false,
    "deletable": true,
    "editable": true
   },
   "outputs": [],
   "source": [
    "from scipy.integrate import odeint"
   ]
  },
  {
   "cell_type": "code",
   "execution_count": 81,
   "metadata": {
    "collapsed": true,
    "deletable": true,
    "editable": true
   },
   "outputs": [],
   "source": [
    "def dYdt_poussee(Y, t, rocket):\n",
    "    ''' Equation pour la période de poussée.\n",
    "        Retourne la dérivée de la fonction Y = [ z, v ]\n",
    "        `t` en le temps\n",
    "        et `rocket` l'instance de d'une fusée\n",
    "    '''\n",
    "    z, v = Y[0], Y[1]\n",
    "    \n",
    "    dzdt = v\n",
    "    dvdt = ( rocket.Fp_t(t) -v*rocket.mdot_t(t) )/rocket.masse_t(t)  - rocket.g\n",
    "    \n",
    "    return [ dzdt, dvdt ]\n",
    "\n",
    "\n",
    "def dYdt_balistique(Y, t, rocket):\n",
    "    ''' Equation pour la période de vol 'balistique'.\n",
    "        Retourne la dérivée de la fonction Y = [ z, v ]\n",
    "        `t` en le temps\n",
    "        et `rocket` l'instance de d'une fusée\n",
    "    '''\n",
    "    z, v = Y[0], Y[1]\n",
    "    \n",
    "    dzdt = v\n",
    "    dvdt = - rocket.g - rocket.Ftrainee_v(v)/rocket.mVide\n",
    "    \n",
    "    return [ dzdt, dvdt ]"
   ]
  },
  {
   "cell_type": "code",
   "execution_count": 192,
   "metadata": {
    "collapsed": true
   },
   "outputs": [],
   "source": [
    "def simulateur( rocket ):\n",
    "    ''' Simule le lancement de la fusée\n",
    "        retourne le temps, et Y = [position, vitesse]\n",
    "    '''\n",
    "    N_poussee = 29 # nombre de points\n",
    "    Y0 = [0, 0]  # altitude et vitesse initiale\n",
    "    \n",
    "    tempsPoussee = np.linspace( 0, rocket.tf, N_poussee ) # vecteur temps\n",
    "    # solve:\n",
    "    Ypoussee = odeint( dYdt_poussee, y0, tempsPoussee, args=(rocket,)  )\n",
    "    \n",
    "    # Calcul du temps de fin de la pédiode balistique:\n",
    "    z0, v0 = Ypoussee[-1, 0], Ypoussee[-1, 1]\n",
    "    z_max = v0**2/2./rocket.g + z0 # altitude maximal purement balistique (pas de frottement)\n",
    "    tf_balistique = 2*v0/rocket.g + rocket.tf\n",
    "    \n",
    "    N_balistique = 121 # nombre de points\n",
    "    tempsBalistique = np.linspace( rocket.tf, tf_balistique, N_balistique )\n",
    "    Y0 = Ypoussee[-1, :] # le dernier état devient l'état initial\n",
    "    Ybalistique = odeint( dYdt_balistique, Y0, tempsBalistique, args=(rocket,) )\n",
    "    \n",
    "    temps = np.concatenate((tempsPoussee, tempsBalistique[1:]), axis=0)\n",
    "    Y = np.concatenate((Ypoussee, Ybalistique[1:, :]), axis=0)\n",
    "    \n",
    "    return temps, Y"
   ]
  },
  {
   "cell_type": "code",
   "execution_count": 193,
   "metadata": {
    "collapsed": false
   },
   "outputs": [
    {
     "data": {
      "image/png": "[encoded data removed]",
      "text/plain": [
       "<matplotlib.figure.Figure at 0x7f110761a390>"
      ]
     },
     "metadata": {},
     "output_type": "display_data"
    }
   ],
   "source": [
    "rocketParams = {'P_0':4e5,\n",
    "                'alpha':.6,\n",
    "                'D':88e-3,\n",
    "                'd':26e-3,\n",
    "                'L':330e-3,\n",
    "                'mVide':.1,\n",
    "                'rho':1000,\n",
    "                'Cx':.3 }\n",
    "\n",
    "rocket = WaterRocket( **rocketParams )\n",
    "temps, Y = simulateur( rocket )\n",
    "\n",
    "plt.figure(figsize=(10, 4)); plt.title('alpha = %.2f'%rocket.alpha);\n",
    "plt.plot( temps, Y[:, 0], '-', label=u'altitude' );\n",
    "plt.xlabel('temps (s)'); plt.ylabel(u'altitude (m)');\n",
    "plt.xlim([0, temps[-1]]);\n",
    "plt.legend();"
   ]
  },
  {
   "cell_type": "markdown",
   "metadata": {},
   "source": [
    "## Optimisation pour atteindre l'altitude maximal"
   ]
  },
  {
   "cell_type": "code",
   "execution_count": 194,
   "metadata": {
    "collapsed": true
   },
   "outputs": [],
   "source": [
    "from scipy.optimize import fmin"
   ]
  },
  {
   "cell_type": "code",
   "execution_count": 148,
   "metadata": {
    "collapsed": true,
    "deletable": true,
    "editable": true
   },
   "outputs": [],
   "source": [
    "def altitudeMax( rocket ):\n",
    "    ''' Effectue la simulation de la fusée\n",
    "        et retourne l'altitude maximale atteinte\n",
    "    '''\n",
    "    temps, Y = simulateur( rocket )\n",
    "    return  np.max( Y[:, 0] )"
   ]
  },
  {
   "cell_type": "code",
   "execution_count": 149,
   "metadata": {
    "collapsed": false
   },
   "outputs": [
    {
     "data": {
      "text/plain": [
       "12.216213101264229"
      ]
     },
     "execution_count": 149,
     "metadata": {},
     "output_type": "execute_result"
    }
   ],
   "source": [
    "altitudeMax( rocket )"
   ]
  },
  {
   "cell_type": "markdown",
   "metadata": {},
   "source": [
    "## 1. taux de remplissage optimal"
   ]
  },
  {
   "cell_type": "code",
   "execution_count": 152,
   "metadata": {
    "collapsed": false,
    "deletable": true,
    "editable": true
   },
   "outputs": [
    {
     "name": "stdout",
     "output_type": "stream",
     "text": [
      "Optimization terminated successfully.\n",
      "         Current function value: -12.284923\n",
      "         Iterations: 13\n",
      "         Function evaluations: 26\n",
      "taux de remplissage optimal:  0.5746875\n"
     ]
    },
    {
     "data": {
      "image/png": "[encoded data removed]",
      "text/plain": [
       "<matplotlib.figure.Figure at 0x7f1141cfe588>"
      ]
     },
     "metadata": {},
     "output_type": "display_data"
    }
   ],
   "source": [
    "rocketparams = {'P_0':4e5,\n",
    "                'D':88e-3,\n",
    "                'd':26e-3,\n",
    "                'L':330e-3,\n",
    "                'mVide':.1,\n",
    "                'rho':1000,\n",
    "                'Cx':.3 }\n",
    "            \n",
    "alpha_range = np.linspace(.05, .9, 20)\n",
    "altitude = [ altitudeMax( WaterRocket( **rocketparams, alpha=a ) ) for a in  alpha_range ]\n",
    "    \n",
    "alphaMax = fmin(lambda a:-altitudeMax( WaterRocket( **rocketparams, alpha=a ) ) , .4)\n",
    "                    \n",
    "plt.plot( alpha_range, altitude, 'r' );\n",
    "plt.plot( alphaMax, altitudeMax( WaterRocket( **rocketparams, alpha=alphaMax[0] ) ), 'or' );\n",
    "print('taux de remplissage optimal: ', alphaMax[0])\n",
    "plt.xlabel('taux de remplissage en eau (alpha)');\n",
    "plt.ylabel('Altitude atteinte (m)'); plt.xlim([0, 1]);"
   ]
  },
  {
   "cell_type": "markdown",
   "metadata": {
    "deletable": true,
    "editable": true
   },
   "source": [
    "### 2. Diamètre du goulot optimal\n",
    "_Remarque:_  Quand $\\eta \\to 1$, le système diverge... on peut imaginer une fusée sans eau, équivalent à un boulet dans un fût de canon... On sort de l'hypothèse stationnaire du théorème de Bernouilli... il faut prendre en compte l'accélération de l'eau dans la bouteille...\n",
    "\n",
    "Quand $\\eta \\to 0$, il manque la viscosité de l'eau... et Reynolds?"
   ]
  },
  {
   "cell_type": "code",
   "execution_count": 173,
   "metadata": {
    "collapsed": false
   },
   "outputs": [
    {
     "name": "stderr",
     "output_type": "stream",
     "text": [
      "/home/etienne/Projets/xdze2.github.io-src/py3/lib/python3.5/site-packages/scipy/integrate/odepack.py:218: ODEintWarning: Excess work done on this call (perhaps wrong Dfun type). Run with full_output = 1 to get quantitative information.\n",
      "  warnings.warn(warning_msg, ODEintWarning)\n"
     ]
    },
    {
     "data": {
      "image/png": "[encoded data removed]",
      "text/plain": [
       "<matplotlib.figure.Figure at 0x7f11075afa90>"
      ]
     },
     "metadata": {},
     "output_type": "display_data"
    }
   ],
   "source": [
    "rocketparams = {'P_0':4e5,\n",
    "                'alpha':.6,\n",
    "                'D':88e-3,\n",
    "                'L':330e-3,\n",
    "                'rho':1000,\n",
    "                'mVide': .1,\n",
    "                'Cx':.3 }\n",
    "            \n",
    "dia_range = np.linspace(8e-3, 40e-3, 20)\n",
    "altitude = [ altitudeMax( WaterRocket( **rocketparams, d=a ) ) for a in  dia_range ]\n",
    "                     \n",
    "plt.plot( dia_range*1e2, altitude, 'r' );\n",
    "plt.xlabel(u'diamètre goulot (cm)');\n",
    "plt.ylabel('Altitude atteinte (m)');"
   ]
  },
  {
   "cell_type": "markdown",
   "metadata": {},
   "source": [
    "## 3. masse à vide"
   ]
  },
  {
   "cell_type": "code",
   "execution_count": 183,
   "metadata": {
    "collapsed": false,
    "deletable": true,
    "editable": true
   },
   "outputs": [
    {
     "data": {
      "image/png": "[encoded data removed]",
      "text/plain": [
       "<matplotlib.figure.Figure at 0x7f1107457c88>"
      ]
     },
     "metadata": {},
     "output_type": "display_data"
    }
   ],
   "source": [
    "rocketparams = {'P_0':4e5,\n",
    "                'alpha':.5,\n",
    "                'D':88e-3,\n",
    "                'd':26e-3,\n",
    "                'L':330e-3,\n",
    "                'rho':1000,\n",
    "                'Cx':.3 }\n",
    "            \n",
    "mVide_range = np.linspace(.08, .5, 20)\n",
    "altitude = [ altitudeMax( WaterRocket( **rocketparams, mVide=a ) ) for a in  mVide_range ]\n",
    "                     \n",
    "plt.plot( mVide_range*1e3, altitude, 'r' );\n",
    "plt.xlabel('masse à vide (gramme)');\n",
    "plt.ylabel('Altitude atteinte (m)');"
   ]
  },
  {
   "cell_type": "markdown",
   "metadata": {},
   "source": [
    "## 4. masse volumique du fluide 'propulsant'"
   ]
  },
  {
   "cell_type": "code",
   "execution_count": 185,
   "metadata": {
    "collapsed": false,
    "deletable": true,
    "editable": true
   },
   "outputs": [
    {
     "data": {
      "image/png": "[encoded data removed]",
      "text/plain": [
       "<matplotlib.figure.Figure at 0x7f110f8b97f0>"
      ]
     },
     "metadata": {},
     "output_type": "display_data"
    }
   ],
   "source": [
    "rocketparams = {'P_0':4e5,\n",
    "                'alpha':.6,\n",
    "                'D':88e-3,\n",
    "                'd':26e-3,\n",
    "                'L':330e-3,\n",
    "                'mVide':.1,\n",
    "                'Cx':.3 }\n",
    "            \n",
    "rhoFluide_range =  np.linspace(500, 3000, 20)\n",
    "altitude = [ altitudeMax( WaterRocket( **rocketparams, rho=a ) ) for a in  rhoFluide_range ]\n",
    "                     \n",
    "plt.plot( rhoFluide_range, altitude, 'r' );\n",
    "plt.xlabel('masse volumique fluide (kg/m3)');\n",
    "plt.ylabel('Altitude atteinte (m)');"
   ]
  },
  {
   "cell_type": "code",
   "execution_count": null,
   "metadata": {
    "collapsed": true
   },
   "outputs": [],
   "source": []
  }
 ],
 "metadata": {
  "kernelspec": {
   "display_name": "Python 2",
   "language": "python",
   "name": "python2"
  },
  "language_info": {
   "codemirror_mode": {
    "name": "ipython",
    "version": 3
   },
   "file_extension": ".py",
   "mimetype": "text/x-python",
   "name": "python",
   "nbconvert_exporter": "python",
   "pygments_lexer": "ipython3",
   "version": "3.5.2"
  }
 },
 "nbformat": 4,
 "nbformat_minor": 2
}
