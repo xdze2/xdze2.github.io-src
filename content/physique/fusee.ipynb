{
 "cells": [
  {
   "cell_type": "code",
   "execution_count": 23,
   "metadata": {
    "collapsed": true,
    "deletable": true,
    "editable": true
   },
   "outputs": [],
   "source": [
    "import numpy as np\n",
    "import matplotlib.pyplot as plt\n",
    "%matplotlib inline"
   ]
  },
  {
   "cell_type": "markdown",
   "metadata": {
    "deletable": true,
    "editable": true
   },
   "source": [
    "# Fusée à eau\n",
    "\n",
    "voir\n",
    "http://www.aircommandrockets.com/\n",
    "\n",
    "and \n",
    "\n",
    "http://www.et.byu.edu/~wheeler/benchtop/pix/thrust_eqns.pdf"
   ]
  },
  {
   "cell_type": "markdown",
   "metadata": {
    "deletable": true,
    "editable": true
   },
   "source": [
    "## Ordre de grandeur\n",
    "\n",
    "Energie pompée VS energie potentielle de gravitation ?"
   ]
  },
  {
   "cell_type": "markdown",
   "metadata": {
    "deletable": true,
    "editable": true
   },
   "source": [
    "### Energie pompée ?\n",
    "\n",
    "on part d'une chambre d'un piston, remplie avec un gaz parfait à la pression $P_0$ et de volume $V_0$.\n",
    "\n",
    "On a d'après la loi des gaz parfait : $P.V = P_0.V_0 = Constante$\n",
    "\n",
    "Le travail exercé par la pression est $W = \\int \\! dW$\n",
    "\n",
    "avec\n",
    "$$\n",
    "d W = P.dV = -V.dP\n",
    "$$\n",
    "\n",
    "donc \n",
    "\n",
    "$$\n",
    "W = - P_0.V_0 \\int_{P_0}^{P_{atm}} \\frac{dP}{P} = P_0.V_0 \\ln \\left[  \\frac{P_0}{P_{atm}} \\right ]\n",
    "$$\n",
    "\n",
    "### Altitude maximale atteignable\n",
    "L'énergie potentielle au point le plus haut de la trajectoire est  $E_p = mgz_{max}$. A ce point l'énergie cinétique de la fusée est nulle.\n",
    "\n",
    "Ainsi l'altitude maximale possiblement atteignable est:\n",
    "$$\n",
    "z_{max} = \\frac{P_0.V_0}{mg} \\ln \\left[  \\frac{P_0}{P_{atm}} \\right ]\n",
    "$$"
   ]
  },
  {
   "cell_type": "code",
   "execution_count": 426,
   "metadata": {
    "collapsed": false,
    "deletable": true,
    "editable": true
   },
   "outputs": [
    {
     "name": "stdout",
     "output_type": "stream",
     "text": [
      "altitude max. : 56.525764  en mètre \n"
     ]
    }
   ],
   "source": [
    "g = 9.81  # m.s-2\n",
    "Patm = 1e5  # Pa\n",
    "\n",
    "P0 = 4*Patm\n",
    "V0 = 1e-3 # m3\n",
    "m = 1 # kg\n",
    "\n",
    "z_max = P0*V0/m/g*np.log( P0/Patm )\n",
    "\n",
    "print( 'altitude max. : %f  en mètre '%z_max )"
   ]
  },
  {
   "cell_type": "markdown",
   "metadata": {
    "deletable": true,
    "editable": true
   },
   "source": [
    "Ici n'est pas pris en compte la perte de masse de la fusée du fait de l'expulsion de l'eau et les frottements de l'air sur l'extérieure de la fusée.\n",
    "\n",
    "Le volume d'air semble devoir être le plus grand possible, comme la masse la plus faible possible, c'est à dire une bouteille sans eau... ceci n'est pas réaliste. La poussée induite par l'expulsion de l'eau doit être considérée."
   ]
  },
  {
   "cell_type": "markdown",
   "metadata": {
    "deletable": true,
    "editable": true
   },
   "source": [
    "## Expulsion de l'eau\n",
    "\n",
    "Un bouteille de diamètre $D$, ayant un goulot de diamètre $d$. Elle est initialement remplie jusqu'à la hauteur $y_0$ d'eau. L'axe des $y$ est vers le bas, avec l'origine au fond de la bouteille.\n",
    "\n",
    "Le volume initial d'air est donc $\\pi /4 \\, D^2 $.\n",
    "\n",
    "$\\dot y$ est la vitesse de déplacement de la surface de l'eau dans la bouteille, et $u$ est la vitesse de l'eau quand elle sort de la bouteille. $P$ est la pression de l'air dans la bouteille. \n",
    "\n",
    "La **conservation du débit** donne la relation:$$ \\dot y \\, D² = u\\, d^2 $$\n",
    "\n",
    "La **loi des gaz parfait** permet d'écrire:  $$ y \\, P = Constante = y_0 \\, P_0 $$\n",
    "\n",
    "_Rq: adiabatique vs isotherme... ?_\n",
    "\n",
    "Et enfin, on obtient avec le **théorème de Bernouilli**, la relation suivante:\n",
    "$$\n",
    "\\dot y ^2 + \\frac{2P}{\\rho} = u^2\n",
    "$$\n",
    "\n",
    "_non visqueux, stationnaire?, incompressible, laminaire_"
   ]
  },
  {
   "cell_type": "markdown",
   "metadata": {
    "deletable": true,
    "editable": true
   },
   "source": [
    "$$\n",
    "\\dot y ^2 + \\frac{2P}{\\rho} = \\dot y^2 \\frac{D^4}{d^4}\n",
    "$$\n",
    "\n",
    "$$\n",
    "\\dot y ^2 \\left( \\frac{D^4}{d^4} -1 \\right) = \\frac{2P}{\\rho}\n",
    "$$\n",
    "\n",
    "Dans la suite, on notera $\\eta$ le rapport des diamètres (D/d) et $\\tilde P$ la pression normée par la densité de l'eau $\\rho$.\n",
    "\n",
    "$$\n",
    "\\dot y ^2 \\left( \\eta^4 -1 \\right) = 2 \\tilde P\n",
    "$$\n",
    "\n",
    "avec la loi des gaz parfait:\n",
    "$$\n",
    "\\dot y ^2 \\left( \\eta^4 -1 \\right) = \\frac{2\\, y_0\\, \\tilde P_0}{y}\n",
    "$$\n",
    "\n",
    "L'équation différentielle finale est donc:\n",
    "$$\n",
    "\\dot y ^2 \\, y = \\frac{2\\, y_0\\, \\tilde P_0}{ \\eta^4 -1 }\n",
    "$$\n",
    "\n",
    "la solution est de la forme: ([merci Wolfram](http://www.wolframalpha.com/input/?i=f*df%2Fdt%5E2+%3D+a))\n",
    "\n",
    "$$\n",
    "y(t) = \\left(\\frac{3}{2}\\right)^{2/3} \\left( c_1 \\pm t\\sqrt a  \\right)^{2/3}\n",
    "$$\n",
    "que l'on peut reécrire plus simplement:\n",
    "$$\n",
    "y(t) = \\left( B + A\\,t  \\right)^{2/3}\n",
    "$$\n",
    "\n",
    "avec \n",
    "$$\n",
    "A = \\frac{3}{2} \\sqrt{   \\frac{2\\, y_0\\, \\tilde P_0}{ \\eta^4 -1 } }\n",
    "$$ et $$ B=y_0^{3/2} $$\n",
    "\n",
    "_Remarque:_ Le signe est positif parce que $y$ augmente avec le temps. Quand $y$ devient supérieure à la longueur de la bouteille, le système n'est plus valide et la pousée s'arrete.  "
   ]
  },
  {
   "cell_type": "markdown",
   "metadata": {
    "deletable": true,
    "editable": true
   },
   "source": [
    "finalement\n",
    "$$\n",
    "\\dot y (t) = 2/3 \\,A \\left( B+A\\,t \\right )^{-1/3}\n",
    "$$"
   ]
  },
  {
   "cell_type": "markdown",
   "metadata": {
    "deletable": true,
    "editable": true
   },
   "source": [
    "#### temps finale de la poussée (c.a.d. plus d'eau)\n",
    "$$\n",
    "t_f = \\frac{L^{3/2} -  y_0^{3/2}}{A}$$"
   ]
  },
  {
   "cell_type": "markdown",
   "metadata": {
    "deletable": true,
    "editable": true
   },
   "source": [
    "## Poussée aérodynamique"
   ]
  },
  {
   "cell_type": "markdown",
   "metadata": {
    "deletable": true,
    "editable": true
   },
   "source": [
    "La force de poussée est  (voir [wikipedia](https://fr.wikipedia.org/wiki/Pouss%C3%A9e_(a%C3%A9rodynamique)), avec $q$ le débit massique d'eau ejectée (kg/s): \n",
    "\n",
    "$$\n",
    "F_P(t) = u \\cdot q\n",
    "$$\n",
    "\n",
    "$$\n",
    "F_P(t) = u^2 \\cdot \\rho \\, d^2 \\,  \\pi/4\n",
    "$$\n",
    "\n",
    "$$\n",
    "F_P(t) = \\dot y^2 \\cdot \\eta^2 \\, \\rho \\, d^2 \\,  \\pi/4\n",
    "$$\n",
    "\n",
    "$$\n",
    "F_P(t) = \\dot y^2 \\cdot \\rho \\, D^2 \\,  \\pi/4\n",
    "$$\n",
    "\n",
    "La pousée initiale est :\n",
    "$$\n",
    "F_P(t=0) = \\frac{4}{9} \\frac{A^2}{y_0}  \\cdot \\eta^2 \\, \\rho \\, d^2 \\,  \\pi/4\n",
    "$$\n",
    "\n",
    "$$\n",
    "F_P(t=0)  =   \\frac{1}{ \\eta^4 -1 }  P_0 \\, D^2 \\,  \\pi/2\n",
    "$$"
   ]
  },
  {
   "cell_type": "code",
   "execution_count": 164,
   "metadata": {
    "collapsed": true
   },
   "outputs": [],
   "source": [
    "        # http://percolat.free.fr/0304dimensions.htm\n",
    "        # http://percolat.free.fr/documentation/silhouettes/echel1_COCACOLA.GIF"
   ]
  },
  {
   "cell_type": "code",
   "execution_count": 385,
   "metadata": {
    "collapsed": false,
    "deletable": true,
    "editable": true
   },
   "outputs": [],
   "source": [
    "class Rocket():\n",
    "    # Constantes \n",
    "    g = 9.81  # m.s-2\n",
    "    Patm = 1e5  # Pa\n",
    "    rho = 1000 # kg/m3\n",
    "    \n",
    "    def __init__(self, P_0=4*Patm, D=88e-3, d=26e-3, L=330e-3, mVide = .1, alpha=.5 ):\n",
    "        \n",
    "        # Parametres\n",
    "        self.P_0 = P_0 # Pa\n",
    "        self.D = D # m\n",
    "        self.d = d # m\n",
    "        self.L = L # m, longueur de la bouteille\n",
    "        self.mVide = mVide # kg\n",
    "        self.alpha = alpha  # proportion volume eau/totale\n",
    "\n",
    "        \n",
    "        # Variables de calcul\n",
    "        self.y0 = self.L*(1-self.alpha)  # m - hauteur d'air\n",
    "\n",
    "        self.eta = self.D/self.d\n",
    "\n",
    "        self.A = 3/2*np.sqrt( 2*self.y0*self.P_0/rho/( self.eta**4 - 1 )  )\n",
    "        self.B = self.y0**(3/2)\n",
    "        \n",
    "        self.tf = (self.L**(3/2) - self.y0**(3/2))/self.A # s, durée de propulsion\n",
    "        \n",
    "        self.volume = np.pi/4*self.D**2*self.L*1e3\n",
    "    \n",
    "    def y_t(self, t):\n",
    "        return (self.B + self.A*t)**(2/3)\n",
    "    \n",
    "    def ydot_t(self, t):\n",
    "        return 2/3*self.A*(self.B + self.A*t)**(-1/3)\n",
    "    \n",
    "    def Fp_t(self, t):\n",
    "        # Pousse aerodynamique, N\n",
    "        return self.ydot_t(t)**2 * self.eta**2 *rho*self.d**2 *np.pi/4\n",
    "\n",
    "    def masse_y( self, y ):\n",
    "        y_eau = self.L - y\n",
    "        M = np.pi/4*self.D**2*rho*y_eau + self.mVide\n",
    "        return M\n",
    "    \n",
    "    def masse_t( self, t):\n",
    "        y = self.y_t( t )\n",
    "        return self.masse_y( y )\n",
    "    \n",
    "    def mdot_t( self, t ):\n",
    "        ydot = self.ydot_t( t )\n",
    "        Mdot = -np.pi/4*self.D**2*rho*ydot\n",
    "        return Mdot\n",
    "    \n",
    "    def Fp0(self):\n",
    "        # Pousée à t=0 (N)\n",
    "        return self.eta**2/(self.eta**4-1)*self.P_0*self.d**2*np.pi/2"
   ]
  },
  {
   "cell_type": "code",
   "execution_count": 422,
   "metadata": {
    "collapsed": false,
    "deletable": true,
    "editable": true
   },
   "outputs": [
    {
     "data": {
      "image/png": "[encoded data removed]",
      "text/plain": [
       "<matplotlib.figure.Figure at 0x7fb36ffba4a8>"
      ]
     },
     "metadata": {},
     "output_type": "display_data"
    },
    {
     "data": {
      "image/png": "[encoded data removed]",
      "text/plain": [
       "<matplotlib.figure.Figure at 0x7fb375aab208>"
      ]
     },
     "metadata": {},
     "output_type": "display_data"
    }
   ],
   "source": [
    "F = Rocket( alpha = .87 )\n",
    "\n",
    "t = np.logspace( -3, 1, 100 )\n",
    "\n",
    "plt.figure(figsize=(10, 4)); plt.title('alpha = %.2f'%F.alpha);\n",
    "plt.semilogx( t, F.Fp_t( t ), label='pousée' );\n",
    "plt.semilogx( t, F.g*F.masse_t(t) ,label='poids' );\n",
    "plt.xlabel('temps (s)'); plt.ylabel('Pousée (N)'); plt.ylim([0, F.Fp0()]);\n",
    "plt.legend();\n",
    "\n",
    "F = Rocket( alpha = .1 )\n",
    "\n",
    "plt.figure(figsize=(10, 4)); plt.title('alpha = %.2f'%F.alpha);\n",
    "plt.semilogx( t, F.Fp_t( t ), label='pousée' );\n",
    "plt.semilogx( t, F.g*F.masse_t(t) ,label='poids' );\n",
    "plt.xlabel('temps (s)'); plt.ylabel('Pousée (N)'); plt.ylim([0, F.Fp0()]);\n",
    "plt.legend();"
   ]
  },
  {
   "cell_type": "code",
   "execution_count": 377,
   "metadata": {
    "collapsed": false,
    "deletable": true,
    "editable": true
   },
   "outputs": [
    {
     "data": {
      "text/plain": [
       "37.3619876206007"
      ]
     },
     "execution_count": 377,
     "metadata": {},
     "output_type": "execute_result"
    }
   ],
   "source": [
    "F.Fp0()"
   ]
  },
  {
   "cell_type": "markdown",
   "metadata": {
    "deletable": true,
    "editable": true
   },
   "source": [
    "On peut à partir de ce modèle determiner le taux de remplissage en eau ($\\alpha$) optimal pour atteindre l'altitude maximale."
   ]
  },
  {
   "cell_type": "markdown",
   "metadata": {
    "deletable": true,
    "editable": true
   },
   "source": [
    "## Trainée aérodynamique"
   ]
  },
  {
   "cell_type": "code",
   "execution_count": 378,
   "metadata": {
    "collapsed": true,
    "deletable": true,
    "editable": true
   },
   "outputs": [],
   "source": [
    "Cx = .4"
   ]
  },
  {
   "cell_type": "markdown",
   "metadata": {
    "deletable": true,
    "editable": true
   },
   "source": [
    "[wikipedia](https://fr.wikipedia.org/wiki/Tra%C3%AEn%C3%A9e)\n",
    "\n",
    "$$\n",
    "F_v = - \\frac{\\rho_{air}\\,S\\, C_x}{2} v^2\n",
    "$$"
   ]
  },
  {
   "cell_type": "code",
   "execution_count": 379,
   "metadata": {
    "collapsed": true,
    "deletable": true,
    "editable": true
   },
   "outputs": [],
   "source": [
    "# to do"
   ]
  },
  {
   "cell_type": "markdown",
   "metadata": {
    "deletable": true,
    "editable": true
   },
   "source": [
    "## Calcul de la trajectoire\n",
    "\n",
    "$$\n",
    "\\frac{d\\, mv}{dt} = Poids(t) - F_v( v ) + Fp(t)\n",
    "$$\n",
    "\n",
    "\n",
    "$$\n",
    "m(t)\\frac{d\\, v}{dt} = Poids(t) - F_v( v ) - v\\,\\dot m\n",
    "$$"
   ]
  },
  {
   "cell_type": "markdown",
   "metadata": {
    "deletable": true,
    "editable": true
   },
   "source": [
    "integration numérique jusqu'à $t_f$, puis une autre si trainé"
   ]
  },
  {
   "cell_type": "code",
   "execution_count": 380,
   "metadata": {
    "collapsed": true,
    "deletable": true,
    "editable": true
   },
   "outputs": [],
   "source": [
    "from scipy.integrate import odeint"
   ]
  },
  {
   "cell_type": "code",
   "execution_count": 381,
   "metadata": {
    "collapsed": true,
    "deletable": true,
    "editable": true
   },
   "outputs": [],
   "source": [
    "def dYdt(y, t, F):\n",
    "    z, v = y[0], y[1]\n",
    "    \n",
    "    dzdt = v\n",
    "    dvdt = (F.Fp_t(t) -v*F.mdot_t(t) )/F.masse_t(t)  - F.g\n",
    "    \n",
    "    return [ dzdt, dvdt ]\n",
    "\n",
    "def dYdt_balistique(y, t, F):\n",
    "    m = F.mVide\n",
    "    \n",
    "    z, v = y[0], y[1]\n",
    "    \n",
    "    dzdt = v\n",
    "    dvdt = - F.g\n",
    "    \n",
    "    return [ dzdt, dvdt ]"
   ]
  },
  {
   "cell_type": "code",
   "execution_count": 472,
   "metadata": {
    "collapsed": true
   },
   "outputs": [],
   "source": [
    "F = Rocket(alpha = .6, P_0=5e5)\n",
    "\n",
    "t_span = np.linspace( 0, F.tf, 30 )\n",
    "#t_span = [0, F.tf]\n",
    "\n",
    "y0 = [0, 0]\n",
    "sol = odeint( dYdt, y0, t_span, args=(F,)  )"
   ]
  },
  {
   "cell_type": "code",
   "execution_count": 473,
   "metadata": {
    "collapsed": false,
    "deletable": true,
    "editable": true
   },
   "outputs": [
    {
     "name": "stdout",
     "output_type": "stream",
     "text": [
      "20.3007012366\n",
      "4.13104700424\n"
     ]
    }
   ],
   "source": [
    "z0, v0 = sol[-1, 0], sol[-1, 1]\n",
    "z_max = v0**2/2/F.g + z0 \n",
    "tf_balistique = 2*v0/F.g + F.tf\n",
    "\n",
    "print( z_max )\n",
    "print( tf_balistique )\n",
    "\n",
    "t_spanb = np.linspace( F.tf, tf_balistique, 30 )\n",
    "y0b = sol[-1, :]\n",
    "sol_balistique = odeint( dYdt_balistique, y0b, t_spanb, args=(F,)  )"
   ]
  },
  {
   "cell_type": "code",
   "execution_count": 475,
   "metadata": {
    "collapsed": false,
    "deletable": true,
    "editable": true
   },
   "outputs": [
    {
     "data": {
      "image/png": "[encoded data removed]",
      "text/plain": [
       "<matplotlib.figure.Figure at 0x7fb36ff72278>"
      ]
     },
     "metadata": {},
     "output_type": "display_data"
    }
   ],
   "source": [
    "plt.plot( t_span , sol[:, 0] );\n",
    "plt.plot( t_spanb , sol_balistique[:, 0] );"
   ]
  },
  {
   "cell_type": "code",
   "execution_count": 466,
   "metadata": {
    "collapsed": false
   },
   "outputs": [
    {
     "name": "stdout",
     "output_type": "stream",
     "text": [
      "2.007100714525447\n",
      "46.702484525750876\n"
     ]
    }
   ],
   "source": [
    "print( F.volume )\n",
    "print( F.Fp0() )"
   ]
  },
  {
   "cell_type": "markdown",
   "metadata": {},
   "source": [
    "_Remarque:_  Quand $\\eta \\to 1$, le système diverge... on peut imaginer une fusée sans eau, équivalent à un boulet dans un fût de canon... On sort de l'hypothèse stationnaire du théorème de Bernouilli... il faut prendre en compte l'accélération de l'eau dans la bouteille..."
   ]
  },
  {
   "cell_type": "code",
   "execution_count": 467,
   "metadata": {
    "collapsed": true
   },
   "outputs": [],
   "source": [
    "def computeMax( rocket ):\n",
    "    \n",
    "    F = rocket\n",
    "\n",
    "    t_span = [0, F.tf]\n",
    "\n",
    "    y0 = [0, 0]\n",
    "    sol = odeint( dYdt, y0, t_span, args=(F,)  )\n",
    " \n",
    "    z0, v0 = sol[-1, 0], sol[-1, 1]\n",
    "    z_max = v0**2/2/F.g + z0 \n",
    "    tf_balistique = 2*v0/F.g + F.tf\n",
    "\n",
    "    return  z_max "
   ]
  },
  {
   "cell_type": "code",
   "execution_count": 478,
   "metadata": {
    "collapsed": false
   },
   "outputs": [
    {
     "data": {
      "image/png": "[encoded data removed]",
      "text/plain": [
       "<matplotlib.figure.Figure at 0x7fb375c19a20>"
      ]
     },
     "metadata": {},
     "output_type": "display_data"
    }
   ],
   "source": [
    "alphas = np.linspace(.05, .9, 20)\n",
    "zMax = []\n",
    "\n",
    "for a in alphas:\n",
    "    zMax.append( computeMax( Rocket( alpha=a ) ) )\n",
    "    \n",
    "plt.plot( alphas, zMax );\n",
    "plt.xlabel('taux de remplissage eau (alpha)');\n",
    "plt.ylabel('Altitude atteinte (m)');"
   ]
  },
  {
   "cell_type": "code",
   "execution_count": null,
   "metadata": {
    "collapsed": true
   },
   "outputs": [],
   "source": []
  },
  {
   "cell_type": "code",
   "execution_count": null,
   "metadata": {
    "collapsed": true
   },
   "outputs": [],
   "source": []
  }
 ],
 "metadata": {
  "kernelspec": {
   "display_name": "Python 3",
   "language": "python",
   "name": "python3"
  },
  "language_info": {
   "codemirror_mode": {
    "name": "ipython",
    "version": 3
   },
   "file_extension": ".py",
   "mimetype": "text/x-python",
   "name": "python",
   "nbconvert_exporter": "python",
   "pygments_lexer": "ipython3",
   "version": "3.4.3"
  }
 },
 "nbformat": 4,
 "nbformat_minor": 2
}
