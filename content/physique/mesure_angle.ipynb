{
 "cells": [
  {
   "cell_type": "code",
   "execution_count": 4,
   "metadata": {
    "collapsed": true,
    "deletable": true,
    "editable": true
   },
   "outputs": [],
   "source": [
    "import numpy as np\n",
    "import matplotlib.pyplot as plt\n",
    "%matplotlib inline"
   ]
  },
  {
   "cell_type": "markdown",
   "metadata": {
    "deletable": true,
    "editable": true
   },
   "source": [
    "## Mesure d'un angle depuis la mesure des cotés du triangle\n",
    "\n",
    "      \n",
    "     \n",
    "On cherche l'angle $\\alpha = \\alpha_1 + \\alpha_2$ à partir de $a$, $b$ et de la diagonale $h$. \n",
    "\n",
    "<img src=\"physique/images/schema_trigo_mesureAngle.png\" alt=\"schéma\"></img>\n"
   ]
  },
  {
   "cell_type": "code",
   "execution_count": 10,
   "metadata": {
    "collapsed": false,
    "deletable": true,
    "editable": true
   },
   "outputs": [],
   "source": [
    "a = 4\n",
    "b = np.sqrt(2)*2\n",
    "h = b"
   ]
  },
  {
   "cell_type": "code",
   "execution_count": 11,
   "metadata": {
    "collapsed": true,
    "deletable": true,
    "editable": true
   },
   "outputs": [],
   "source": [
    "def getAngle( a, b, h ):\n",
    "    h1 = h/2 + ( a**2 - b**2  )/2/h\n",
    "    h2 = h/2 - ( a**2 - b**2  )/2/h\n",
    "\n",
    "    alpha1 = np.arcsin( h1/a )\n",
    "    alpha2 = np.arcsin( h2/b )\n",
    "\n",
    "    alpha = 180/np.pi * ( alpha1 + alpha2 ) # en deg.\n",
    "    \n",
    "    return alpha"
   ]
  },
  {
   "cell_type": "code",
   "execution_count": 12,
   "metadata": {
    "collapsed": false,
    "deletable": true,
    "editable": true
   },
   "outputs": [
    {
     "name": "stdout",
     "output_type": "stream",
     "text": [
      "45.0\n"
     ]
    }
   ],
   "source": [
    "alpha = getAngle( a, b, h )\n",
    "print( alpha )"
   ]
  },
  {
   "cell_type": "code",
   "execution_count": null,
   "metadata": {
    "collapsed": true
   },
   "outputs": [],
   "source": []
  }
 ],
 "metadata": {
  "kernelspec": {
   "display_name": "Python 3",
   "language": "python",
   "name": "python3"
  },
  "language_info": {
   "codemirror_mode": {
    "name": "ipython",
    "version": 3
   },
   "file_extension": ".py",
   "mimetype": "text/x-python",
   "name": "python",
   "nbconvert_exporter": "python",
   "pygments_lexer": "ipython3",
   "version": "3.5.2"
  }
 },
 "nbformat": 4,
 "nbformat_minor": 2
}
