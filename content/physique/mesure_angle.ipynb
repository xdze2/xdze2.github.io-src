{
 "cells": [
  {
   "cell_type": "code",
   "execution_count": 44,
   "metadata": {
    "collapsed": true
   },
   "outputs": [],
   "source": [
    "import numpy as np\n",
    "import matplotlib.pyplot as plt\n",
    "%matplotlib inline"
   ]
  },
  {
   "cell_type": "markdown",
   "metadata": {},
   "source": [
    "# Mesure d'un angle depuis la mesure des cotés du triangle\n",
    "\n",
    "<img src=\"physique/images/schema_trigo_mesureAngle.png\" alt=\"schéma\"></img>\n",
    "\n",
    "On cherche l'angle $\\alpha = \\alpha_1 + \\alpha_2$ à partir de $a$, $b$ et la diagonale $h$. Voir le calcul [ici](physique/images/calcul_trigo_mesureAngle.png)."
   ]
  },
  {
   "cell_type": "code",
   "execution_count": 45,
   "metadata": {
    "collapsed": true
   },
   "outputs": [],
   "source": [
    "a = 4\n",
    "b = np.sqrt(2)*2\n",
    "h = b"
   ]
  },
  {
   "cell_type": "code",
   "execution_count": 46,
   "metadata": {
    "collapsed": true
   },
   "outputs": [],
   "source": [
    "def getAngle( a, b, h ):\n",
    "    h1 = h/2 + ( a**2 - b**2  )/2/h\n",
    "    h2 = h/2 - ( a**2 - b**2  )/2/h\n",
    "\n",
    "    d = np.sqrt( ( a**2+b**2 - h1**2-h2**2 )/2 )\n",
    "\n",
    "    alpha1 = np.arctan( h1/d )\n",
    "    alpha2 = np.arctan( h2/d )\n",
    "\n",
    "    alpha = 180/np.pi * ( alpha1 + alpha2 ) # en deg.\n",
    "    \n",
    "    return alpha"
   ]
  },
  {
   "cell_type": "code",
   "execution_count": 47,
   "metadata": {
    "collapsed": false
   },
   "outputs": [
    {
     "name": "stdout",
     "output_type": "stream",
     "text": [
      "45.0\n"
     ]
    }
   ],
   "source": [
    "alpha = getAngle( a, b, h )\n",
    "print( alpha )"
   ]
  },
  {
   "cell_type": "code",
   "execution_count": null,
   "metadata": {
    "collapsed": true
   },
   "outputs": [],
   "source": []
  }
 ],
 "metadata": {
  "kernelspec": {
   "display_name": "Python 3",
   "language": "python",
   "name": "python3"
  },
  "language_info": {
   "codemirror_mode": {
    "name": "ipython",
    "version": 3
   },
   "file_extension": ".py",
   "mimetype": "text/x-python",
   "name": "python",
   "nbconvert_exporter": "python",
   "pygments_lexer": "ipython3",
   "version": "3.5.2"
  }
 },
 "nbformat": 4,
 "nbformat_minor": 2
}
