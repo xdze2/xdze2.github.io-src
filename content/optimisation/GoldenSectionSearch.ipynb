{
 "cells": [
  {
   "cell_type": "markdown",
   "metadata": {
    "deletable": true,
    "editable": true
   },
   "source": [
    "# Golden Section Search"
   ]
  },
  {
   "cell_type": "markdown",
   "metadata": {
    "deletable": true,
    "editable": true
   },
   "source": [
    "Algorithme de recherche de minimum à une dimension, par encadrement et réduction de l'intervalle de recherche. Cette méthode est en quelque sorte similaire à la méthode de dichotomie pour la recherche d'un zéro.\n",
    "\n",
    "L'hypothèse principale est que la fonction ne présente qu'un unique minimium dans l'intervalle de recherche.\n",
    "\n",
    "La fonction $f$ est évaluée en deux points millieu $m_1$ et $m_2$, découpant ainsi la zone de recherche en trois intervalles. Le minimum étant par hypothèse unique, il doit se trouver dans un des deux intervalles autour du point le plus bas évalué, c'est-à-dire soit autour de $m_1$, soit autour de $m_2$.\n",
    "\n",
    "Deux cas peuvent donc se produire: $f(m_1) > f(m_2)$ ou bien l'inverse. Dans chacun des cas, un nouvel intervalle $[a, b]$ est défini, et la fonction de recherche recommence.\n",
    "\n",
    "L'astuce de la méthode consiste à réutiliser un des anciens points millieu pour l'itération suivante, économisant ainsi une évaluation."
   ]
  },
  {
   "cell_type": "markdown",
   "metadata": {
    "deletable": true,
    "editable": true
   },
   "source": [
    "![schema reduction de l intervalle](optimisation/images/golden.png)"
   ]
  },
  {
   "cell_type": "markdown",
   "metadata": {
    "deletable": true,
    "editable": true
   },
   "source": [
    "Cette condition fixe la position optimal des points $m_1$ et $m_2$. On note le ratio $\\rho$ de la façon suivante :\n",
    "$$\n",
    "\\rho = \\frac{m_1-a}{b-a} = \\frac{b-m_2}{b-a}\n",
    "$$\n",
    "\n",
    "et on veut :\n",
    "$$\n",
    "\\rho = \\frac{m_2-m_1}{b-m_1} = \\frac{1- 2\\rho}{1 - \\rho}\n",
    "$$\n",
    "On obtient l'équation: $1 - 3\\rho + \\rho^2 = 0$, avec la condition $\\rho < 1$:\n",
    "\n",
    "$$\n",
    "\\rho = \\frac{3 - \\sqrt{5} }{2}\n",
    "$$\n",
    "\n",
    "Si on considère plutôt le ratio $(1-\\rho)/\\rho$, on trouve après quelques transformations le fameux nombre d'Or $\\varphi$:\n",
    "$$\n",
    "\\frac{b - m_1}{m_1 - a} = \\frac{1 - \\rho}{\\rho} = \\frac{2}{3 - \\sqrt{5} } - 1 \\\\\n",
    "= \\frac{3 + \\sqrt{5} }{2} - 1\n",
    "= \\frac{1 + \\sqrt{5} }{2} = \\varphi \\sim 1,61803\n",
    "$$"
   ]
  },
  {
   "cell_type": "markdown",
   "metadata": {
    "deletable": true,
    "editable": true
   },
   "source": [
    "## Références:\n",
    "* http://www.math.ucla.edu/~wotaoyin/math273a/slides/Lec3a_1d_search_273a_2015_f.pdf\n",
    "* https://www.rose-hulman.edu/~bryan/lottamath/onedopt.pdf\n",
    "* https://fr.wikipedia.org/wiki/M%C3%A9thode_du_nombre_d%27or"
   ]
  },
  {
   "cell_type": "markdown",
   "metadata": {
    "deletable": true,
    "editable": true
   },
   "source": [
    "## Code"
   ]
  },
  {
   "cell_type": "code",
   "execution_count": 36,
   "metadata": {
    "collapsed": false,
    "deletable": true,
    "editable": true
   },
   "outputs": [],
   "source": [
    "# <!-- collapse=True -->\n",
    "import numpy as np\n",
    "import matplotlib.pyplot as plt\n",
    "%matplotlib inline"
   ]
  },
  {
   "cell_type": "code",
   "execution_count": 33,
   "metadata": {
    "collapsed": false,
    "deletable": true,
    "editable": true
   },
   "outputs": [],
   "source": [
    "# En réutilisant un des points milieu:\n",
    "\n",
    "def goldenSearch( f, a, b ):\n",
    "    epsilon = .001*(b-a)\n",
    "    rho = (3 - np.sqrt(5))/2\n",
    "    \n",
    "    m1 = rho*(b-a) + a\n",
    "    m2 = b - rho*(b-a)\n",
    "    f1, f2 = f( m1 ), f( m2 )  \n",
    "    \n",
    "    while b-a > epsilon:\n",
    "        \n",
    "        if f1 < f2:\n",
    "            a, b = a, m2\n",
    "            m2, f2 = m1, f1\n",
    "            m1 = rho*(b-a) + a\n",
    "            f1 = f( m1 )\n",
    "        else:\n",
    "            a, b = m1, b\n",
    "            m1, f1 = m2, f2\n",
    "            m2 = b - rho*(b-a)\n",
    "            f2 = f( m2 )\n",
    "            \n",
    "        #print a, b\n",
    "\n",
    "    xZero = (a+b)/2.0 \n",
    "    return xZero"
   ]
  },
  {
   "cell_type": "markdown",
   "metadata": {
    "deletable": true,
    "editable": true
   },
   "source": [
    "### Tests"
   ]
  },
  {
   "cell_type": "code",
   "execution_count": 37,
   "metadata": {
    "collapsed": false,
    "deletable": true,
    "editable": true
   },
   "outputs": [
    {
     "data": {
      "image/png": "[encoded data removed]",
      "text/plain": [
       "<matplotlib.figure.Figure at 0x7f52eb112828>"
      ]
     },
     "metadata": {},
     "output_type": "display_data"
    }
   ],
   "source": [
    "# <!-- collapse=True -->\n",
    "f = lambda x: (x-.4)**2 \n",
    "xMin = goldenSearch( f, 0, 1 )   \n",
    "\n",
    "X = np.linspace( 0, 1, 51 )\n",
    "Y = f( X )\n",
    "\n",
    "plt.figure(figsize=(12, 4)  )\n",
    "plt.plot( X, Y,  'k-', alpha=0.7 )\n",
    "plt.plot( xMin, f( xMin ),  'ro', alpha=0.7 ); "
   ]
  },
  {
   "cell_type": "code",
   "execution_count": 38,
   "metadata": {
    "collapsed": false,
    "deletable": true,
    "editable": true
   },
   "outputs": [
    {
     "data": {
      "image/png": "[encoded data removed]",
      "text/plain": [
       "<matplotlib.figure.Figure at 0x7f52eb07da58>"
      ]
     },
     "metadata": {},
     "output_type": "display_data"
    }
   ],
   "source": [
    "# <!-- collapse=True -->\n",
    "f = lambda X: .2*np.sin(24*X) + 5*(2*X-0.8)**2\n",
    "xMin = goldenSearch( f, 0, 1 )   \n",
    "\n",
    "X = np.linspace( 0, 1, 51 )\n",
    "Y = f( X )\n",
    "\n",
    "plt.figure(figsize=(12, 4)  )\n",
    "plt.plot( X, Y,  'k-', alpha=0.7 )\n",
    "plt.plot( xMin, f( xMin ),  'ro', alpha=0.7 );"
   ]
  },
  {
   "cell_type": "markdown",
   "metadata": {
    "deletable": true,
    "editable": true
   },
   "source": [
    "Un cas qui ne marche pas:"
   ]
  },
  {
   "cell_type": "code",
   "execution_count": 44,
   "metadata": {
    "collapsed": false,
    "deletable": true,
    "editable": true
   },
   "outputs": [
    {
     "data": {
      "image/png": "[encoded data removed]",
      "text/plain": [
       "<matplotlib.figure.Figure at 0x7f52eb0ebcc0>"
      ]
     },
     "metadata": {},
     "output_type": "display_data"
    }
   ],
   "source": [
    "# <!-- collapse=True -->\n",
    "f = lambda X: .6*np.sin(24*X) + 4*(2*X-0.8)**2\n",
    "xMin = goldenSearch( f, 0, 1 )   \n",
    "\n",
    "X = np.linspace( 0, 1, 81 )\n",
    "Y = f( X )\n",
    "\n",
    "plt.figure(figsize=(12, 4)  )\n",
    "plt.plot( X, Y,  'k-', alpha=0.7 )\n",
    "plt.plot( xMin, f( xMin ),  'ro', alpha=0.7 );"
   ]
  },
  {
   "cell_type": "code",
   "execution_count": 1,
   "metadata": {
    "collapsed": false,
    "deletable": true,
    "editable": true
   },
   "outputs": [],
   "source": [
    "# Code en ne réutilisant pas un des points milieu:\n",
    "\n",
    "def goldenSearchSimple( f, a, b ):\n",
    "    epsilon = .001\n",
    "    rho = 0.3\n",
    "    \n",
    "    while b-a > epsilon:\n",
    "        m1 = rho*(b-a) + a\n",
    "        m2 = b - rho*(b-a)\n",
    "        f1, f2 = f( m1 ), f( m2 )  \n",
    "    \n",
    "        if f1 < f2:\n",
    "            a, b = a, m2\n",
    "        else:\n",
    "            a, b = m1, b\n",
    "            \n",
    "        #print a, b\n",
    "\n",
    "    xZero = (a+b)/2.0 \n",
    "    return xZero"
   ]
  },
  {
   "cell_type": "code",
   "execution_count": null,
   "metadata": {
    "collapsed": true,
    "deletable": true,
    "editable": true
   },
   "outputs": [],
   "source": []
  }
 ],
 "metadata": {
  "kernelspec": {
   "display_name": "Python 3",
   "language": "python",
   "name": "python3"
  },
  "language_info": {
   "codemirror_mode": {
    "name": "ipython",
    "version": 3
   },
   "file_extension": ".py",
   "mimetype": "text/x-python",
   "name": "python",
   "nbconvert_exporter": "python",
   "pygments_lexer": "ipython3",
   "version": "3.5.2"
  }
 },
 "nbformat": 4,
 "nbformat_minor": 0
}
