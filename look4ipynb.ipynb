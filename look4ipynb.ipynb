{
 "cells": [
  {
   "cell_type": "code",
   "execution_count": 1,
   "metadata": {
    "collapsed": true
   },
   "outputs": [],
   "source": [
    "import os "
   ]
  },
  {
   "cell_type": "code",
   "execution_count": 3,
   "metadata": {
    "collapsed": false
   },
   "outputs": [
    {
     "data": {
      "text/plain": [
       "['HilbertCurve.ipynb',\n",
       " 'physique',\n",
       " 'statistiques',\n",
       " 'jeudemots',\n",
       " 'Diagramme_ternaire.md',\n",
       " 'cheatsheet.ipynb',\n",
       " 'RSA.md',\n",
       " 'static',\n",
       " 'visualisation',\n",
       " 'RSA.ipynb',\n",
       " '.ipynb_checkpoints',\n",
       " 'deja.md',\n",
       " 'images',\n",
       " 'k-color.ipynb',\n",
       " 'optimisation',\n",
       " 'about',\n",
       " 'HilbertCurve.md',\n",
       " 'cheatsheet.md',\n",
       " 'data',\n",
       " 'Diagramme_ternaire.ipynb']"
      ]
     },
     "execution_count": 3,
     "metadata": {},
     "output_type": "execute_result"
    }
   ],
   "source": [
    "os.listdir('content')"
   ]
  },
  {
   "cell_type": "code",
   "execution_count": null,
   "metadata": {
    "collapsed": true
   },
   "outputs": [],
   "source": []
  }
 ],
 "metadata": {
  "kernelspec": {
   "display_name": "Python 3",
   "language": "python",
   "name": "python3"
  },
  "language_info": {
   "codemirror_mode": {
    "name": "ipython",
    "version": 3
   },
   "file_extension": ".py",
   "mimetype": "text/x-python",
   "name": "python",
   "nbconvert_exporter": "python",
   "pygments_lexer": "ipython3",
   "version": "3.5.2"
  }
 },
 "nbformat": 4,
 "nbformat_minor": 2
}
